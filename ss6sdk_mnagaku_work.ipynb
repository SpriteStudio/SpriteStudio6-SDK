{
 "cells": [
  {
   "cell_type": "markdown",
   "metadata": {
    "lc_cell_meme": {
     "current": "9ea69722-b945-11e7-8edb-0242ac110002",
     "next": "fc8f780e-b8aa-11e7-9d3a-0242ac110002",
     "previous": null
    }
   },
   "source": [
    "端末上のソース一式を共有\n",
    "\n",
    "```\n",
    "git clone --depth 1 https://github.com/SpriteStudio/SpriteStudio6-SDK.git\n",
    "```\n",
    "\n",
    "相当のをマウント\n",
    "\n",
    "```\n",
    "docker run -d -v c:/Users/mnaga/Documents/SpriteStudio6-SDK:/notebooks/ss6sdk \\\n",
    "    -p 8888:8888 --name ss6sdknb niicloudoperation/notebook\n",
    "```\n"
   ]
  },
  {
   "cell_type": "code",
   "execution_count": 1,
   "metadata": {
    "deletable": false,
    "editable": false,
    "lc_cell_meme": {
     "current": "fc8f780e-b8aa-11e7-9d3a-0242ac110002",
     "history": [
      {
       "current": "fc8f780e-b8aa-11e7-9d3a-0242ac110002",
       "next": null,
       "previous": null
      },
      {
       "current": "fc8f780e-b8aa-11e7-9d3a-0242ac110002",
       "next": "4494c46a-b8ab-11e7-9d3a-0242ac110002",
       "previous": null
      },
      {
       "current": "fc8f780e-b8aa-11e7-9d3a-0242ac110002",
       "next": "4494c46a-b8ab-11e7-9d3a-0242ac110002",
       "previous": "9ea69722-b945-11e7-8edb-0242ac110002"
      }
     ],
     "next": "fdd1b8e0-b962-11e7-ab32-0242ac110002",
     "previous": "9ea69722-b945-11e7-8edb-0242ac110002"
    },
    "pinned_outputs": [
     {
      "execution_count": 1,
      "outputs": [
       {
        "name": "stdout",
        "output_type": "stream",
        "text": "Ign http://cdn-fastly.deb.debian.org jessie InRelease\nGet:1 http://cdn-fastly.deb.debian.org jessie-updates InRelease [145 kB]\nGet:2 http://cdn-fastly.deb.debian.org jessie/updates InRelease [63.1 kB]\nGet:3 http://cdn-fastly.deb.debian.org jessie Release.gpg [2,373 B]\nGet:4 http://cdn-fastly.deb.debian.org jessie Release [148 kB]\nGet:5 http://cdn-fastly.deb.debian.org jessie-updates/main amd64 Packages [23.1 kB]\nGet:6 http://cdn-fastly.deb.debian.org jessie/updates/main amd64 Packages [548 kB]\nGet:7 http://cdn-fastly.deb.debian.org jessie/main amd64 Packages [9,063 kB]\nFetched 9,993 kB in 5s (1,938 kB/s)   \nReading package lists... Done\nReading package lists... Done\nBuilding dependency tree       \nReading state information... Done\nCalculating upgrade... Done\n0 upgraded, 0 newly installed, 0 to remove and 0 not upgraded.\nReading package lists... Done\nBuilding dependency tree       \nReading state information... Done\nbuild-essential is already the newest version.\nThe following extra packages will be installed:\n  cmake-data libarchive13 liblzo2-2\nSuggested packages:\n  codeblocks eclipse ninja-build lrzip\nThe following NEW packages will be installed:\n  cmake cmake-data libarchive13 liblzo2-2 nkf\n0 upgraded, 5 newly installed, 0 to remove and 0 not upgraded.\nNeed to get 3,766 kB of archives.\nAfter this operation, 17.8 MB of additional disk space will be used.\nGet:1 http://cdn-fastly.deb.debian.org/debian/ jessie/main cmake-data all 3.0.2-1+deb8u1 [929 kB]\nGet:2 http://cdn-fastly.deb.debian.org/debian/ jessie/main liblzo2-2 amd64 2.08-1.2 [54.6 kB]\nGet:3 http://cdn-fastly.deb.debian.org/debian/ jessie/main libarchive13 amd64 3.1.2-11+deb8u3 [271 kB]\nGet:4 http://cdn-fastly.deb.debian.org/debian/ jessie/main cmake amd64 3.0.2-1+deb8u1 [2,385 kB]\nGet:5 http://cdn-fastly.deb.debian.org/debian/ jessie/main nkf amd64 2.13-4 [127 kB]\nFetched 3,766 kB in 0s (7,344 kB/s)\ndebconf: delaying package configuration, since apt-utils is not installed\nSelecting previously unselected package cmake-data.\n(Reading database ... 84295 files and directories currently installed.)\nPreparing to unpack .../cmake-data_3.0.2-1+deb8u1_all.deb ...\nUnpacking cmake-data (3.0.2-1+deb8u1) ...\nSelecting previously unselected package liblzo2-2:amd64.\nPreparing to unpack .../liblzo2-2_2.08-1.2_amd64.deb ...\nUnpacking liblzo2-2:amd64 (2.08-1.2) ...\nSelecting previously unselected package libarchive13:amd64.\nPreparing to unpack .../libarchive13_3.1.2-11+deb8u3_amd64.deb ...\nUnpacking libarchive13:amd64 (3.1.2-11+deb8u3) ...\nSelecting previously unselected package cmake.\nPreparing to unpack .../cmake_3.0.2-1+deb8u1_amd64.deb ...\nUnpacking cmake (3.0.2-1+deb8u1) ...\nSelecting previously unselected package nkf.\nPreparing to unpack .../archives/nkf_2.13-4_amd64.deb ...\nUnpacking nkf (2.13-4) ...\nSetting up cmake-data (3.0.2-1+deb8u1) ...\nInstall cmake-data for emacs24\ninstall/cmake-data: Byte-compiling for emacs24\nWrote /usr/share/emacs24/site-lisp/cmake-data/cmake-mode.elc\nSetting up liblzo2-2:amd64 (2.08-1.2) ...\nSetting up libarchive13:amd64 (3.1.2-11+deb8u3) ...\nSetting up cmake (3.0.2-1+deb8u1) ...\nSetting up nkf (2.13-4) ...\nProcessing triggers for libc-bin (2.19-18+deb8u10) ...\nReading package lists... Done\nBuilding dependency tree       \nReading state information... Done\n0 upgraded, 0 newly installed, 0 to remove and 0 not upgraded.\n"
       }
      ]
     }
    ],
    "run_through_control": {
     "frozen": true
    },
    "scrolled": true
   },
   "outputs": [
    {
     "name": "stdout",
     "output_type": "stream",
     "text": [
      "Ign http://cdn-fastly.deb.debian.org jessie InRelease\n",
      "Get:1 http://cdn-fastly.deb.debian.org jessie-updates InRelease [145 kB]\n",
      "Get:2 http://cdn-fastly.deb.debian.org jessie/updates InRelease [63.1 kB]\n",
      "Get:3 http://cdn-fastly.deb.debian.org jessie Release.gpg [2,373 B]\n",
      "Get:4 http://cdn-fastly.deb.debian.org jessie Release [148 kB]     \n",
      "Get:5 http://cdn-fastly.deb.debian.org jessie-updates/main amd64 Packages [23.2 kB]\n",
      "Get:6 http://cdn-fastly.deb.debian.org jessie/updates/main amd64 Packages [610 kB]\n",
      "Get:7 http://cdn-fastly.deb.debian.org jessie/main amd64 Packages [9,063 kB]\n",
      "Fetched 10.1 MB in 5s (1,961 kB/s)                      \n",
      "Reading package lists... Done\n",
      "Reading package lists... Done\n",
      "Building dependency tree       \n",
      "Reading state information... Done\n",
      "Calculating upgrade... Done\n",
      "The following packages will be upgraded:\n",
      "  curl libcurl3 libcurl3-gnutls libssl-dev libssl-doc libssl1.0.0 openssl\n",
      "  tzdata wget\n",
      "9 upgraded, 0 newly installed, 0 to remove and 0 not upgraded.\n",
      "Need to get 5,602 kB of archives.\n",
      "After this operation, 369 kB of additional disk space will be used.\n",
      "Get:1 http://cdn-fastly.deb.debian.org/debian-security/ jessie/updates/main libssl-doc all 1.0.1t-1+deb8u7 [1,168 kB]\n",
      "Get:2 http://cdn-fastly.deb.debian.org/debian-security/ jessie/updates/main libssl-dev amd64 1.0.1t-1+deb8u7 [1,283 kB]\n",
      "Get:3 http://cdn-fastly.deb.debian.org/debian-security/ jessie/updates/main libssl1.0.0 amd64 1.0.1t-1+deb8u7 [1,046 kB]\n",
      "Get:4 http://cdn-fastly.deb.debian.org/debian-security/ jessie/updates/main curl amd64 7.38.0-4+deb8u7 [201 kB]\n",
      "Get:5 http://cdn-fastly.deb.debian.org/debian-security/ jessie/updates/main libcurl3 amd64 7.38.0-4+deb8u7 [259 kB]\n",
      "Get:6 http://cdn-fastly.deb.debian.org/debian-security/ jessie/updates/main libcurl3-gnutls amd64 7.38.0-4+deb8u7 [252 kB]\n",
      "Get:7 http://cdn-fastly.deb.debian.org/debian/ jessie-updates/main tzdata all 2017c-0+deb8u1 [232 kB]\n",
      "Get:8 http://cdn-fastly.deb.debian.org/debian-security/ jessie/updates/main wget amd64 1.16-1+deb8u4 [496 kB]\n",
      "Get:9 http://cdn-fastly.deb.debian.org/debian-security/ jessie/updates/main openssl amd64 1.0.1t-1+deb8u7 [665 kB]\n",
      "Fetched 5,602 kB in 0s (6,456 kB/s)\n",
      "debconf: delaying package configuration, since apt-utils is not installed\n",
      "(Reading database ... 84295 files and directories currently installed.)\n",
      "Preparing to unpack .../libssl-doc_1.0.1t-1+deb8u7_all.deb ...\n",
      "Unpacking libssl-doc (1.0.1t-1+deb8u7) over (1.0.1t-1+deb8u6) ...\n",
      "Preparing to unpack .../libssl-dev_1.0.1t-1+deb8u7_amd64.deb ...\n",
      "Unpacking libssl-dev:amd64 (1.0.1t-1+deb8u7) over (1.0.1t-1+deb8u6) ...\n",
      "Preparing to unpack .../libssl1.0.0_1.0.1t-1+deb8u7_amd64.deb ...\n",
      "Unpacking libssl1.0.0:amd64 (1.0.1t-1+deb8u7) over (1.0.1t-1+deb8u6) ...\n",
      "Preparing to unpack .../curl_7.38.0-4+deb8u7_amd64.deb ...\n",
      "Unpacking curl (7.38.0-4+deb8u7) over (7.38.0-4+deb8u6) ...\n",
      "Preparing to unpack .../libcurl3_7.38.0-4+deb8u7_amd64.deb ...\n",
      "Unpacking libcurl3:amd64 (7.38.0-4+deb8u7) over (7.38.0-4+deb8u6) ...\n",
      "Preparing to unpack .../libcurl3-gnutls_7.38.0-4+deb8u7_amd64.deb ...\n",
      "Unpacking libcurl3-gnutls:amd64 (7.38.0-4+deb8u7) over (7.38.0-4+deb8u6) ...\n",
      "Preparing to unpack .../tzdata_2017c-0+deb8u1_all.deb ...\n",
      "Unpacking tzdata (2017c-0+deb8u1) over (2017b-0+deb8u1) ...\n",
      "Setting up tzdata (2017c-0+deb8u1) ...\n",
      "debconf: unable to initialize frontend: Dialog\n",
      "debconf: (No usable dialog-like program is installed, so the dialog based frontend cannot be used. at /usr/share/perl5/Debconf/FrontEnd/Dialog.pm line 76.)\n",
      "debconf: falling back to frontend: Readline\n",
      "\n",
      "Current default time zone: 'Etc/UTC'\n",
      "Local time is now:      Thu Nov  9 05:13:04 UTC 2017.\n",
      "Universal Time is now:  Thu Nov  9 05:13:04 UTC 2017.\n",
      "Run 'dpkg-reconfigure tzdata' if you wish to change it.\n",
      "\n",
      "(Reading database ... 84292 files and directories currently installed.)\n",
      "Preparing to unpack .../wget_1.16-1+deb8u4_amd64.deb ...\n",
      "Unpacking wget (1.16-1+deb8u4) over (1.16-1+deb8u2) ...\n",
      "Preparing to unpack .../openssl_1.0.1t-1+deb8u7_amd64.deb ...\n",
      "Unpacking openssl (1.0.1t-1+deb8u7) over (1.0.1t-1+deb8u6) ...\n",
      "Setting up libssl-doc (1.0.1t-1+deb8u7) ...\n",
      "Setting up libssl1.0.0:amd64 (1.0.1t-1+deb8u7) ...\n",
      "debconf: unable to initialize frontend: Dialog\n",
      "debconf: (No usable dialog-like program is installed, so the dialog based frontend cannot be used. at /usr/share/perl5/Debconf/FrontEnd/Dialog.pm line 76.)\n",
      "debconf: falling back to frontend: Readline\n",
      "Setting up libssl-dev:amd64 (1.0.1t-1+deb8u7) ...\n",
      "Setting up libcurl3:amd64 (7.38.0-4+deb8u7) ...\n",
      "Setting up curl (7.38.0-4+deb8u7) ...\n",
      "Setting up libcurl3-gnutls:amd64 (7.38.0-4+deb8u7) ...\n",
      "Setting up wget (1.16-1+deb8u4) ...\n",
      "Setting up openssl (1.0.1t-1+deb8u7) ...\n",
      "Processing triggers for libc-bin (2.19-18+deb8u10) ...\n",
      "Reading package lists... Done\n",
      "Building dependency tree       \n",
      "Reading state information... Done\n",
      "build-essential is already the newest version.\n",
      "The following extra packages will be installed:\n",
      "  cmake-data libarchive13 liblzo2-2\n",
      "Suggested packages:\n",
      "  codeblocks eclipse ninja-build lrzip\n",
      "The following NEW packages will be installed:\n",
      "  cmake cmake-data libarchive13 liblzo2-2 nkf\n",
      "0 upgraded, 5 newly installed, 0 to remove and 0 not upgraded.\n",
      "Need to get 3,766 kB of archives.\n",
      "After this operation, 17.8 MB of additional disk space will be used.\n",
      "Get:1 http://cdn-fastly.deb.debian.org/debian/ jessie/main cmake-data all 3.0.2-1+deb8u1 [929 kB]\n",
      "Get:2 http://cdn-fastly.deb.debian.org/debian/ jessie/main liblzo2-2 amd64 2.08-1.2 [54.6 kB]\n",
      "Get:3 http://cdn-fastly.deb.debian.org/debian/ jessie/main libarchive13 amd64 3.1.2-11+deb8u3 [271 kB]\n",
      "Get:4 http://cdn-fastly.deb.debian.org/debian/ jessie/main cmake amd64 3.0.2-1+deb8u1 [2,385 kB]\n",
      "Get:5 http://cdn-fastly.deb.debian.org/debian/ jessie/main nkf amd64 2.13-4 [127 kB]\n",
      "Fetched 3,766 kB in 0s (8,251 kB/s)\n",
      "debconf: delaying package configuration, since apt-utils is not installed\n",
      "Selecting previously unselected package cmake-data.\n",
      "(Reading database ... 84292 files and directories currently installed.)\n",
      "Preparing to unpack .../cmake-data_3.0.2-1+deb8u1_all.deb ...\n",
      "Unpacking cmake-data (3.0.2-1+deb8u1) ...\n",
      "Selecting previously unselected package liblzo2-2:amd64.\n",
      "Preparing to unpack .../liblzo2-2_2.08-1.2_amd64.deb ...\n",
      "Unpacking liblzo2-2:amd64 (2.08-1.2) ...\n",
      "Selecting previously unselected package libarchive13:amd64.\n",
      "Preparing to unpack .../libarchive13_3.1.2-11+deb8u3_amd64.deb ...\n",
      "Unpacking libarchive13:amd64 (3.1.2-11+deb8u3) ...\n",
      "Selecting previously unselected package cmake.\n",
      "Preparing to unpack .../cmake_3.0.2-1+deb8u1_amd64.deb ...\n",
      "Unpacking cmake (3.0.2-1+deb8u1) ...\n",
      "Selecting previously unselected package nkf.\n",
      "Preparing to unpack .../archives/nkf_2.13-4_amd64.deb ...\n",
      "Unpacking nkf (2.13-4) ...\n",
      "Setting up cmake-data (3.0.2-1+deb8u1) ...\n",
      "Install cmake-data for emacs24\n",
      "install/cmake-data: Byte-compiling for emacs24\n",
      "Wrote /usr/share/emacs24/site-lisp/cmake-data/cmake-mode.elc\n",
      "Setting up liblzo2-2:amd64 (2.08-1.2) ...\n",
      "Setting up libarchive13:amd64 (3.1.2-11+deb8u3) ...\n",
      "Setting up cmake (3.0.2-1+deb8u1) ...\n",
      "Setting up nkf (2.13-4) ...\n",
      "Processing triggers for libc-bin (2.19-18+deb8u10) ...\n",
      "Reading package lists... Done\n",
      "Building dependency tree       \n",
      "Reading state information... Done\n",
      "0 upgraded, 0 newly installed, 0 to remove and 0 not upgraded.\n"
     ]
    }
   ],
   "source": [
    "!sudo apt-get update && sudo apt-get upgrade -y && \\\n",
    "sudo apt-get install -y build-essential cmake nkf && \\\n",
    "sudo apt-get clean all && sudo apt-get autoremove"
   ]
  },
  {
   "cell_type": "markdown",
   "metadata": {
    "lc_cell_meme": {
     "current": "fdd1b8e0-b962-11e7-ab32-0242ac110002",
     "next": "2d715dee-b8af-11e7-9d3a-0242ac110002",
     "previous": "fc8f780e-b8aa-11e7-9d3a-0242ac110002"
    }
   },
   "source": [
    "文字コードと改行記号を確認し、UTF8BOM+CRLFに変換する。"
   ]
  },
  {
   "cell_type": "code",
   "execution_count": 2,
   "metadata": {
    "deletable": false,
    "editable": false,
    "lc_cell_meme": {
     "current": "2d715dee-b8af-11e7-9d3a-0242ac110002",
     "history": [
      {
       "current": "2d715dee-b8af-11e7-9d3a-0242ac110002",
       "next": null,
       "previous": "d39ffe86-b8ab-11e7-9d3a-0242ac110002"
      },
      {
       "current": "2d715dee-b8af-11e7-9d3a-0242ac110002",
       "next": "2d715dee-b8af-11e7-9d3a-0242ac110002",
       "previous": "d39ffe86-b8ab-11e7-9d3a-0242ac110002"
      }
     ],
     "next": "2d715dee-b8af-11e7-9d3a-0242ac110002",
     "previous": "fdd1b8e0-b962-11e7-ab32-0242ac110002"
    },
    "pinned_outputs": [
     {
      "execution_count": 4,
      "outputs": [
       {
        "name": "stdout",
        "output_type": "stream",
        "text": "ss6sdk/Build/CMakeLists.txt  ASCII (LF)\nss6sdk/Build/Converter/BinaryDataWriter.cpp  UTF-8 (BOM) (LF)\nss6sdk/Build/Converter/BinaryDataWriter.h  UTF-8 (BOM) (LF)\nss6sdk/Build/Converter/FileUtil.cpp  UTF-8 (BOM) (LF)\nss6sdk/Build/Converter/FileUtil.h  UTF-8 (BOM) (LF)\nss6sdk/Build/Converter/Lump.cpp  UTF-8 (BOM) (LF)\nss6sdk/Build/Converter/Lump.h  UTF-8 (BOM) (LF)\nss6sdk/Build/Converter/LumpExporter.cpp  UTF-8 (BOM) (LF)\nss6sdk/Build/Converter/LumpExporter.h  UTF-8 (BOM) (LF)\nss6sdk/Build/Converter/main.cpp  UTF-8 (BOM) (LF)\nss6sdk/Build/Converter/SsPlayerConverter.h  UTF-8 (BOM) (LF)\nss6sdk/Build/example/demo.c  ASCII (LF)\nss6sdk/Build/example/demo.h  ASCII (LF)\nss6sdk/Build/example/example_fbo.c  ASCII (LF)\nss6sdk/Build/example/example_gl2.c  ASCII (LF)\nss6sdk/Build/example/example_gl3.c  ASCII (LF)\nss6sdk/Build/example/example_gles2.c  ASCII (LF)\nss6sdk/Build/example/example_gles3.c  ASCII (LF)\nss6sdk/Build/example/images.txt  ASCII (LF)\nss6sdk/Build/example/LICENSE.txt  ASCII (LF)\nss6sdk/Build/example/perf.c  ASCII (LF)\nss6sdk/Build/example/perf.h  ASCII (LF)\nss6sdk/Build/example/stb_image_write.h  ASCII (LF)\nss6sdk/Build/plistConverter/plistConverter.cpp  Shift_JIS (LF)\nss6sdk/Build/plistConverter/ReadMe.txt  UTF-8 (BOM) (LF)\nss6sdk/Build/plistConverter/stdafx.cpp  Shift_JIS (LF)\nss6sdk/Build/plistConverter/stdafx.h  Shift_JIS (LF)\nss6sdk/Build/plistConverter/targetver.h  Shift_JIS (LF)\nss6sdk/Build/PythonBinder/bind_Animation.cpp  ASCII (LF)\nss6sdk/Build/PythonBinder/bind_Animation.h  Shift_JIS (LF)\nss6sdk/Build/PythonBinder/bind_AnimePack.cpp  Shift_JIS (LF)\nss6sdk/Build/PythonBinder/bind_AnimePack.h  ASCII (LF)\nss6sdk/Build/PythonBinder/bind_Cellmap.cpp  ASCII (LF)\nss6sdk/Build/PythonBinder/bind_Cellmap.h  ASCII (LF)\nss6sdk/Build/PythonBinder/bind_SsAnimeDecoder.cpp  Shift_JIS (LF)\nss6sdk/Build/PythonBinder/bind_SsAnimeDecoder.h  ASCII (LF)\nss6sdk/Build/PythonBinder/bind_SsAttribute.cpp  ASCII (LF)\nss6sdk/Build/PythonBinder/bind_SsAttribute.h  ASCII (LF)\nss6sdk/Build/PythonBinder/bind_SsKeyframe.cpp  ASCII (LF)\nss6sdk/Build/PythonBinder/bind_SsKeyframe.h  Shift_JIS (LF)\nss6sdk/Build/PythonBinder/bind_SsPart.cpp  ASCII (LF)\nss6sdk/Build/PythonBinder/bind_SsPart.h  Shift_JIS (LF)\nss6sdk/Build/PythonBinder/bind_SsPartAnime.cpp  ASCII (LF)\nss6sdk/Build/PythonBinder/bind_SsPartAnime.h  ASCII (LF)\nss6sdk/Build/PythonBinder/bind_SSXML.cpp  Shift_JIS (LF)\nss6sdk/Build/PythonBinder/bind_SSXML.h  Shift_JIS (LF)\nss6sdk/Build/PythonBinder/package_SpriteStudio.cpp  ASCII (LF)\nss6sdk/Build/PythonBinder/package_SpriteStudio.h  ASCII (LF)\nss6sdk/Build/PythonBinder/script_base_conv.cpp  Shift_JIS (LF)\nss6sdk/Build/Ss6ConverterGUI/Ss6ConverterGUI/main.cpp  ASCII (LF)\nss6sdk/Build/Ss6ConverterGUI/Ss6ConverterGUI/mainwindow.cpp  UTF-8 (LF)\nss6sdk/Build/Ss6ConverterGUI/Ss6ConverterGUI/mainwindow.h  ASCII (LF)\nss6sdk/Build/Ss6ConverterGUI/Ss6ConverterGUI/readme.txt  Shift_JIS (LF)\nss6sdk/Build/TestScript/readme.txt  Shift_JIS (LF)\nss6sdk/Build/TestScript/SpriteStudio_pythonモジュール仕様書.txt  Shift_JIS (LF)\nss6sdk/Build/UnitTest/gtest/gtest.h  ASCII (LF)\nss6sdk/Build/UnitTest/gtest-all.cc  UTF-8 (BOM) (LF)\nss6sdk/Build/UnitTest/gtest_main.cc  UTF-8 (BOM) (LF)\nss6sdk/Build/UnitTest/readme.txt  Shift_JIS (LF)\nss6sdk/Build/UnitTest/unit_ssloader_ssae.cc  UTF-8 (LF)\nss6sdk/Build/UnitTest/unit_ssloader_ssce.cc  UTF-8 (LF)\nss6sdk/Build/UnitTest/unit_ssloader_sspj.cc  UTF-8 (LF)\nss6sdk/Build/Viewer/CMakeLists.txt  ASCII (LF)\nss6sdk/Build/Viewer/source/main_dx9.cpp  Shift_JIS (LF)\nss6sdk/Build/Viewer/source/main_gl.cpp  ASCII (LF)\nss6sdk/Build/Viewer/source/myscene.cpp  UTF-8 (BOM) (LF)\nss6sdk/Build/Viewer/source/myscene.h  UTF-8 (BOM) (LF)\nss6sdk/Build/Viewer/source/script_base_conv.cpp  Shift_JIS (LF)\nss6sdk/Common/Animator/ISsEffectRender.h  Shift_JIS (LF)\nss6sdk/Common/Animator/MersenneTwister.h  ASCII (LF)\nss6sdk/Common/Animator/ssplayer_animedecode.cpp  UTF-8 (LF)\nss6sdk/Common/Animator/ssplayer_animedecode.h  UTF-8 (LF)\nss6sdk/Common/Animator/ssplayer_cellmap.cpp  UTF-8 (LF)\nss6sdk/Common/Animator/ssplayer_cellmap.h  UTF-8 (LF)\nss6sdk/Common/Animator/ssplayer_effect.cpp  UTF-8 (LF)\nss6sdk/Common/Animator/ssplayer_effect.h  UTF-8 (LF)\nss6sdk/Common/Animator/ssplayer_effect2.cpp  UTF-8 (LF)\nss6sdk/Common/Animator/ssplayer_effect2.h  Shift_JIS (LF)\nss6sdk/Common/Animator/ssplayer_effectfunction.cpp  UTF-8 (LF)\nss6sdk/Common/Animator/ssplayer_effectfunction.h  Shift_JIS (LF)\nss6sdk/Common/Animator/ssplayer_macro.h  ASCII (LF)\nss6sdk/Common/Animator/ssplayer_matrix.cpp  ASCII (LF)\nss6sdk/Common/Animator/ssplayer_matrix.h  ASCII (LF)\nss6sdk/Common/Animator/ssplayer_mesh.cpp  UTF-8 (LF)\nss6sdk/Common/Animator/ssplayer_mesh.h  Shift_JIS (LF)\nss6sdk/Common/Animator/ssplayer_PartState.cpp  UTF-8 (LF)\nss6sdk/Common/Animator/ssplayer_PartState.h  UTF-8 (LF)\nss6sdk/Common/Animator/ssplayer_render.cpp  ASCII (LF)\nss6sdk/Common/Animator/ssplayer_render.h  ASCII (LF)\nss6sdk/Common/Animator/ssplayer_types.h  ASCII (LF)\nss6sdk/Common/Animator/xorshift32.h  ASCII (LF)\nss6sdk/Common/Drawer/ssplayer_render_dx9.cpp  UTF-8 (BOM) (LF)\nss6sdk/Common/Drawer/ssplayer_render_dx9.h  UTF-8 (BOM) (LF)\nss6sdk/Common/Drawer/ssplayer_render_gl.cpp  UTF-8 (BOM) (LF)\nss6sdk/Common/Drawer/ssplayer_render_gl.h  UTF-8 (BOM) (LF)\nss6sdk/Common/Drawer/ssplayer_shader_gl.cpp  UTF-8 (BOM) (LF)\nss6sdk/Common/Drawer/ssplayer_shader_gl.h  UTF-8 (BOM) (LF)\nss6sdk/Common/Helper/DebugPrint.cpp  ASCII (LF)\nss6sdk/Common/Helper/DebugPrint.h  ASCII (LF)\nss6sdk/Common/Helper/DirectX/d3dsimple.cpp  Shift_JIS (LF)\nss6sdk/Common/Helper/DirectX/d3dsimple.h  Shift_JIS (LF)\nss6sdk/Common/Helper/DirectX/SSTextureDX9.cpp  UTF-8 (BOM) (LF)\nss6sdk/Common/Helper/DirectX/SSTextureDX9.h  UTF-8 (BOM) (LF)\nss6sdk/Common/Helper/IsshTexture.cpp  ASCII (LF)\nss6sdk/Common/Helper/IsshTexture.h  Shift_JIS (LF)\nss6sdk/Common/Helper/MacOS/OSXFileOpen.h  UTF-8 (BOM) (LF)\nss6sdk/Common/Helper/OpenGL/SSTextureGL.cpp  UTF-8 (BOM) (LF)\nss6sdk/Common/Helper/OpenGL/SSTextureGL.h  UTF-8 (BOM) (LF)\nss6sdk/Common/Helper/ssHelper.h  ASCII (LF)\nss6sdk/Common/Helper/sshObject.cpp  UTF-8 (BOM) (LF)\nss6sdk/Common/Helper/sshObject.h  UTF-8 (BOM) (LF)\nss6sdk/Common/Helper/sshScene.cpp  UTF-8 (BOM) (LF)\nss6sdk/Common/Helper/sshScene.h  UTF-8 (BOM) (LF)\nss6sdk/Common/Helper/sshTask.cpp  UTF-8 (BOM) (LF)\nss6sdk/Common/Helper/sshTask.h  UTF-8 (LF)\nss6sdk/Common/Helper/sshTextureBMP.cpp  UTF-8 (BOM) (LF)\nss6sdk/Common/Helper/sshTextureBMP.h  UTF-8 (BOM) (LF)\nss6sdk/Common/Helper/stb_image.c  UTF-8 (BOM) (LF)\nss6sdk/Common/Helper/stb_image.h  UTF-8 (BOM) (LF)\nss6sdk/Common/Helper/Win/WinMain.cpp  UTF-8 (BOM) (LF)\nss6sdk/Common/Helper/XPFileOpenDlg.cpp  UTF-8 (LF)\nss6sdk/Common/Helper/XPFileOpenDlg.h  UTF-8 (BOM) (LF)\nss6sdk/Common/Loader/babel/babel.cpp  Shift_JIS (LF)\nss6sdk/Common/Loader/babel/babel.h  Shift_JIS (LF)\nss6sdk/Common/Loader/ssarchiver.cpp  UTF-8 (LF)\nss6sdk/Common/Loader/ssarchiver.h  UTF-8 (LF)\nss6sdk/Common/Loader/ssattribute.cpp  UTF-8 (LF)\nss6sdk/Common/Loader/ssattribute.h  UTF-8 (LF)\nss6sdk/Common/Loader/SsEffectBehavior.cpp  ASCII (LF)\nss6sdk/Common/Loader/SsEffectBehavior.h  UTF-8 (LF)\nss6sdk/Common/Loader/SsEffectElement.cpp  UTF-8 (LF)\nss6sdk/Common/Loader/SsEffectElement.h  UTF-8 (LF)\nss6sdk/Common/Loader/ssInterpolation.cpp  UTF-8 (LF)\nss6sdk/Common/Loader/ssInterpolation.h  UTF-8 (LF)\nss6sdk/Common/Loader/ssloader.h  UTF-8 (LF)\nss6sdk/Common/Loader/ssloader_ssae.cpp  ASCII (LF)\nss6sdk/Common/Loader/ssloader_ssae.h  UTF-8 (LF)\nss6sdk/Common/Loader/ssloader_ssce.cpp  ASCII (LF)\nss6sdk/Common/Loader/ssloader_ssce.h  UTF-8 (LF)\nss6sdk/Common/Loader/ssloader_ssee.cpp  ASCII (LF)\nss6sdk/Common/Loader/ssloader_ssee.h  UTF-8 (LF)\nss6sdk/Common/Loader/ssloader_sspj.cpp  UTF-8 (LF)\nss6sdk/Common/Loader/ssloader_sspj.h  UTF-8 (LF)\nss6sdk/Common/Loader/ssstring_uty.cpp  UTF-8 (LF)\nss6sdk/Common/Loader/ssstring_uty.h  UTF-8 (LF)\nss6sdk/Common/Loader/sstypes.cpp  UTF-8 (LF)\nss6sdk/Common/Loader/sstypes.h  UTF-8 (LF)\nss6sdk/Common/Loader/ssvalue.cpp  UTF-8 (LF)\nss6sdk/Common/Loader/ssvalue.h  UTF-8 (LF)\nss6sdk/Common/Loader/tinyxml2/tinyxml2.cpp  ASCII (LF)\nss6sdk/Common/Loader/tinyxml2/tinyxml2.h  ASCII (LF)\n"
       }
      ]
     }
    ],
    "run_through_control": {
     "frozen": true
    }
   },
   "outputs": [
    {
     "name": "stdout",
     "output_type": "stream",
     "text": [
      "find: `ss6sdk': No such file or directory\r\n"
     ]
    }
   ],
   "source": [
    "!find ss6sdk -type f \\( -name \\*.h -or -name \\*.c -or -name \\*.cpp -or -name \\*.cc -or -name \\*.txt \\) \\\n",
    "| xargs -I{} sh -c \"echo -n {} ' ' && nkf --guess {}\""
   ]
  },
  {
   "cell_type": "code",
   "execution_count": 3,
   "metadata": {
    "deletable": false,
    "editable": false,
    "lc_cell_meme": {
     "current": "2d715dee-b8af-11e7-9d3a-0242ac110002",
     "history": [
      {
       "current": "2d715dee-b8af-11e7-9d3a-0242ac110002",
       "next": null,
       "previous": "d39ffe86-b8ab-11e7-9d3a-0242ac110002"
      },
      {
       "current": "2d715dee-b8af-11e7-9d3a-0242ac110002",
       "next": null,
       "previous": "d39ffe86-b8ab-11e7-9d3a-0242ac110002"
      },
      {
       "current": "2d715dee-b8af-11e7-9d3a-0242ac110002",
       "next": null,
       "previous": "2d715dee-b8af-11e7-9d3a-0242ac110002"
      }
     ],
     "next": "2d715dee-b8af-11e7-9d3a-0242ac110002",
     "previous": "2d715dee-b8af-11e7-9d3a-0242ac110002"
    },
    "run_through_control": {
     "frozen": true
    }
   },
   "outputs": [
    {
     "name": "stdout",
     "output_type": "stream",
     "text": [
      "find: `ss6sdk': No such file or directory\r\n"
     ]
    }
   ],
   "source": [
    "!find ss6sdk -type f \\( -name \\*.h -or -name \\*.c -or -name \\*.cpp -or -name \\*.cc -or -name \\*.txt \\) \\\n",
    "| xargs -I{} sh -c \"nkf -w8Lw --overwrite {}\""
   ]
  },
  {
   "cell_type": "code",
   "execution_count": 4,
   "metadata": {
    "deletable": false,
    "editable": false,
    "lc_cell_meme": {
     "current": "2d715dee-b8af-11e7-9d3a-0242ac110002",
     "history": [
      {
       "current": "2d715dee-b8af-11e7-9d3a-0242ac110002",
       "next": null,
       "previous": "d39ffe86-b8ab-11e7-9d3a-0242ac110002"
      },
      {
       "current": "2d715dee-b8af-11e7-9d3a-0242ac110002",
       "next": null,
       "previous": "d39ffe86-b8ab-11e7-9d3a-0242ac110002"
      },
      {
       "current": "2d715dee-b8af-11e7-9d3a-0242ac110002",
       "next": null,
       "previous": "2d715dee-b8af-11e7-9d3a-0242ac110002"
      },
      {
       "current": "2d715dee-b8af-11e7-9d3a-0242ac110002",
       "next": "068b635c-b961-11e7-ab32-0242ac110002",
       "previous": "2d715dee-b8af-11e7-9d3a-0242ac110002"
      }
     ],
     "next": "20cabf9a-b963-11e7-ab32-0242ac110002",
     "previous": "2d715dee-b8af-11e7-9d3a-0242ac110002"
    },
    "pinned_outputs": [
     {
      "execution_count": 6,
      "outputs": [
       {
        "name": "stdout",
        "output_type": "stream",
        "text": "ss6sdk/Build/CMakeLists.txt  UTF-8 (BOM) (CRLF)\nss6sdk/Build/Converter/BinaryDataWriter.cpp  UTF-8 (BOM) (CRLF)\nss6sdk/Build/Converter/BinaryDataWriter.h  UTF-8 (BOM) (CRLF)\nss6sdk/Build/Converter/FileUtil.cpp  UTF-8 (BOM) (CRLF)\nss6sdk/Build/Converter/FileUtil.h  UTF-8 (BOM) (CRLF)\nss6sdk/Build/Converter/Lump.cpp  UTF-8 (BOM) (CRLF)\nss6sdk/Build/Converter/Lump.h  UTF-8 (BOM) (CRLF)\nss6sdk/Build/Converter/LumpExporter.cpp  UTF-8 (BOM) (CRLF)\nss6sdk/Build/Converter/LumpExporter.h  UTF-8 (BOM) (CRLF)\nss6sdk/Build/Converter/main.cpp  UTF-8 (BOM) (CRLF)\nss6sdk/Build/Converter/SsPlayerConverter.h  UTF-8 (BOM) (CRLF)\nss6sdk/Build/example/demo.c  UTF-8 (BOM) (CRLF)\nss6sdk/Build/example/demo.h  UTF-8 (BOM) (CRLF)\nss6sdk/Build/example/example_fbo.c  UTF-8 (BOM) (CRLF)\nss6sdk/Build/example/example_gl2.c  UTF-8 (BOM) (CRLF)\nss6sdk/Build/example/example_gl3.c  UTF-8 (BOM) (CRLF)\nss6sdk/Build/example/example_gles2.c  UTF-8 (BOM) (CRLF)\nss6sdk/Build/example/example_gles3.c  UTF-8 (BOM) (CRLF)\nss6sdk/Build/example/images.txt  UTF-8 (BOM) (CRLF)\nss6sdk/Build/example/LICENSE.txt  UTF-8 (BOM) (CRLF)\nss6sdk/Build/example/perf.c  UTF-8 (BOM) (CRLF)\nss6sdk/Build/example/perf.h  UTF-8 (BOM) (CRLF)\nss6sdk/Build/example/stb_image_write.h  UTF-8 (BOM) (CRLF)\nss6sdk/Build/plistConverter/plistConverter.cpp  UTF-8 (BOM) (CRLF)\nss6sdk/Build/plistConverter/ReadMe.txt  UTF-8 (BOM) (CRLF)\nss6sdk/Build/plistConverter/stdafx.cpp  UTF-8 (BOM) (CRLF)\nss6sdk/Build/plistConverter/stdafx.h  UTF-8 (BOM) (CRLF)\nss6sdk/Build/plistConverter/targetver.h  UTF-8 (BOM) (CRLF)\nss6sdk/Build/PythonBinder/bind_Animation.cpp  UTF-8 (BOM) (CRLF)\nss6sdk/Build/PythonBinder/bind_Animation.h  UTF-8 (BOM) (CRLF)\nss6sdk/Build/PythonBinder/bind_AnimePack.cpp  UTF-8 (BOM) (CRLF)\nss6sdk/Build/PythonBinder/bind_AnimePack.h  UTF-8 (BOM) (CRLF)\nss6sdk/Build/PythonBinder/bind_Cellmap.cpp  UTF-8 (BOM) (CRLF)\nss6sdk/Build/PythonBinder/bind_Cellmap.h  UTF-8 (BOM) (CRLF)\nss6sdk/Build/PythonBinder/bind_SsAnimeDecoder.cpp  UTF-8 (BOM) (CRLF)\nss6sdk/Build/PythonBinder/bind_SsAnimeDecoder.h  UTF-8 (BOM) (CRLF)\nss6sdk/Build/PythonBinder/bind_SsAttribute.cpp  UTF-8 (BOM) (CRLF)\nss6sdk/Build/PythonBinder/bind_SsAttribute.h  UTF-8 (BOM) (CRLF)\nss6sdk/Build/PythonBinder/bind_SsKeyframe.cpp  UTF-8 (BOM) (CRLF)\nss6sdk/Build/PythonBinder/bind_SsKeyframe.h  UTF-8 (BOM) (CRLF)\nss6sdk/Build/PythonBinder/bind_SsPart.cpp  UTF-8 (BOM) (CRLF)\nss6sdk/Build/PythonBinder/bind_SsPart.h  UTF-8 (BOM) (CRLF)\nss6sdk/Build/PythonBinder/bind_SsPartAnime.cpp  UTF-8 (BOM) (CRLF)\nss6sdk/Build/PythonBinder/bind_SsPartAnime.h  UTF-8 (BOM) (CRLF)\nss6sdk/Build/PythonBinder/bind_SSXML.cpp  UTF-8 (BOM) (CRLF)\nss6sdk/Build/PythonBinder/bind_SSXML.h  UTF-8 (BOM) (CRLF)\nss6sdk/Build/PythonBinder/package_SpriteStudio.cpp  UTF-8 (BOM) (CRLF)\nss6sdk/Build/PythonBinder/package_SpriteStudio.h  UTF-8 (BOM) (CRLF)\nss6sdk/Build/PythonBinder/script_base_conv.cpp  UTF-8 (BOM) (CRLF)\nss6sdk/Build/Ss6ConverterGUI/Ss6ConverterGUI/main.cpp  UTF-8 (BOM) (CRLF)\nss6sdk/Build/Ss6ConverterGUI/Ss6ConverterGUI/mainwindow.cpp  UTF-8 (BOM) (CRLF)\nss6sdk/Build/Ss6ConverterGUI/Ss6ConverterGUI/mainwindow.h  UTF-8 (BOM) (CRLF)\nss6sdk/Build/Ss6ConverterGUI/Ss6ConverterGUI/readme.txt  UTF-8 (BOM) (CRLF)\nss6sdk/Build/TestScript/readme.txt  UTF-8 (BOM) (CRLF)\nss6sdk/Build/TestScript/SpriteStudio_pythonモジュール仕様書.txt  UTF-8 (BOM) (CRLF)\nss6sdk/Build/UnitTest/gtest/gtest.h  UTF-8 (BOM) (CRLF)\nss6sdk/Build/UnitTest/gtest-all.cc  UTF-8 (BOM) (CRLF)\nss6sdk/Build/UnitTest/gtest_main.cc  UTF-8 (BOM) (CRLF)\nss6sdk/Build/UnitTest/readme.txt  UTF-8 (BOM) (CRLF)\nss6sdk/Build/UnitTest/unit_ssloader_ssae.cc  UTF-8 (BOM) (CRLF)\nss6sdk/Build/UnitTest/unit_ssloader_ssce.cc  UTF-8 (BOM) (CRLF)\nss6sdk/Build/UnitTest/unit_ssloader_sspj.cc  UTF-8 (BOM) (CRLF)\nss6sdk/Build/Viewer/CMakeLists.txt  UTF-8 (BOM) (CRLF)\nss6sdk/Build/Viewer/source/main_dx9.cpp  UTF-8 (BOM) (CRLF)\nss6sdk/Build/Viewer/source/main_gl.cpp  UTF-8 (BOM) (CRLF)\nss6sdk/Build/Viewer/source/myscene.cpp  UTF-8 (BOM) (CRLF)\nss6sdk/Build/Viewer/source/myscene.h  UTF-8 (BOM) (CRLF)\nss6sdk/Build/Viewer/source/script_base_conv.cpp  UTF-8 (BOM) (CRLF)\nss6sdk/Common/Animator/ISsEffectRender.h  UTF-8 (BOM) (CRLF)\nss6sdk/Common/Animator/MersenneTwister.h  UTF-8 (BOM) (CRLF)\nss6sdk/Common/Animator/ssplayer_animedecode.cpp  UTF-8 (BOM) (CRLF)\nss6sdk/Common/Animator/ssplayer_animedecode.h  UTF-8 (BOM) (CRLF)\nss6sdk/Common/Animator/ssplayer_cellmap.cpp  UTF-8 (BOM) (CRLF)\nss6sdk/Common/Animator/ssplayer_cellmap.h  UTF-8 (BOM) (CRLF)\nss6sdk/Common/Animator/ssplayer_effect.cpp  UTF-8 (BOM) (CRLF)\nss6sdk/Common/Animator/ssplayer_effect.h  UTF-8 (BOM) (CRLF)\nss6sdk/Common/Animator/ssplayer_effect2.cpp  UTF-8 (BOM) (CRLF)\nss6sdk/Common/Animator/ssplayer_effect2.h  UTF-8 (BOM) (CRLF)\nss6sdk/Common/Animator/ssplayer_effectfunction.cpp  UTF-8 (BOM) (CRLF)\nss6sdk/Common/Animator/ssplayer_effectfunction.h  UTF-8 (BOM) (CRLF)\nss6sdk/Common/Animator/ssplayer_macro.h  UTF-8 (BOM) (CRLF)\nss6sdk/Common/Animator/ssplayer_matrix.cpp  UTF-8 (BOM) (CRLF)\nss6sdk/Common/Animator/ssplayer_matrix.h  UTF-8 (BOM) (CRLF)\nss6sdk/Common/Animator/ssplayer_mesh.cpp  UTF-8 (BOM) (CRLF)\nss6sdk/Common/Animator/ssplayer_mesh.h  UTF-8 (BOM) (CRLF)\nss6sdk/Common/Animator/ssplayer_PartState.cpp  UTF-8 (BOM) (CRLF)\nss6sdk/Common/Animator/ssplayer_PartState.h  UTF-8 (BOM) (CRLF)\nss6sdk/Common/Animator/ssplayer_render.cpp  UTF-8 (BOM) (CRLF)\nss6sdk/Common/Animator/ssplayer_render.h  UTF-8 (BOM) (CRLF)\nss6sdk/Common/Animator/ssplayer_types.h  UTF-8 (BOM) (CRLF)\nss6sdk/Common/Animator/xorshift32.h  UTF-8 (BOM) (CRLF)\nss6sdk/Common/Drawer/ssplayer_render_dx9.cpp  UTF-8 (BOM) (CRLF)\nss6sdk/Common/Drawer/ssplayer_render_dx9.h  UTF-8 (BOM) (CRLF)\nss6sdk/Common/Drawer/ssplayer_render_gl.cpp  UTF-8 (BOM) (CRLF)\nss6sdk/Common/Drawer/ssplayer_render_gl.h  UTF-8 (BOM) (CRLF)\nss6sdk/Common/Drawer/ssplayer_shader_gl.cpp  UTF-8 (BOM) (CRLF)\nss6sdk/Common/Drawer/ssplayer_shader_gl.h  UTF-8 (BOM) (CRLF)\nss6sdk/Common/Helper/DebugPrint.cpp  UTF-8 (BOM) (CRLF)\nss6sdk/Common/Helper/DebugPrint.h  UTF-8 (BOM) (CRLF)\nss6sdk/Common/Helper/DirectX/d3dsimple.cpp  UTF-8 (BOM) (CRLF)\nss6sdk/Common/Helper/DirectX/d3dsimple.h  UTF-8 (BOM) (CRLF)\nss6sdk/Common/Helper/DirectX/SSTextureDX9.cpp  UTF-8 (BOM) (CRLF)\nss6sdk/Common/Helper/DirectX/SSTextureDX9.h  UTF-8 (BOM) (CRLF)\nss6sdk/Common/Helper/IsshTexture.cpp  UTF-8 (BOM) (CRLF)\nss6sdk/Common/Helper/IsshTexture.h  UTF-8 (BOM) (CRLF)\nss6sdk/Common/Helper/MacOS/OSXFileOpen.h  UTF-8 (BOM) (CRLF)\nss6sdk/Common/Helper/OpenGL/SSTextureGL.cpp  UTF-8 (BOM) (CRLF)\nss6sdk/Common/Helper/OpenGL/SSTextureGL.h  UTF-8 (BOM) (CRLF)\nss6sdk/Common/Helper/ssHelper.h  UTF-8 (BOM) (CRLF)\nss6sdk/Common/Helper/sshObject.cpp  UTF-8 (BOM) (CRLF)\nss6sdk/Common/Helper/sshObject.h  UTF-8 (BOM) (CRLF)\nss6sdk/Common/Helper/sshScene.cpp  UTF-8 (BOM) (CRLF)\nss6sdk/Common/Helper/sshScene.h  UTF-8 (BOM) (CRLF)\nss6sdk/Common/Helper/sshTask.cpp  UTF-8 (BOM) (CRLF)\nss6sdk/Common/Helper/sshTask.h  UTF-8 (BOM) (CRLF)\nss6sdk/Common/Helper/sshTextureBMP.cpp  UTF-8 (BOM) (CRLF)\nss6sdk/Common/Helper/sshTextureBMP.h  UTF-8 (BOM) (CRLF)\nss6sdk/Common/Helper/stb_image.c  UTF-8 (BOM) (CRLF)\nss6sdk/Common/Helper/stb_image.h  UTF-8 (BOM) (CRLF)\nss6sdk/Common/Helper/Win/WinMain.cpp  UTF-8 (BOM) (CRLF)\nss6sdk/Common/Helper/XPFileOpenDlg.cpp  UTF-8 (BOM) (CRLF)\nss6sdk/Common/Helper/XPFileOpenDlg.h  UTF-8 (BOM) (CRLF)\nss6sdk/Common/Loader/babel/babel.cpp  UTF-8 (BOM) (CRLF)\nss6sdk/Common/Loader/babel/babel.h  UTF-8 (BOM) (CRLF)\nss6sdk/Common/Loader/ssarchiver.cpp  UTF-8 (BOM) (CRLF)\nss6sdk/Common/Loader/ssarchiver.h  UTF-8 (BOM) (CRLF)\nss6sdk/Common/Loader/ssattribute.cpp  UTF-8 (BOM) (CRLF)\nss6sdk/Common/Loader/ssattribute.h  UTF-8 (BOM) (CRLF)\nss6sdk/Common/Loader/SsEffectBehavior.cpp  UTF-8 (BOM) (CRLF)\nss6sdk/Common/Loader/SsEffectBehavior.h  UTF-8 (BOM) (CRLF)\nss6sdk/Common/Loader/SsEffectElement.cpp  UTF-8 (BOM) (CRLF)\nss6sdk/Common/Loader/SsEffectElement.h  UTF-8 (BOM) (CRLF)\nss6sdk/Common/Loader/ssInterpolation.cpp  UTF-8 (BOM) (CRLF)\nss6sdk/Common/Loader/ssInterpolation.h  UTF-8 (BOM) (CRLF)\nss6sdk/Common/Loader/ssloader.h  UTF-8 (BOM) (CRLF)\nss6sdk/Common/Loader/ssloader_ssae.cpp  UTF-8 (BOM) (CRLF)\nss6sdk/Common/Loader/ssloader_ssae.h  UTF-8 (BOM) (CRLF)\nss6sdk/Common/Loader/ssloader_ssce.cpp  UTF-8 (BOM) (CRLF)\nss6sdk/Common/Loader/ssloader_ssce.h  UTF-8 (BOM) (CRLF)\nss6sdk/Common/Loader/ssloader_ssee.cpp  UTF-8 (BOM) (CRLF)\nss6sdk/Common/Loader/ssloader_ssee.h  UTF-8 (BOM) (CRLF)\nss6sdk/Common/Loader/ssloader_sspj.cpp  UTF-8 (BOM) (CRLF)\nss6sdk/Common/Loader/ssloader_sspj.h  UTF-8 (BOM) (CRLF)\nss6sdk/Common/Loader/ssstring_uty.cpp  UTF-8 (BOM) (CRLF)\nss6sdk/Common/Loader/ssstring_uty.h  UTF-8 (BOM) (CRLF)\nss6sdk/Common/Loader/sstypes.cpp  UTF-8 (BOM) (CRLF)\n"
       },
       {
        "name": "stdout",
        "output_type": "stream",
        "text": "ss6sdk/Common/Loader/sstypes.h  UTF-8 (BOM) (CRLF)\r\nss6sdk/Common/Loader/ssvalue.cpp  UTF-8 (BOM) (CRLF)\r\nss6sdk/Common/Loader/ssvalue.h  UTF-8 (BOM) (CRLF)\r\nss6sdk/Common/Loader/tinyxml2/tinyxml2.cpp  UTF-8 (BOM) (CRLF)\r\nss6sdk/Common/Loader/tinyxml2/tinyxml2.h  UTF-8 (BOM) (CRLF)\r\n"
       }
      ]
     }
    ],
    "run_through_control": {
     "frozen": true
    }
   },
   "outputs": [
    {
     "name": "stdout",
     "output_type": "stream",
     "text": [
      "find: `ss6sdk': No such file or directory\r\n"
     ]
    }
   ],
   "source": [
    "!find ss6sdk -type f \\( -name \\*.h -or -name \\*.c -or -name \\*.cpp -or -name \\*.cc -or -name \\*.txt \\) \\\n",
    "| xargs -I{} sh -c \"echo -n {} ' ' && nkf --guess {}\""
   ]
  },
  {
   "cell_type": "markdown",
   "metadata": {
    "lc_cell_meme": {
     "current": "20cabf9a-b963-11e7-ab32-0242ac110002",
     "next": "068b635c-b961-11e7-ab32-0242ac110002",
     "previous": "2d715dee-b8af-11e7-9d3a-0242ac110002"
    }
   },
   "source": [
    "コンバータのビルド"
   ]
  },
  {
   "cell_type": "code",
   "execution_count": 5,
   "metadata": {
    "deletable": false,
    "editable": false,
    "lc_cell_meme": {
     "current": "068b635c-b961-11e7-ab32-0242ac110002",
     "history": [
      {
       "current": "068b635c-b961-11e7-ab32-0242ac110002",
       "next": null,
       "previous": "2d715dee-b8af-11e7-9d3a-0242ac110002"
      },
      {
       "current": "068b635c-b961-11e7-ab32-0242ac110002",
       "next": "66f32f08-b962-11e7-ab32-0242ac110002",
       "previous": "2d715dee-b8af-11e7-9d3a-0242ac110002"
      }
     ],
     "next": null,
     "previous": "20cabf9a-b963-11e7-ab32-0242ac110002"
    },
    "pinned_outputs": [
     {
      "execution_count": 7,
      "outputs": [
       {
        "name": "stdout",
        "output_type": "stream",
        "text": "-- The C compiler identification is GNU 4.9.2\n-- The CXX compiler identification is GNU 4.9.2\n-- Check for working C compiler: /usr/bin/cc\n-- Check for working C compiler: /usr/bin/cc -- works\n-- Detecting C compiler ABI info\n-- Detecting C compiler ABI info - done\n-- Check for working CXX compiler: /usr/bin/c++\n-- Check for working CXX compiler: /usr/bin/c++ -- works\n-- Detecting CXX compiler ABI info\n-- Detecting CXX compiler ABI info - done\n-- Configuring done\n-- Generating done\n-- Build files have been written to: /notebooks/ss6sdk/Build/build\nScanning dependencies of target ssLoader\n[  2%] Building CXX object CMakeFiles/ssLoader.dir/notebooks/ss6sdk/Common/Loader/tinyxml2/tinyxml2.cpp.o\n[  5%] Building CXX object CMakeFiles/ssLoader.dir/notebooks/ss6sdk/Common/Loader/babel/babel.cpp.o\n[  8%] Building CXX object CMakeFiles/ssLoader.dir/notebooks/ss6sdk/Common/Loader/ssloader_sspj.cpp.o\n[ 11%] Building CXX object CMakeFiles/ssLoader.dir/notebooks/ss6sdk/Common/Loader/ssloader_ssae.cpp.o\n[ 13%] Building CXX object CMakeFiles/ssLoader.dir/notebooks/ss6sdk/Common/Loader/ssloader_ssce.cpp.o\n[ 16%] Building CXX object CMakeFiles/ssLoader.dir/notebooks/ss6sdk/Common/Loader/ssloader_ssee.cpp.o\n[ 19%] Building CXX object CMakeFiles/ssLoader.dir/notebooks/ss6sdk/Common/Loader/SsEffectBehavior.cpp.o\n[ 22%] Building CXX object CMakeFiles/ssLoader.dir/notebooks/ss6sdk/Common/Loader/SsEffectElement.cpp.o\n[ 25%] Building CXX object CMakeFiles/ssLoader.dir/notebooks/ss6sdk/Common/Loader/ssstring_uty.cpp.o\n[ 27%] Building CXX object CMakeFiles/ssLoader.dir/notebooks/ss6sdk/Common/Loader/ssarchiver.cpp.o\n[ 30%] Building CXX object CMakeFiles/ssLoader.dir/notebooks/ss6sdk/Common/Loader/sstypes.cpp.o\n[ 33%] Building CXX object CMakeFiles/ssLoader.dir/notebooks/ss6sdk/Common/Loader/ssvalue.cpp.o\n[ 36%] Building CXX object CMakeFiles/ssLoader.dir/notebooks/ss6sdk/Common/Loader/ssInterpolation.cpp.o\n[ 38%] Building CXX object CMakeFiles/ssLoader.dir/notebooks/ss6sdk/Common/Loader/ssattribute.cpp.o\nLinking CXX static library libssLoader.a\n[ 38%] Built target ssLoader\nScanning dependencies of target ssHelper\n[ 41%] Building CXX object CMakeFiles/ssHelper.dir/notebooks/ss6sdk/Common/Helper/Win/WinMain.cpp.o\n[ 44%] Building CXX object CMakeFiles/ssHelper.dir/notebooks/ss6sdk/Common/Helper/IsshTexture.cpp.o\n[ 47%] Building CXX object CMakeFiles/ssHelper.dir/notebooks/ss6sdk/Common/Helper/sshTextureBMP.cpp.o\n[ 50%] Building C object CMakeFiles/ssHelper.dir/notebooks/ss6sdk/Common/Helper/stb_image.c.o\n[ 52%] Building CXX object CMakeFiles/ssHelper.dir/notebooks/ss6sdk/Common/Helper/sshScene.cpp.o\n[ 55%] Building CXX object CMakeFiles/ssHelper.dir/notebooks/ss6sdk/Common/Helper/sshTask.cpp.o\n[ 58%] Building CXX object CMakeFiles/ssHelper.dir/notebooks/ss6sdk/Common/Helper/XPFileOpenDlg.cpp.o\n[ 61%] Building CXX object CMakeFiles/ssHelper.dir/notebooks/ss6sdk/Common/Helper/DebugPrint.cpp.o\nLinking CXX static library libssHelper.a\n[ 61%] Built target ssHelper\nScanning dependencies of target ssAnimater\n[ 63%] Building CXX object CMakeFiles/ssAnimater.dir/notebooks/ss6sdk/Common/Animator/ssplayer_cellmap.cpp.o\n[ 66%] Building CXX object CMakeFiles/ssAnimater.dir/notebooks/ss6sdk/Common/Animator/ssplayer_PartState.cpp.o\n[ 69%] Building CXX object CMakeFiles/ssAnimater.dir/notebooks/ss6sdk/Common/Animator/ssplayer_render.cpp.o\n[ 72%] Building CXX object CMakeFiles/ssAnimater.dir/notebooks/ss6sdk/Common/Animator/ssplayer_matrix.cpp.o\n[ 75%] Building CXX object CMakeFiles/ssAnimater.dir/notebooks/ss6sdk/Common/Animator/ssplayer_effect.cpp.o\n[ 77%] Building CXX object CMakeFiles/ssAnimater.dir/notebooks/ss6sdk/Common/Animator/ssplayer_effectfunction.cpp.o\n[ 80%] Building CXX object CMakeFiles/ssAnimater.dir/notebooks/ss6sdk/Common/Animator/ssplayer_animedecode.cpp.o\n[ 83%] Building CXX object CMakeFiles/ssAnimater.dir/notebooks/ss6sdk/Common/Animator/ssplayer_effect2.cpp.o\n[ 86%] Building CXX object CMakeFiles/ssAnimater.dir/notebooks/ss6sdk/Common/Animator/ssplayer_mesh.cpp.o\nLinking CXX static library libssAnimater.a\n[ 86%] Built target ssAnimater\nScanning dependencies of target Ss6Converter\n[ 88%] Building CXX object CMakeFiles/Ss6Converter.dir/Converter/main.cpp.o\n[ 91%] Building CXX object CMakeFiles/Ss6Converter.dir/Converter/BinaryDataWriter.cpp.o\n[ 94%] Building CXX object CMakeFiles/Ss6Converter.dir/Converter/FileUtil.cpp.o\n[ 97%] Building CXX object CMakeFiles/Ss6Converter.dir/Converter/Lump.cpp.o\n[100%] Building CXX object CMakeFiles/Ss6Converter.dir/Converter/LumpExporter.cpp.o\nLinking CXX executable Ss6Converter\n[100%] Built target Ss6Converter\n\nSs5Converter converter version 1.0.0 (Build: Oct 25 2017 08:55:56)\nusage: Ss5Converter Input files(.sspj) ...\n\noption:\n  -h      Display usage.\n  -v      Verbose mode.\n  -o      set output path.\n\n"
       },
       {
        "name": "stderr",
        "output_type": "stream",
        "text": "In file included from /notebooks/ss6sdk/Build/../Common/Animator/ssplayer_effect.h:5:0,\n                 from /notebooks/ss6sdk/Common/Loader/SsEffectElement.cpp:11:\n/notebooks/ss6sdk/Build/../Common/Animator/MersenneTwister.h: In member function ‘long unsigned int CMersenneTwister::genrand_uint32()’:\n/notebooks/ss6sdk/Build/../Common/Animator/MersenneTwister.h:108:53: warning: narrowing conversion of ‘((CMersenneTwister*)this)->CMersenneTwister::m_ulMATRIX_A’ from ‘const int’ to ‘long unsigned int’ inside { } [-Wnarrowing]\n   unsigned long aulMag01[2] = { 0x0UL, m_ulMATRIX_A };\r\n                                                     ^\n/notebooks/ss6sdk/Common/Loader/ssstring_uty.cpp: In function ‘std::string getFullPath(const string&, const string&)’:\n/notebooks/ss6sdk/Common/Loader/ssstring_uty.cpp:101:5: warning: ‘char* getwd(char*)’ is deprecated (declared at /usr/include/unistd.h:525) [-Wdeprecated-declarations]\n     getwd(curPath);\r\n     ^\n/notebooks/ss6sdk/Common/Loader/ssstring_uty.cpp:101:18: warning: ‘char* getwd(char*)’ is deprecated (declared at /usr/include/unistd.h:525) [-Wdeprecated-declarations]\n     getwd(curPath);\r\n                  ^\ncc1: warning: command line option ‘-std=gnu++1y’ is valid for C++/ObjC++ but not for C\n/notebooks/ss6sdk/Common/Animator/ssplayer_PartState.cpp: In member function ‘void SsPartState::destroy()’:\n/notebooks/ss6sdk/Common/Animator/ssplayer_PartState.cpp:26:10: warning: possible problem detected in invocation of delete operator: [-Wdelete-incomplete]\n   delete refEffect;\r\n          ^\n/notebooks/ss6sdk/Common/Animator/ssplayer_PartState.cpp:26:10: warning: invalid use of incomplete type ‘class SsEffectRenderV2’\nIn file included from /notebooks/ss6sdk/Common/Animator/ssplayer_animedecode.h:10:0,\n                 from /notebooks/ss6sdk/Common/Animator/ssplayer_PartState.cpp:2:\n/notebooks/ss6sdk/Common/Animator/ssplayer_PartState.h:10:7: warning: forward declaration of ‘class SsEffectRenderV2’\n class SsEffectRenderV2;\r\n       ^\n/notebooks/ss6sdk/Common/Animator/ssplayer_PartState.cpp:26:10: note: neither the destructor nor the class-specific operator delete will be called, even if they are declared when the class is defined\n   delete refEffect;\r\n          ^\nIn file included from /notebooks/ss6sdk/Common/Animator/ssplayer_effect.h:5:0,\n                 from /notebooks/ss6sdk/Common/Animator/ssplayer_effect.cpp:7:\n/notebooks/ss6sdk/Common/Animator/MersenneTwister.h: In member function ‘long unsigned int CMersenneTwister::genrand_uint32()’:\n/notebooks/ss6sdk/Common/Animator/MersenneTwister.h:108:53: warning: narrowing conversion of ‘((CMersenneTwister*)this)->CMersenneTwister::m_ulMATRIX_A’ from ‘const int’ to ‘long unsigned int’ inside { } [-Wnarrowing]\n   unsigned long aulMag01[2] = { 0x0UL, m_ulMATRIX_A };\r\n                                                     ^\nIn file included from /notebooks/ss6sdk/Common/Animator/ssplayer_effect.h:5:0,\n                 from /notebooks/ss6sdk/Common/Animator/ssplayer_effectfunction.cpp:6:\n/notebooks/ss6sdk/Common/Animator/MersenneTwister.h: In member function ‘long unsigned int CMersenneTwister::genrand_uint32()’:\n/notebooks/ss6sdk/Common/Animator/MersenneTwister.h:108:53: warning: narrowing conversion of ‘((CMersenneTwister*)this)->CMersenneTwister::m_ulMATRIX_A’ from ‘const int’ to ‘long unsigned int’ inside { } [-Wnarrowing]\n   unsigned long aulMag01[2] = { 0x0UL, m_ulMATRIX_A };\r\n                                                     ^\nIn file included from /notebooks/ss6sdk/Common/Animator/ssplayer_effect.h:5:0,\n                 from /notebooks/ss6sdk/Common/Animator/ssplayer_animedecode.cpp:9:\n/notebooks/ss6sdk/Common/Animator/MersenneTwister.h: In member function ‘long unsigned int CMersenneTwister::genrand_uint32()’:\n/notebooks/ss6sdk/Common/Animator/MersenneTwister.h:108:53: warning: narrowing conversion of ‘((CMersenneTwister*)this)->CMersenneTwister::m_ulMATRIX_A’ from ‘const int’ to ‘long unsigned int’ inside { } [-Wnarrowing]\n   unsigned long aulMag01[2] = { 0x0UL, m_ulMATRIX_A };\r\n                                                     ^\nIn file included from /notebooks/ss6sdk/Common/Animator/ssplayer_effect.h:5:0,\n                 from /notebooks/ss6sdk/Common/Animator/ssplayer_effectfunction.h:4,\n                 from /notebooks/ss6sdk/Common/Animator/ssplayer_effect2.cpp:12:\n/notebooks/ss6sdk/Common/Animator/MersenneTwister.h: In member function ‘long unsigned int CMersenneTwister::genrand_uint32()’:\n/notebooks/ss6sdk/Common/Animator/MersenneTwister.h:108:53: warning: narrowing conversion of ‘((CMersenneTwister*)this)->CMersenneTwister::m_ulMATRIX_A’ from ‘const int’ to ‘long unsigned int’ inside { } [-Wnarrowing]\n   unsigned long aulMag01[2] = { 0x0UL, m_ulMATRIX_A };\r\n                                                     ^\nlibssLoader.a(ssstring_uty.cpp.o): In function `getFullPath(std::string const&, std::string const&)':\nssstring_uty.cpp:(.text+0x3b3): warning: the `getwd' function is dangerous and should not be used.\n"
       }
      ]
     }
    ],
    "run_through_control": {
     "frozen": true
    }
   },
   "outputs": [
    {
     "name": "stderr",
     "output_type": "stream",
     "text": [
      "bash: line 1: cd: ss6sdk/Build: No such file or directory\n"
     ]
    }
   ],
   "source": [
    "%%bash\n",
    "cd ss6sdk/Build\n",
    "mkdir build\n",
    "cd build\n",
    "cmake ..\n",
    "make Ss6Converter\n",
    "./Ss6Converter"
   ]
  }
 ],
 "metadata": {
  "kernelspec": {
   "display_name": "Python 3",
   "language": "python",
   "name": "python3"
  },
  "language_info": {
   "codemirror_mode": {
    "name": "ipython",
    "version": 3
   },
   "file_extension": ".py",
   "mimetype": "text/x-python",
   "name": "python",
   "nbconvert_exporter": "python",
   "pygments_lexer": "ipython3",
   "version": "3.5.2"
  },
  "lc_notebook_meme": {
   "current": "fc8f76a6-b8aa-11e7-9d3a-0242ac110002",
   "lc_server_signature": {
    "current": {
     "notebook_dir": "/notebooks",
     "notebook_path": "/ss6sdk",
     "server_url": "http://localhost:8888/",
     "signature_id": "5d426b4e-c50c-11e7-bb94-0242ac110002"
    },
    "history": [
     {
      "notebook_dir": "/notebooks",
      "notebook_path": "/",
      "server_url": "http://localhost:8888/",
      "signature_id": "a0960856-b8aa-11e7-9d3a-0242ac110002"
     },
     {
      "notebook_dir": "/notebooks",
      "notebook_path": "/",
      "server_url": "http://localhost:8888/",
      "signature_id": "39190d04-b945-11e7-8edb-0242ac110002"
     },
     {
      "notebook_dir": "/notebooks",
      "notebook_path": "/",
      "server_url": "http://localhost:8888/",
      "signature_id": "c8b831d2-b95f-11e7-ab32-0242ac110002"
     },
     {
      "notebook_dir": "/notebooks",
      "notebook_path": "/ss6sdk",
      "server_url": "http://localhost:8888/",
      "signature_id": "2a48f712-c449-11e7-bb2c-0242ac110002"
     }
    ]
   }
  },
  "toc": {
   "nav_menu": {},
   "number_sections": true,
   "sideBar": true,
   "skip_h1_title": false,
   "toc_cell": false,
   "toc_position": {},
   "toc_section_display": "block",
   "toc_window_display": false
  }
 },
 "nbformat": 4,
 "nbformat_minor": 2
}
