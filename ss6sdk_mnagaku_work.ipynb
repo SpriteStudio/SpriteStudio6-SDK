{
 "cells": [
  {
   "cell_type": "markdown",
   "metadata": {
    "lc_cell_meme": {
     "current": "1e16c580-c694-11e7-97d0-0242ac110002",
     "history": [
      {
       "current": "1e16c580-c694-11e7-97d0-0242ac110002",
       "next": "9ea69722-b945-11e7-8edb-0242ac110002",
       "previous": null
      }
     ],
     "next": "659caafa-c694-11e7-97d0-0242ac110002",
     "previous": null
    }
   },
   "source": [
    "# SS6 ssbpのjson、message_pack変換\n",
    "\n",
    "ss6sdk内のコンバータを改造してssbp相当のデータを持ったjsonを吐き出させる。また、そのjsonをmessage packに変換する。"
   ]
  },
  {
   "cell_type": "markdown",
   "metadata": {
    "lc_cell_meme": {
     "current": "659caafa-c694-11e7-97d0-0242ac110002",
     "history": [
      {
       "current": "659caafa-c694-11e7-97d0-0242ac110002",
       "next": "9ea69722-b945-11e7-8edb-0242ac110002",
       "previous": "1e16c580-c694-11e7-97d0-0242ac110002"
      }
     ],
     "next": "f4aad0e6-c694-11e7-97d0-0242ac110002",
     "previous": "1e16c580-c694-11e7-97d0-0242ac110002"
    }
   },
   "source": [
    "# 前提\n",
    "\n",
    "作業対象のファイル一式は、ホスト上の一式をjupyterコンテナに共有させて用意する。\n",
    "\n",
    "```\n",
    "git clone --depth 1 https://github.com/SpriteStudio/SpriteStudio6-SDK.git\n",
    "```\n",
    "\n",
    "相当のを、コンテナ起動時にマウントする。\n",
    "\n",
    "```\n",
    "docker run -d -v c:/Users/mnaga/Documents/SpriteStudio6-SDK:/notebooks/ss6sdk \\\n",
    "    -p 8888:8888 --name ss6sdknb niicloudoperation/notebook\n",
    "```\n"
   ]
  },
  {
   "cell_type": "markdown",
   "metadata": {
    "lc_cell_meme": {
     "current": "f4aad0e6-c694-11e7-97d0-0242ac110002",
     "history": [
      {
       "current": "f4aad0e6-c694-11e7-97d0-0242ac110002",
       "next": "f4aad5be-c694-11e7-97d0-0242ac110002",
       "previous": "9ea69722-b945-11e7-8edb-0242ac110002"
      }
     ],
     "next": "f4aad5be-c694-11e7-97d0-0242ac110002",
     "previous": "659caafa-c694-11e7-97d0-0242ac110002"
    }
   },
   "source": [
    "# 準備\n",
    "\n",
    "ビルド環境整備と、message packへのコンバータの用意と、ファイル一式のUTF8BOM+CRLF化"
   ]
  },
  {
   "cell_type": "markdown",
   "metadata": {
    "lc_cell_meme": {
     "current": "f4aad5be-c694-11e7-97d0-0242ac110002",
     "next": "fc8f780e-b8aa-11e7-9d3a-0242ac110002",
     "previous": "f4aad0e6-c694-11e7-97d0-0242ac110002"
    }
   },
   "source": [
    "ビルド環境整備。gccとcmakeとnkfを入れる"
   ]
  },
  {
   "cell_type": "code",
   "execution_count": null,
   "metadata": {
    "lc_cell_meme": {
     "current": "fc8f780e-b8aa-11e7-9d3a-0242ac110002",
     "history": [
      {
       "current": "fc8f780e-b8aa-11e7-9d3a-0242ac110002",
       "next": null,
       "previous": null
      },
      {
       "current": "fc8f780e-b8aa-11e7-9d3a-0242ac110002",
       "next": "4494c46a-b8ab-11e7-9d3a-0242ac110002",
       "previous": null
      },
      {
       "current": "fc8f780e-b8aa-11e7-9d3a-0242ac110002",
       "next": "4494c46a-b8ab-11e7-9d3a-0242ac110002",
       "previous": "9ea69722-b945-11e7-8edb-0242ac110002"
      },
      {
       "current": "fc8f780e-b8aa-11e7-9d3a-0242ac110002",
       "next": "fdd1b8e0-b962-11e7-ab32-0242ac110002",
       "previous": "9ea69722-b945-11e7-8edb-0242ac110002"
      },
      {
       "current": "fc8f780e-b8aa-11e7-9d3a-0242ac110002",
       "next": "b875c038-c692-11e7-97d0-0242ac110002",
       "previous": "9ea69722-b945-11e7-8edb-0242ac110002"
      },
      {
       "current": "fc8f780e-b8aa-11e7-9d3a-0242ac110002",
       "next": "b875c038-c692-11e7-97d0-0242ac110002",
       "previous": "f4aad5be-c694-11e7-97d0-0242ac110002"
      }
     ],
     "next": "cb3d4ff8-c695-11e7-97d0-0242ac110002",
     "previous": "f4aad5be-c694-11e7-97d0-0242ac110002"
    },
    "pinned_outputs": [],
    "scrolled": true
   },
   "outputs": [],
   "source": [
    "!sudo apt-get update && sudo apt-get upgrade -y && \\\n",
    "sudo apt-get install -y build-essential cmake nkf && \\\n",
    "sudo apt-get clean all && sudo apt-get autoremove"
   ]
  },
  {
   "cell_type": "markdown",
   "metadata": {
    "lc_cell_meme": {
     "current": "cb3d4ff8-c695-11e7-97d0-0242ac110002",
     "next": "0093b122-c693-11e7-97d0-0242ac110002",
     "previous": "fc8f780e-b8aa-11e7-9d3a-0242ac110002"
    }
   },
   "source": [
    "message packへのコンバータの用意"
   ]
  },
  {
   "cell_type": "code",
   "execution_count": null,
   "metadata": {
    "lc_cell_meme": {
     "current": "0093b122-c693-11e7-97d0-0242ac110002",
     "history": [
      {
       "current": "0093b122-c693-11e7-97d0-0242ac110002",
       "next": "fdd1b8e0-b962-11e7-ab32-0242ac110002",
       "previous": "b875c038-c692-11e7-97d0-0242ac110002"
      }
     ],
     "next": "fdd1b8e0-b962-11e7-ab32-0242ac110002",
     "previous": "cb3d4ff8-c695-11e7-97d0-0242ac110002"
    }
   },
   "outputs": [],
   "source": [
    "!git clone --depth 1 https://github.com/ludocode/msgpack-tools.git\n",
    "!cd msgpack-tools && ./configure && make && sudo make install\n",
    "!json2msgpack -v"
   ]
  },
  {
   "cell_type": "markdown",
   "metadata": {
    "lc_cell_meme": {
     "current": "fdd1b8e0-b962-11e7-ab32-0242ac110002",
     "history": [
      {
       "current": "fdd1b8e0-b962-11e7-ab32-0242ac110002",
       "next": "2d715dee-b8af-11e7-9d3a-0242ac110002",
       "previous": "fc8f780e-b8aa-11e7-9d3a-0242ac110002"
      },
      {
       "current": "fdd1b8e0-b962-11e7-ab32-0242ac110002",
       "next": "2d715dee-b8af-11e7-9d3a-0242ac110002",
       "previous": "b875c038-c692-11e7-97d0-0242ac110002"
      },
      {
       "current": "fdd1b8e0-b962-11e7-ab32-0242ac110002",
       "next": "2d715dee-b8af-11e7-9d3a-0242ac110002",
       "previous": "0093b122-c693-11e7-97d0-0242ac110002"
      },
      {
       "current": "fdd1b8e0-b962-11e7-ab32-0242ac110002",
       "next": "8f09b65e-c693-11e7-97d0-0242ac110002",
       "previous": "0093b122-c693-11e7-97d0-0242ac110002"
      }
     ],
     "next": "2d715dee-b8af-11e7-9d3a-0242ac110002",
     "previous": "0093b122-c693-11e7-97d0-0242ac110002"
    }
   },
   "source": [
    "文字コードと改行記号を確認し、UTF8BOM+CRLFに変換する。"
   ]
  },
  {
   "cell_type": "code",
   "execution_count": null,
   "metadata": {
    "lc_cell_meme": {
     "current": "2d715dee-b8af-11e7-9d3a-0242ac110002",
     "history": [
      {
       "current": "2d715dee-b8af-11e7-9d3a-0242ac110002",
       "next": null,
       "previous": "d39ffe86-b8ab-11e7-9d3a-0242ac110002"
      },
      {
       "current": "2d715dee-b8af-11e7-9d3a-0242ac110002",
       "next": "2d715dee-b8af-11e7-9d3a-0242ac110002",
       "previous": "d39ffe86-b8ab-11e7-9d3a-0242ac110002"
      },
      {
       "current": "2d715dee-b8af-11e7-9d3a-0242ac110002",
       "next": "2d715dee-b8af-11e7-9d3a-0242ac110002",
       "previous": "fdd1b8e0-b962-11e7-ab32-0242ac110002"
      },
      {
       "current": "2d715dee-b8af-11e7-9d3a-0242ac110002",
       "next": "2d715dee-b8af-11e7-9d3a-0242ac110002",
       "previous": "8f09b65e-c693-11e7-97d0-0242ac110002"
      }
     ],
     "next": "2d715dee-b8af-11e7-9d3a-0242ac110002",
     "previous": "fdd1b8e0-b962-11e7-ab32-0242ac110002"
    },
    "pinned_outputs": []
   },
   "outputs": [],
   "source": [
    "!find . -type f \\( -name \\*.h -or -name \\*.c -or -name \\*.cpp -or -name \\*.cc -or -name \\*.txt \\) \\\n",
    "| xargs -I{} sh -c \"echo -n {} ' ' && nkf --guess {}\""
   ]
  },
  {
   "cell_type": "code",
   "execution_count": null,
   "metadata": {
    "lc_cell_meme": {
     "current": "2d715dee-b8af-11e7-9d3a-0242ac110002",
     "history": [
      {
       "current": "2d715dee-b8af-11e7-9d3a-0242ac110002",
       "next": null,
       "previous": "d39ffe86-b8ab-11e7-9d3a-0242ac110002"
      },
      {
       "current": "2d715dee-b8af-11e7-9d3a-0242ac110002",
       "next": null,
       "previous": "d39ffe86-b8ab-11e7-9d3a-0242ac110002"
      },
      {
       "current": "2d715dee-b8af-11e7-9d3a-0242ac110002",
       "next": null,
       "previous": "2d715dee-b8af-11e7-9d3a-0242ac110002"
      }
     ],
     "next": "2d715dee-b8af-11e7-9d3a-0242ac110002",
     "previous": "2d715dee-b8af-11e7-9d3a-0242ac110002"
    }
   },
   "outputs": [],
   "source": [
    "!find . -type f \\( -name \\*.h -or -name \\*.c -or -name \\*.cpp -or -name \\*.cc -or -name \\*.txt \\) \\\n",
    "| xargs -I{} sh -c \"nkf -w8Lw --overwrite {}\""
   ]
  },
  {
   "cell_type": "code",
   "execution_count": null,
   "metadata": {
    "lc_cell_meme": {
     "current": "2d715dee-b8af-11e7-9d3a-0242ac110002",
     "history": [
      {
       "current": "2d715dee-b8af-11e7-9d3a-0242ac110002",
       "next": null,
       "previous": "d39ffe86-b8ab-11e7-9d3a-0242ac110002"
      },
      {
       "current": "2d715dee-b8af-11e7-9d3a-0242ac110002",
       "next": null,
       "previous": "d39ffe86-b8ab-11e7-9d3a-0242ac110002"
      },
      {
       "current": "2d715dee-b8af-11e7-9d3a-0242ac110002",
       "next": null,
       "previous": "2d715dee-b8af-11e7-9d3a-0242ac110002"
      },
      {
       "current": "2d715dee-b8af-11e7-9d3a-0242ac110002",
       "next": "068b635c-b961-11e7-ab32-0242ac110002",
       "previous": "2d715dee-b8af-11e7-9d3a-0242ac110002"
      },
      {
       "current": "2d715dee-b8af-11e7-9d3a-0242ac110002",
       "next": "20cabf9a-b963-11e7-ab32-0242ac110002",
       "previous": "2d715dee-b8af-11e7-9d3a-0242ac110002"
      }
     ],
     "next": "12c78a28-c696-11e7-97d0-0242ac110002",
     "previous": "2d715dee-b8af-11e7-9d3a-0242ac110002"
    },
    "pinned_outputs": []
   },
   "outputs": [],
   "source": [
    "!find . -type f \\( -name \\*.h -or -name \\*.c -or -name \\*.cpp -or -name \\*.cc -or -name \\*.txt \\) \\\n",
    "| xargs -I{} sh -c \"echo -n {} ' ' && nkf --guess {}\""
   ]
  },
  {
   "cell_type": "markdown",
   "metadata": {
    "lc_cell_meme": {
     "current": "12c78a28-c696-11e7-97d0-0242ac110002",
     "next": "068b635c-b961-11e7-ab32-0242ac110002",
     "previous": "2d715dee-b8af-11e7-9d3a-0242ac110002"
    }
   },
   "source": [
    "# ssbpコンバータのビルド"
   ]
  },
  {
   "cell_type": "code",
   "execution_count": null,
   "metadata": {
    "lc_cell_meme": {
     "current": "068b635c-b961-11e7-ab32-0242ac110002",
     "history": [
      {
       "current": "068b635c-b961-11e7-ab32-0242ac110002",
       "next": null,
       "previous": "2d715dee-b8af-11e7-9d3a-0242ac110002"
      },
      {
       "current": "068b635c-b961-11e7-ab32-0242ac110002",
       "next": "66f32f08-b962-11e7-ab32-0242ac110002",
       "previous": "2d715dee-b8af-11e7-9d3a-0242ac110002"
      },
      {
       "current": "068b635c-b961-11e7-ab32-0242ac110002",
       "next": null,
       "previous": "20cabf9a-b963-11e7-ab32-0242ac110002"
      },
      {
       "current": "068b635c-b961-11e7-ab32-0242ac110002",
       "next": "d6915b58-c693-11e7-97d0-0242ac110002",
       "previous": "20cabf9a-b963-11e7-ab32-0242ac110002"
      }
     ],
     "next": "12c78cc6-c696-11e7-97d0-0242ac110002",
     "previous": "12c78a28-c696-11e7-97d0-0242ac110002"
    },
    "pinned_outputs": []
   },
   "outputs": [],
   "source": [
    "%%bash\n",
    "cd Build\n",
    "rm -f build\n",
    "mkdir build\n",
    "cd build\n",
    "cmake ..\n",
    "make Ss6Converter\n",
    "./Ss6Converter"
   ]
  },
  {
   "cell_type": "markdown",
   "metadata": {
    "lc_cell_meme": {
     "current": "12c78cc6-c696-11e7-97d0-0242ac110002",
     "next": "d6915b58-c693-11e7-97d0-0242ac110002",
     "previous": "068b635c-b961-11e7-ab32-0242ac110002"
    }
   },
   "source": [
    "# コンバート"
   ]
  },
  {
   "cell_type": "code",
   "execution_count": null,
   "metadata": {
    "lc_cell_meme": {
     "current": "d6915b58-c693-11e7-97d0-0242ac110002",
     "history": [
      {
       "current": "d6915b58-c693-11e7-97d0-0242ac110002",
       "next": null,
       "previous": "068b635c-b961-11e7-ab32-0242ac110002"
      },
      {
       "current": "d6915b58-c693-11e7-97d0-0242ac110002",
       "next": null,
       "previous": "12c78cc6-c696-11e7-97d0-0242ac110002"
      }
     ],
     "next": null,
     "previous": "12c78cc6-c696-11e7-97d0-0242ac110002"
    }
   },
   "outputs": [],
   "source": [
    "%%bash\n",
    "\n",
    "echo \"-- allAttributeV6 --\"\n",
    "cd Build/TestData/allAttributeV6\n",
    "../../build/Ss6Converter allAttributeV6.sspj\n",
    "../../build/Ss6Converter -f json allAttributeV6.sspj\n",
    "python -m json.tool < allAttributeV6.ssbp.json > allAttributeV6.ssbp.formated.json\n",
    "json2msgpack -bli allAttributeV6.ssbp.json -o allAttributeV6.ssbp.mp\n",
    "ls -la *.ssbp*\n",
    "\n",
    "echo \"-- allPartsV6 --\"\n",
    "cd ../allPartsV6\n",
    "../../build/Ss6Converter allPartsV6.sspj\n",
    "../../build/Ss6Converter -f json allPartsV6.sspj\n",
    "python -m json.tool < allPartsV6.ssbp.json > allPartsV6.ssbp.formated.json\n",
    "json2msgpack -bli allPartsV6.ssbp.json -o allPartsV6.ssbp.mp\n",
    "ls -la *.ssbp*\n",
    "\n",
    "echo \"-- effect_allcheck --\"\n",
    "cd ../effect_allcheck\n",
    "../../build/Ss6Converter effect_allcheck.sspj\n",
    "../../build/Ss6Converter -f json effect_allcheck.sspj\n",
    "python -m json.tool < effect_allcheck.ssbp.json > effect_allcheck.ssbp.formated.json\n",
    "json2msgpack -bli effect_allcheck.ssbp.json -o effect_allcheck.ssbp.mp\n",
    "ls -la *.ssbp*\n"
   ]
  }
 ],
 "metadata": {
  "kernelspec": {
   "display_name": "Python 3",
   "language": "python",
   "name": "python3"
  },
  "language_info": {
   "codemirror_mode": {
    "name": "ipython",
    "version": 3
   },
   "file_extension": ".py",
   "mimetype": "text/x-python",
   "name": "python",
   "nbconvert_exporter": "python",
   "pygments_lexer": "ipython3",
   "version": "3.5.2"
  },
  "lc_notebook_meme": {
   "current": "fc8f76a6-b8aa-11e7-9d3a-0242ac110002",
   "lc_server_signature": {
    "current": {
     "notebook_dir": "/notebooks",
     "notebook_path": "/ss6sdk",
     "server_url": "http://localhost:8888/",
     "signature_id": "0ff4d732-c692-11e7-97d0-0242ac110002"
    },
    "history": [
     {
      "notebook_dir": "/notebooks",
      "notebook_path": "/",
      "server_url": "http://localhost:8888/",
      "signature_id": "a0960856-b8aa-11e7-9d3a-0242ac110002"
     },
     {
      "notebook_dir": "/notebooks",
      "notebook_path": "/",
      "server_url": "http://localhost:8888/",
      "signature_id": "39190d04-b945-11e7-8edb-0242ac110002"
     },
     {
      "notebook_dir": "/notebooks",
      "notebook_path": "/",
      "server_url": "http://localhost:8888/",
      "signature_id": "c8b831d2-b95f-11e7-ab32-0242ac110002"
     },
     {
      "notebook_dir": "/notebooks",
      "notebook_path": "/ss6sdk",
      "server_url": "http://localhost:8888/",
      "signature_id": "2a48f712-c449-11e7-bb2c-0242ac110002"
     },
     {
      "notebook_dir": "/notebooks",
      "notebook_path": "/ss6sdk",
      "server_url": "http://localhost:8888/",
      "signature_id": "5d426b4e-c50c-11e7-bb94-0242ac110002"
     }
    ]
   }
  },
  "toc": {
   "nav_menu": {},
   "number_sections": true,
   "sideBar": true,
   "skip_h1_title": false,
   "toc_cell": false,
   "toc_position": {},
   "toc_section_display": "block",
   "toc_window_display": false
  }
 },
 "nbformat": 4,
 "nbformat_minor": 2
}
