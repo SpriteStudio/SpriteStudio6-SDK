{
 "cells": [
  {
   "cell_type": "markdown",
   "metadata": {
    "lc_cell_meme": {
     "current": "1e16c580-c694-11e7-97d0-0242ac110002",
     "history": [
      {
       "current": "1e16c580-c694-11e7-97d0-0242ac110002",
       "next": "9ea69722-b945-11e7-8edb-0242ac110002",
       "previous": null
      }
     ],
     "next": "659caafa-c694-11e7-97d0-0242ac110002",
     "previous": null
    }
   },
   "source": [
    "# SS6 ssbpのjson、message_pack変換\n",
    "\n",
    "ss6sdk内のコンバータを改造してssbp相当のデータを持ったjsonを吐き出させる。また、そのjsonをmessage packに変換する。"
   ]
  },
  {
   "cell_type": "markdown",
   "metadata": {
    "lc_cell_meme": {
     "current": "659caafa-c694-11e7-97d0-0242ac110002",
     "history": [
      {
       "current": "659caafa-c694-11e7-97d0-0242ac110002",
       "next": "9ea69722-b945-11e7-8edb-0242ac110002",
       "previous": "1e16c580-c694-11e7-97d0-0242ac110002"
      }
     ],
     "next": "f4aad0e6-c694-11e7-97d0-0242ac110002",
     "previous": "1e16c580-c694-11e7-97d0-0242ac110002"
    }
   },
   "source": [
    "# 前提\n",
    "\n",
    "作業対象のファイル一式は、ホスト上の一式をjupyterコンテナに共有させて用意する。\n",
    "\n",
    "```\n",
    "git clone --depth 1 https://github.com/SpriteStudio/SpriteStudio6-SDK.git\n",
    "```\n",
    "\n",
    "相当のを、コンテナ起動時にマウントする。\n",
    "\n",
    "```\n",
    "docker run -d -v c:/Users/mnaga/Documents/SpriteStudio6-SDK:/notebooks/ss6sdk \\\n",
    "    -p 8888:8888 --name ss6sdknb niicloudoperation/notebook\n",
    "```\n"
   ]
  },
  {
   "cell_type": "markdown",
   "metadata": {
    "heading_collapsed": true,
    "lc_cell_meme": {
     "current": "f4aad0e6-c694-11e7-97d0-0242ac110002",
     "history": [
      {
       "current": "f4aad0e6-c694-11e7-97d0-0242ac110002",
       "next": "f4aad5be-c694-11e7-97d0-0242ac110002",
       "previous": "9ea69722-b945-11e7-8edb-0242ac110002"
      }
     ],
     "next": "f4aad5be-c694-11e7-97d0-0242ac110002",
     "previous": "659caafa-c694-11e7-97d0-0242ac110002"
    }
   },
   "source": [
    "# 準備\n",
    "\n",
    "ビルド環境整備と、message packへのコンバータの用意と、ファイル一式のUTF8BOM+CRLF化"
   ]
  },
  {
   "cell_type": "markdown",
   "metadata": {
    "hidden": true,
    "lc_cell_meme": {
     "current": "f4aad5be-c694-11e7-97d0-0242ac110002",
     "next": "fc8f780e-b8aa-11e7-9d3a-0242ac110002",
     "previous": "f4aad0e6-c694-11e7-97d0-0242ac110002"
    }
   },
   "source": [
    "ビルド環境整備。gccとcmakeとnkfを入れる"
   ]
  },
  {
   "cell_type": "code",
   "execution_count": null,
   "metadata": {
    "hidden": true,
    "lc_cell_meme": {
     "current": "fc8f780e-b8aa-11e7-9d3a-0242ac110002",
     "history": [
      {
       "current": "fc8f780e-b8aa-11e7-9d3a-0242ac110002",
       "next": null,
       "previous": null
      },
      {
       "current": "fc8f780e-b8aa-11e7-9d3a-0242ac110002",
       "next": "4494c46a-b8ab-11e7-9d3a-0242ac110002",
       "previous": null
      },
      {
       "current": "fc8f780e-b8aa-11e7-9d3a-0242ac110002",
       "next": "4494c46a-b8ab-11e7-9d3a-0242ac110002",
       "previous": "9ea69722-b945-11e7-8edb-0242ac110002"
      },
      {
       "current": "fc8f780e-b8aa-11e7-9d3a-0242ac110002",
       "next": "fdd1b8e0-b962-11e7-ab32-0242ac110002",
       "previous": "9ea69722-b945-11e7-8edb-0242ac110002"
      },
      {
       "current": "fc8f780e-b8aa-11e7-9d3a-0242ac110002",
       "next": "b875c038-c692-11e7-97d0-0242ac110002",
       "previous": "9ea69722-b945-11e7-8edb-0242ac110002"
      },
      {
       "current": "fc8f780e-b8aa-11e7-9d3a-0242ac110002",
       "next": "b875c038-c692-11e7-97d0-0242ac110002",
       "previous": "f4aad5be-c694-11e7-97d0-0242ac110002"
      }
     ],
     "next": "cb3d4ff8-c695-11e7-97d0-0242ac110002",
     "previous": "f4aad5be-c694-11e7-97d0-0242ac110002"
    },
    "pinned_outputs": [
     {
      "execution_count": 1,
      "outputs": [
       {
        "name": "stdout",
        "output_type": "stream",
        "text": "Ign http://cdn-fastly.deb.debian.org jessie InRelease\nGet:1 http://cdn-fastly.deb.debian.org jessie-updates InRelease [145 kB]\nGet:2 http://cdn-fastly.deb.debian.org jessie/updates InRelease [63.1 kB]\nGet:3 http://cdn-fastly.deb.debian.org jessie Release.gpg [2,373 B]\nGet:4 http://cdn-fastly.deb.debian.org jessie Release [148 kB] \nGet:5 http://cdn-fastly.deb.debian.org jessie-updates/main amd64 Packages [23.2 kB]\nGet:6 http://cdn-fastly.deb.debian.org jessie/updates/main amd64 Packages [611 kB]\nGet:7 http://cdn-fastly.deb.debian.org jessie/main amd64 Packages [9,063 kB]\nFetched 10.1 MB in 7s (1,409 kB/s)                                             \nReading package lists... Done\nReading package lists... Done\nBuilding dependency tree       \nReading state information... Done\nCalculating upgrade... Done\nThe following packages will be upgraded:\n  curl libcurl3 libcurl3-gnutls libssl-dev libssl-doc libssl1.0.0 openssl\n  tzdata wget\n9 upgraded, 0 newly installed, 0 to remove and 0 not upgraded.\nNeed to get 5,602 kB of archives.\nAfter this operation, 369 kB of additional disk space will be used.\nGet:1 http://cdn-fastly.deb.debian.org/debian-security/ jessie/updates/main libssl-doc all 1.0.1t-1+deb8u7 [1,168 kB]\nGet:2 http://cdn-fastly.deb.debian.org/debian-security/ jessie/updates/main libssl-dev amd64 1.0.1t-1+deb8u7 [1,283 kB]\nGet:3 http://cdn-fastly.deb.debian.org/debian-security/ jessie/updates/main libssl1.0.0 amd64 1.0.1t-1+deb8u7 [1,046 kB]\nGet:4 http://cdn-fastly.deb.debian.org/debian-security/ jessie/updates/main curl amd64 7.38.0-4+deb8u7 [201 kB]\nGet:5 http://cdn-fastly.deb.debian.org/debian-security/ jessie/updates/main libcurl3 amd64 7.38.0-4+deb8u7 [259 kB]\nGet:6 http://cdn-fastly.deb.debian.org/debian-security/ jessie/updates/main libcurl3-gnutls amd64 7.38.0-4+deb8u7 [252 kB]\nGet:7 http://cdn-fastly.deb.debian.org/debian/ jessie-updates/main tzdata all 2017c-0+deb8u1 [232 kB]\nGet:8 http://cdn-fastly.deb.debian.org/debian-security/ jessie/updates/main wget amd64 1.16-1+deb8u4 [496 kB]\nGet:9 http://cdn-fastly.deb.debian.org/debian-security/ jessie/updates/main openssl amd64 1.0.1t-1+deb8u7 [665 kB]\nFetched 5,602 kB in 2s (2,710 kB/s)\ndebconf: delaying package configuration, since apt-utils is not installed\n(Reading database ... 84295 files and directories currently installed.)\nPreparing to unpack .../libssl-doc_1.0.1t-1+deb8u7_all.deb ...\nUnpacking libssl-doc (1.0.1t-1+deb8u7) over (1.0.1t-1+deb8u6) ...\nPreparing to unpack .../libssl-dev_1.0.1t-1+deb8u7_amd64.deb ...\nUnpacking libssl-dev:amd64 (1.0.1t-1+deb8u7) over (1.0.1t-1+deb8u6) ...\nPreparing to unpack .../libssl1.0.0_1.0.1t-1+deb8u7_amd64.deb ...\nUnpacking libssl1.0.0:amd64 (1.0.1t-1+deb8u7) over (1.0.1t-1+deb8u6) ...\nPreparing to unpack .../curl_7.38.0-4+deb8u7_amd64.deb ...\nUnpacking curl (7.38.0-4+deb8u7) over (7.38.0-4+deb8u6) ...\nPreparing to unpack .../libcurl3_7.38.0-4+deb8u7_amd64.deb ...\nUnpacking libcurl3:amd64 (7.38.0-4+deb8u7) over (7.38.0-4+deb8u6) ...\nPreparing to unpack .../libcurl3-gnutls_7.38.0-4+deb8u7_amd64.deb ...\nUnpacking libcurl3-gnutls:amd64 (7.38.0-4+deb8u7) over (7.38.0-4+deb8u6) ...\nPreparing to unpack .../tzdata_2017c-0+deb8u1_all.deb ...\nUnpacking tzdata (2017c-0+deb8u1) over (2017b-0+deb8u1) ...\nSetting up tzdata (2017c-0+deb8u1) ...\ndebconf: unable to initialize frontend: Dialog\ndebconf: (No usable dialog-like program is installed, so the dialog based frontend cannot be used. at /usr/share/perl5/Debconf/FrontEnd/Dialog.pm line 76.)\ndebconf: falling back to frontend: Readline\n\nCurrent default time zone: 'Etc/UTC'\nLocal time is now:      Sat Nov 11 04:57:16 UTC 2017.\nUniversal Time is now:  Sat Nov 11 04:57:16 UTC 2017.\nRun 'dpkg-reconfigure tzdata' if you wish to change it.\n\n(Reading database ... 84292 files and directories currently installed.)\nPreparing to unpack .../wget_1.16-1+deb8u4_amd64.deb ...\nUnpacking wget (1.16-1+deb8u4) over (1.16-1+deb8u2) ...\nPreparing to unpack .../openssl_1.0.1t-1+deb8u7_amd64.deb ...\nUnpacking openssl (1.0.1t-1+deb8u7) over (1.0.1t-1+deb8u6) ...\nSetting up libssl-doc (1.0.1t-1+deb8u7) ...\nSetting up libssl1.0.0:amd64 (1.0.1t-1+deb8u7) ...\ndebconf: unable to initialize frontend: Dialog\ndebconf: (No usable dialog-like program is installed, so the dialog based frontend cannot be used. at /usr/share/perl5/Debconf/FrontEnd/Dialog.pm line 76.)\ndebconf: falling back to frontend: Readline\nSetting up libssl-dev:amd64 (1.0.1t-1+deb8u7) ...\nSetting up libcurl3:amd64 (7.38.0-4+deb8u7) ...\nSetting up curl (7.38.0-4+deb8u7) ...\nSetting up libcurl3-gnutls:amd64 (7.38.0-4+deb8u7) ...\nSetting up wget (1.16-1+deb8u4) ...\nSetting up openssl (1.0.1t-1+deb8u7) ...\nProcessing triggers for libc-bin (2.19-18+deb8u10) ...\nReading package lists... Done\nBuilding dependency tree       \nReading state information... Done\nbuild-essential is already the newest version.\nThe following extra packages will be installed:\n  cmake-data libarchive13 liblzo2-2\nSuggested packages:\n  codeblocks eclipse ninja-build lrzip\nThe following NEW packages will be installed:\n  cmake cmake-data libarchive13 liblzo2-2 nkf\n0 upgraded, 5 newly installed, 0 to remove and 0 not upgraded.\nNeed to get 3,766 kB of archives.\nAfter this operation, 17.8 MB of additional disk space will be used.\nGet:1 http://cdn-fastly.deb.debian.org/debian/ jessie/main cmake-data all 3.0.2-1+deb8u1 [929 kB]\nGet:2 http://cdn-fastly.deb.debian.org/debian/ jessie/main liblzo2-2 amd64 2.08-1.2 [54.6 kB]\nGet:3 http://cdn-fastly.deb.debian.org/debian/ jessie/main libarchive13 amd64 3.1.2-11+deb8u3 [271 kB]\nGet:4 http://cdn-fastly.deb.debian.org/debian/ jessie/main cmake amd64 3.0.2-1+deb8u1 [2,385 kB]\nGet:5 http://cdn-fastly.deb.debian.org/debian/ jessie/main nkf amd64 2.13-4 [127 kB]\nFetched 3,766 kB in 1s (3,021 kB/s)\ndebconf: delaying package configuration, since apt-utils is not installed\nSelecting previously unselected package cmake-data.\n(Reading database ... 84292 files and directories currently installed.)\nPreparing to unpack .../cmake-data_3.0.2-1+deb8u1_all.deb ...\nUnpacking cmake-data (3.0.2-1+deb8u1) ...\nSelecting previously unselected package liblzo2-2:amd64.\nPreparing to unpack .../liblzo2-2_2.08-1.2_amd64.deb ...\nUnpacking liblzo2-2:amd64 (2.08-1.2) ...\nSelecting previously unselected package libarchive13:amd64.\nPreparing to unpack .../libarchive13_3.1.2-11+deb8u3_amd64.deb ...\nUnpacking libarchive13:amd64 (3.1.2-11+deb8u3) ...\nSelecting previously unselected package cmake.\nPreparing to unpack .../cmake_3.0.2-1+deb8u1_amd64.deb ...\nUnpacking cmake (3.0.2-1+deb8u1) ...\nSelecting previously unselected package nkf.\nPreparing to unpack .../archives/nkf_2.13-4_amd64.deb ...\nUnpacking nkf (2.13-4) ...\nSetting up cmake-data (3.0.2-1+deb8u1) ...\nInstall cmake-data for emacs24\ninstall/cmake-data: Byte-compiling for emacs24\nWrote /usr/share/emacs24/site-lisp/cmake-data/cmake-mode.elc\nSetting up liblzo2-2:amd64 (2.08-1.2) ...\nSetting up libarchive13:amd64 (3.1.2-11+deb8u3) ...\nSetting up cmake (3.0.2-1+deb8u1) ...\nSetting up nkf (2.13-4) ...\nProcessing triggers for libc-bin (2.19-18+deb8u10) ...\nReading package lists... Done\nBuilding dependency tree       \nReading state information... Done\n0 upgraded, 0 newly installed, 0 to remove and 0 not upgraded.\n"
       }
      ]
     }
    ],
    "scrolled": true
   },
   "outputs": [],
   "source": [
    "!sudo apt-get update && sudo apt-get upgrade -y && \\\n",
    "sudo apt-get install -y build-essential cmake nkf && \\\n",
    "sudo apt-get clean all && sudo apt-get autoremove"
   ]
  },
  {
   "cell_type": "markdown",
   "metadata": {
    "hidden": true,
    "lc_cell_meme": {
     "current": "cb3d4ff8-c695-11e7-97d0-0242ac110002",
     "next": "0093b122-c693-11e7-97d0-0242ac110002",
     "previous": "fc8f780e-b8aa-11e7-9d3a-0242ac110002"
    }
   },
   "source": [
    "message packへのコンバータの用意"
   ]
  },
  {
   "cell_type": "code",
   "execution_count": null,
   "metadata": {
    "hidden": true,
    "lc_cell_meme": {
     "current": "0093b122-c693-11e7-97d0-0242ac110002",
     "history": [
      {
       "current": "0093b122-c693-11e7-97d0-0242ac110002",
       "next": "fdd1b8e0-b962-11e7-ab32-0242ac110002",
       "previous": "b875c038-c692-11e7-97d0-0242ac110002"
      }
     ],
     "next": "fdd1b8e0-b962-11e7-ab32-0242ac110002",
     "previous": "cb3d4ff8-c695-11e7-97d0-0242ac110002"
    },
    "pinned_outputs": [
     {
      "execution_count": 2,
      "outputs": [
       {
        "name": "stdout",
        "output_type": "stream",
        "text": "Cloning into 'msgpack-tools'...\nremote: Counting objects: 52, done.\u001b[K\nremote: Compressing objects: 100% (37/37), done.\u001b[K\nremote: Total 52 (delta 10), reused 29 (delta 9), pack-reused 0\u001b[K\nUnpacking objects: 100% (52/52), done.\nChecking connectivity... done.\n-- The C compiler identification is GNU 4.9.2\n-- The CXX compiler identification is GNU 4.9.2\n-- Check for working C compiler: /usr/bin/cc\n-- Check for working C compiler: /usr/bin/cc -- works\n-- Detecting C compiler ABI info\n-- Detecting C compiler ABI info - done\n-- Check for working CXX compiler: /usr/bin/c++\n-- Check for working CXX compiler: /usr/bin/c++ -- works\n-- Detecting CXX compiler ABI info\n-- Detecting CXX compiler ABI info - done\n-- Performing Test HAS_C11\n-- Performing Test HAS_C11 - Success\n-- Performing Test HAS_CXX11\n-- Performing Test HAS_CXX11 - Success\n-- Downloading: mpack-df17e83f0fa8571b9cd0d8ccf38144fa90e244d1.tar.gz\n-- Downloading: rapidjson-99ba17bd66a85ec64a2f322b68c2b9c3b77a4391.tar.gz\n-- Downloading: libb64-1.2.1.zip\nCMake Warning at CMakeLists.txt:153 (message):\n  \n\n  md2man-roff is not installed.  Man pages will not be created!\n\n  See: https://github.com/sunaku/md2man\n\n\n-- Debian-based Linux OS detected\n-- Configuring done\n-- Generating done\n-- Build files have been written to: /notebooks/ss6sdk/msgpack-tools\n/usr/bin/cmake -H/notebooks/ss6sdk/msgpack-tools -B/notebooks/ss6sdk/msgpack-tools --check-build-system CMakeFiles/Makefile.cmake 0\n/usr/bin/cmake -E cmake_progress_start /notebooks/ss6sdk/msgpack-tools/CMakeFiles /notebooks/ss6sdk/msgpack-tools/CMakeFiles/progress.marks\nmake -f CMakeFiles/Makefile2 all\nmake[1]: Entering directory '/notebooks/ss6sdk/msgpack-tools'\nmake -f CMakeFiles/json2msgpack.dir/build.make CMakeFiles/json2msgpack.dir/depend\nmake[2]: Entering directory '/notebooks/ss6sdk/msgpack-tools'\ncd /notebooks/ss6sdk/msgpack-tools && /usr/bin/cmake -E cmake_depends \"Unix Makefiles\" /notebooks/ss6sdk/msgpack-tools /notebooks/ss6sdk/msgpack-tools /notebooks/ss6sdk/msgpack-tools /notebooks/ss6sdk/msgpack-tools /notebooks/ss6sdk/msgpack-tools/CMakeFiles/json2msgpack.dir/DependInfo.cmake --color=\n\u001b[35m\u001b[1mScanning dependencies of target json2msgpack\n\u001b[0mmake[2]: Leaving directory '/notebooks/ss6sdk/msgpack-tools'\nmake -f CMakeFiles/json2msgpack.dir/build.make CMakeFiles/json2msgpack.dir/build\nmake[2]: Entering directory '/notebooks/ss6sdk/msgpack-tools'\n/usr/bin/cmake -E cmake_progress_report /notebooks/ss6sdk/msgpack-tools/CMakeFiles 1\n[  5%] \u001b[32mBuilding CXX object CMakeFiles/json2msgpack.dir/src/json2msgpack.cpp.o\n\u001b[0m/usr/bin/c++    -std=c++11 -Wall -Wextra -DVERSION=\\\"0.6\\\" -DLIBB64_VERSION=\\\"1.2.1\\\" -g -O0 -DDEBUG -isystem /notebooks/ss6sdk/msgpack-tools -isystem /notebooks/ss6sdk/msgpack-tools/contrib/mpack-df17e83f0fa8571b9cd0d8ccf38144fa90e244d1/src -isystem /notebooks/ss6sdk/msgpack-tools/contrib/rapidjson-99ba17bd66a85ec64a2f322b68c2b9c3b77a4391/include -isystem /notebooks/ss6sdk/msgpack-tools/contrib/libb64-1.2.1/include    -o CMakeFiles/json2msgpack.dir/src/json2msgpack.cpp.o -c /notebooks/ss6sdk/msgpack-tools/src/json2msgpack.cpp\n/usr/bin/cmake -E cmake_progress_report /notebooks/ss6sdk/msgpack-tools/CMakeFiles 2\n[ 11%] \u001b[32mBuilding C object CMakeFiles/json2msgpack.dir/contrib/mpack-df17e83f0fa8571b9cd0d8ccf38144fa90e244d1/src/mpack/mpack-common.c.o\n\u001b[0m/usr/bin/cc   -std=c11 -Wall -Wextra -DVERSION=\\\"0.6\\\" -DLIBB64_VERSION=\\\"1.2.1\\\" -g -O0 -DDEBUG -isystem /notebooks/ss6sdk/msgpack-tools -isystem /notebooks/ss6sdk/msgpack-tools/contrib/mpack-df17e83f0fa8571b9cd0d8ccf38144fa90e244d1/src -isystem /notebooks/ss6sdk/msgpack-tools/contrib/rapidjson-99ba17bd66a85ec64a2f322b68c2b9c3b77a4391/include -isystem /notebooks/ss6sdk/msgpack-tools/contrib/libb64-1.2.1/include    -o CMakeFiles/json2msgpack.dir/contrib/mpack-df17e83f0fa8571b9cd0d8ccf38144fa90e244d1/src/mpack/mpack-common.c.o   -c /notebooks/ss6sdk/msgpack-tools/contrib/mpack-df17e83f0fa8571b9cd0d8ccf38144fa90e244d1/src/mpack/mpack-common.c\n/usr/bin/cmake -E cmake_progress_report /notebooks/ss6sdk/msgpack-tools/CMakeFiles 3\n[ 16%] \u001b[32mBuilding C object CMakeFiles/json2msgpack.dir/contrib/mpack-df17e83f0fa8571b9cd0d8ccf38144fa90e244d1/src/mpack/mpack-expect.c.o\n\u001b[0m/usr/bin/cc   -std=c11 -Wall -Wextra -DVERSION=\\\"0.6\\\" -DLIBB64_VERSION=\\\"1.2.1\\\" -g -O0 -DDEBUG -isystem /notebooks/ss6sdk/msgpack-tools -isystem /notebooks/ss6sdk/msgpack-tools/contrib/mpack-df17e83f0fa8571b9cd0d8ccf38144fa90e244d1/src -isystem /notebooks/ss6sdk/msgpack-tools/contrib/rapidjson-99ba17bd66a85ec64a2f322b68c2b9c3b77a4391/include -isystem /notebooks/ss6sdk/msgpack-tools/contrib/libb64-1.2.1/include    -o CMakeFiles/json2msgpack.dir/contrib/mpack-df17e83f0fa8571b9cd0d8ccf38144fa90e244d1/src/mpack/mpack-expect.c.o   -c /notebooks/ss6sdk/msgpack-tools/contrib/mpack-df17e83f0fa8571b9cd0d8ccf38144fa90e244d1/src/mpack/mpack-expect.c\n/usr/bin/cmake -E cmake_progress_report /notebooks/ss6sdk/msgpack-tools/CMakeFiles 4\n[ 22%] \u001b[32mBuilding C object CMakeFiles/json2msgpack.dir/contrib/mpack-df17e83f0fa8571b9cd0d8ccf38144fa90e244d1/src/mpack/mpack-node.c.o\n\u001b[0m/usr/bin/cc   -std=c11 -Wall -Wextra -DVERSION=\\\"0.6\\\" -DLIBB64_VERSION=\\\"1.2.1\\\" -g -O0 -DDEBUG -isystem /notebooks/ss6sdk/msgpack-tools -isystem /notebooks/ss6sdk/msgpack-tools/contrib/mpack-df17e83f0fa8571b9cd0d8ccf38144fa90e244d1/src -isystem /notebooks/ss6sdk/msgpack-tools/contrib/rapidjson-99ba17bd66a85ec64a2f322b68c2b9c3b77a4391/include -isystem /notebooks/ss6sdk/msgpack-tools/contrib/libb64-1.2.1/include    -o CMakeFiles/json2msgpack.dir/contrib/mpack-df17e83f0fa8571b9cd0d8ccf38144fa90e244d1/src/mpack/mpack-node.c.o   -c /notebooks/ss6sdk/msgpack-tools/contrib/mpack-df17e83f0fa8571b9cd0d8ccf38144fa90e244d1/src/mpack/mpack-node.c\n/usr/bin/cmake -E cmake_progress_report /notebooks/ss6sdk/msgpack-tools/CMakeFiles 5\n[ 27%] \u001b[32mBuilding C object CMakeFiles/json2msgpack.dir/contrib/mpack-df17e83f0fa8571b9cd0d8ccf38144fa90e244d1/src/mpack/mpack-platform.c.o\n\u001b[0m/usr/bin/cc   -std=c11 -Wall -Wextra -DVERSION=\\\"0.6\\\" -DLIBB64_VERSION=\\\"1.2.1\\\" -g -O0 -DDEBUG -isystem /notebooks/ss6sdk/msgpack-tools -isystem /notebooks/ss6sdk/msgpack-tools/contrib/mpack-df17e83f0fa8571b9cd0d8ccf38144fa90e244d1/src -isystem /notebooks/ss6sdk/msgpack-tools/contrib/rapidjson-99ba17bd66a85ec64a2f322b68c2b9c3b77a4391/include -isystem /notebooks/ss6sdk/msgpack-tools/contrib/libb64-1.2.1/include    -o CMakeFiles/json2msgpack.dir/contrib/mpack-df17e83f0fa8571b9cd0d8ccf38144fa90e244d1/src/mpack/mpack-platform.c.o   -c /notebooks/ss6sdk/msgpack-tools/contrib/mpack-df17e83f0fa8571b9cd0d8ccf38144fa90e244d1/src/mpack/mpack-platform.c\n/usr/bin/cmake -E cmake_progress_report /notebooks/ss6sdk/msgpack-tools/CMakeFiles 6\n[ 33%] \u001b[32mBuilding C object CMakeFiles/json2msgpack.dir/contrib/mpack-df17e83f0fa8571b9cd0d8ccf38144fa90e244d1/src/mpack/mpack-reader.c.o\n\u001b[0m/usr/bin/cc   -std=c11 -Wall -Wextra -DVERSION=\\\"0.6\\\" -DLIBB64_VERSION=\\\"1.2.1\\\" -g -O0 -DDEBUG -isystem /notebooks/ss6sdk/msgpack-tools -isystem /notebooks/ss6sdk/msgpack-tools/contrib/mpack-df17e83f0fa8571b9cd0d8ccf38144fa90e244d1/src -isystem /notebooks/ss6sdk/msgpack-tools/contrib/rapidjson-99ba17bd66a85ec64a2f322b68c2b9c3b77a4391/include -isystem /notebooks/ss6sdk/msgpack-tools/contrib/libb64-1.2.1/include    -o CMakeFiles/json2msgpack.dir/contrib/mpack-df17e83f0fa8571b9cd0d8ccf38144fa90e244d1/src/mpack/mpack-reader.c.o   -c /notebooks/ss6sdk/msgpack-tools/contrib/mpack-df17e83f0fa8571b9cd0d8ccf38144fa90e244d1/src/mpack/mpack-reader.c\n/usr/bin/cmake -E cmake_progress_report /notebooks/ss6sdk/msgpack-tools/CMakeFiles 7\n[ 38%] \u001b[32mBuilding C object CMakeFiles/json2msgpack.dir/contrib/mpack-df17e83f0fa8571b9cd0d8ccf38144fa90e244d1/src/mpack/mpack-writer.c.o\n\u001b[0m/usr/bin/cc   -std=c11 -Wall -Wextra -DVERSION=\\\"0.6\\\" -DLIBB64_VERSION=\\\"1.2.1\\\" -g -O0 -DDEBUG -isystem /notebooks/ss6sdk/msgpack-tools -isystem /notebooks/ss6sdk/msgpack-tools/contrib/mpack-df17e83f0fa8571b9cd0d8ccf38144fa90e244d1/src -isystem /notebooks/ss6sdk/msgpack-tools/contrib/rapidjson-99ba17bd66a85ec64a2f322b68c2b9c3b77a4391/include -isystem /notebooks/ss6sdk/msgpack-tools/contrib/libb64-1.2.1/include    -o CMakeFiles/json2msgpack.dir/contrib/mpack-df17e83f0fa8571b9cd0d8ccf38144fa90e244d1/src/mpack/mpack-writer.c.o   -c /notebooks/ss6sdk/msgpack-tools/contrib/mpack-df17e83f0fa8571b9cd0d8ccf38144fa90e244d1/src/mpack/mpack-writer.c\n"
       },
       {
        "name": "stdout",
        "output_type": "stream",
        "text": "/usr/bin/cmake -E cmake_progress_report /notebooks/ss6sdk/msgpack-tools/CMakeFiles 8\n[ 44%] \u001b[32mBuilding C object CMakeFiles/json2msgpack.dir/contrib/libb64-1.2.1/src/cdecode.c.o\n\u001b[0m/usr/bin/cc   -std=c11 -Wall -Wextra -DVERSION=\\\"0.6\\\" -DLIBB64_VERSION=\\\"1.2.1\\\" -g -O0 -DDEBUG -isystem /notebooks/ss6sdk/msgpack-tools -isystem /notebooks/ss6sdk/msgpack-tools/contrib/mpack-df17e83f0fa8571b9cd0d8ccf38144fa90e244d1/src -isystem /notebooks/ss6sdk/msgpack-tools/contrib/rapidjson-99ba17bd66a85ec64a2f322b68c2b9c3b77a4391/include -isystem /notebooks/ss6sdk/msgpack-tools/contrib/libb64-1.2.1/include    -o CMakeFiles/json2msgpack.dir/contrib/libb64-1.2.1/src/cdecode.c.o   -c /notebooks/ss6sdk/msgpack-tools/contrib/libb64-1.2.1/src/cdecode.c\n/usr/bin/cmake -E cmake_progress_report /notebooks/ss6sdk/msgpack-tools/CMakeFiles 9\n[ 50%] \u001b[32mBuilding C object CMakeFiles/json2msgpack.dir/contrib/libb64-1.2.1/src/cencode.c.o\n\u001b[0m/usr/bin/cc   -std=c11 -Wall -Wextra -DVERSION=\\\"0.6\\\" -DLIBB64_VERSION=\\\"1.2.1\\\" -g -O0 -DDEBUG -isystem /notebooks/ss6sdk/msgpack-tools -isystem /notebooks/ss6sdk/msgpack-tools/contrib/mpack-df17e83f0fa8571b9cd0d8ccf38144fa90e244d1/src -isystem /notebooks/ss6sdk/msgpack-tools/contrib/rapidjson-99ba17bd66a85ec64a2f322b68c2b9c3b77a4391/include -isystem /notebooks/ss6sdk/msgpack-tools/contrib/libb64-1.2.1/include    -o CMakeFiles/json2msgpack.dir/contrib/libb64-1.2.1/src/cencode.c.o   -c /notebooks/ss6sdk/msgpack-tools/contrib/libb64-1.2.1/src/cencode.c\n\u001b[31m\u001b[1mLinking CXX executable json2msgpack\n\u001b[0m/usr/bin/cmake -E cmake_link_script CMakeFiles/json2msgpack.dir/link.txt --verbose=1\n/usr/bin/c++   -std=c++11 -Wall -Wextra -DVERSION=\\\"0.6\\\" -DLIBB64_VERSION=\\\"1.2.1\\\" -g -O0 -DDEBUG    CMakeFiles/json2msgpack.dir/src/json2msgpack.cpp.o CMakeFiles/json2msgpack.dir/contrib/mpack-df17e83f0fa8571b9cd0d8ccf38144fa90e244d1/src/mpack/mpack-common.c.o CMakeFiles/json2msgpack.dir/contrib/mpack-df17e83f0fa8571b9cd0d8ccf38144fa90e244d1/src/mpack/mpack-expect.c.o CMakeFiles/json2msgpack.dir/contrib/mpack-df17e83f0fa8571b9cd0d8ccf38144fa90e244d1/src/mpack/mpack-node.c.o CMakeFiles/json2msgpack.dir/contrib/mpack-df17e83f0fa8571b9cd0d8ccf38144fa90e244d1/src/mpack/mpack-platform.c.o CMakeFiles/json2msgpack.dir/contrib/mpack-df17e83f0fa8571b9cd0d8ccf38144fa90e244d1/src/mpack/mpack-reader.c.o CMakeFiles/json2msgpack.dir/contrib/mpack-df17e83f0fa8571b9cd0d8ccf38144fa90e244d1/src/mpack/mpack-writer.c.o CMakeFiles/json2msgpack.dir/contrib/libb64-1.2.1/src/cdecode.c.o CMakeFiles/json2msgpack.dir/contrib/libb64-1.2.1/src/cencode.c.o  -o json2msgpack -rdynamic \nmake[2]: Leaving directory '/notebooks/ss6sdk/msgpack-tools'\n/usr/bin/cmake -E cmake_progress_report /notebooks/ss6sdk/msgpack-tools/CMakeFiles  1 2 3 4 5 6 7 8 9\n[ 50%] Built target json2msgpack\nmake -f CMakeFiles/msgpack2json.dir/build.make CMakeFiles/msgpack2json.dir/depend\nmake[2]: Entering directory '/notebooks/ss6sdk/msgpack-tools'\ncd /notebooks/ss6sdk/msgpack-tools && /usr/bin/cmake -E cmake_depends \"Unix Makefiles\" /notebooks/ss6sdk/msgpack-tools /notebooks/ss6sdk/msgpack-tools /notebooks/ss6sdk/msgpack-tools /notebooks/ss6sdk/msgpack-tools /notebooks/ss6sdk/msgpack-tools/CMakeFiles/msgpack2json.dir/DependInfo.cmake --color=\n\u001b[35m\u001b[1mScanning dependencies of target msgpack2json\n\u001b[0mmake[2]: Leaving directory '/notebooks/ss6sdk/msgpack-tools'\nmake -f CMakeFiles/msgpack2json.dir/build.make CMakeFiles/msgpack2json.dir/build\nmake[2]: Entering directory '/notebooks/ss6sdk/msgpack-tools'\n/usr/bin/cmake -E cmake_progress_report /notebooks/ss6sdk/msgpack-tools/CMakeFiles 10\n[ 55%] \u001b[32mBuilding CXX object CMakeFiles/msgpack2json.dir/src/msgpack2json.cpp.o\n\u001b[0m/usr/bin/c++    -std=c++11 -Wall -Wextra -DVERSION=\\\"0.6\\\" -DLIBB64_VERSION=\\\"1.2.1\\\" -g -O0 -DDEBUG -isystem /notebooks/ss6sdk/msgpack-tools -isystem /notebooks/ss6sdk/msgpack-tools/contrib/mpack-df17e83f0fa8571b9cd0d8ccf38144fa90e244d1/src -isystem /notebooks/ss6sdk/msgpack-tools/contrib/rapidjson-99ba17bd66a85ec64a2f322b68c2b9c3b77a4391/include -isystem /notebooks/ss6sdk/msgpack-tools/contrib/libb64-1.2.1/include    -o CMakeFiles/msgpack2json.dir/src/msgpack2json.cpp.o -c /notebooks/ss6sdk/msgpack-tools/src/msgpack2json.cpp\n/usr/bin/cmake -E cmake_progress_report /notebooks/ss6sdk/msgpack-tools/CMakeFiles 11\n[ 61%] \u001b[32mBuilding C object CMakeFiles/msgpack2json.dir/contrib/mpack-df17e83f0fa8571b9cd0d8ccf38144fa90e244d1/src/mpack/mpack-common.c.o\n\u001b[0m/usr/bin/cc   -std=c11 -Wall -Wextra -DVERSION=\\\"0.6\\\" -DLIBB64_VERSION=\\\"1.2.1\\\" -g -O0 -DDEBUG -isystem /notebooks/ss6sdk/msgpack-tools -isystem /notebooks/ss6sdk/msgpack-tools/contrib/mpack-df17e83f0fa8571b9cd0d8ccf38144fa90e244d1/src -isystem /notebooks/ss6sdk/msgpack-tools/contrib/rapidjson-99ba17bd66a85ec64a2f322b68c2b9c3b77a4391/include -isystem /notebooks/ss6sdk/msgpack-tools/contrib/libb64-1.2.1/include    -o CMakeFiles/msgpack2json.dir/contrib/mpack-df17e83f0fa8571b9cd0d8ccf38144fa90e244d1/src/mpack/mpack-common.c.o   -c /notebooks/ss6sdk/msgpack-tools/contrib/mpack-df17e83f0fa8571b9cd0d8ccf38144fa90e244d1/src/mpack/mpack-common.c\n/usr/bin/cmake -E cmake_progress_report /notebooks/ss6sdk/msgpack-tools/CMakeFiles 12\n[ 66%] \u001b[32mBuilding C object CMakeFiles/msgpack2json.dir/contrib/mpack-df17e83f0fa8571b9cd0d8ccf38144fa90e244d1/src/mpack/mpack-expect.c.o\n\u001b[0m/usr/bin/cc   -std=c11 -Wall -Wextra -DVERSION=\\\"0.6\\\" -DLIBB64_VERSION=\\\"1.2.1\\\" -g -O0 -DDEBUG -isystem /notebooks/ss6sdk/msgpack-tools -isystem /notebooks/ss6sdk/msgpack-tools/contrib/mpack-df17e83f0fa8571b9cd0d8ccf38144fa90e244d1/src -isystem /notebooks/ss6sdk/msgpack-tools/contrib/rapidjson-99ba17bd66a85ec64a2f322b68c2b9c3b77a4391/include -isystem /notebooks/ss6sdk/msgpack-tools/contrib/libb64-1.2.1/include    -o CMakeFiles/msgpack2json.dir/contrib/mpack-df17e83f0fa8571b9cd0d8ccf38144fa90e244d1/src/mpack/mpack-expect.c.o   -c /notebooks/ss6sdk/msgpack-tools/contrib/mpack-df17e83f0fa8571b9cd0d8ccf38144fa90e244d1/src/mpack/mpack-expect.c\n/usr/bin/cmake -E cmake_progress_report /notebooks/ss6sdk/msgpack-tools/CMakeFiles 13\n[ 72%] \u001b[32mBuilding C object CMakeFiles/msgpack2json.dir/contrib/mpack-df17e83f0fa8571b9cd0d8ccf38144fa90e244d1/src/mpack/mpack-node.c.o\n\u001b[0m/usr/bin/cc   -std=c11 -Wall -Wextra -DVERSION=\\\"0.6\\\" -DLIBB64_VERSION=\\\"1.2.1\\\" -g -O0 -DDEBUG -isystem /notebooks/ss6sdk/msgpack-tools -isystem /notebooks/ss6sdk/msgpack-tools/contrib/mpack-df17e83f0fa8571b9cd0d8ccf38144fa90e244d1/src -isystem /notebooks/ss6sdk/msgpack-tools/contrib/rapidjson-99ba17bd66a85ec64a2f322b68c2b9c3b77a4391/include -isystem /notebooks/ss6sdk/msgpack-tools/contrib/libb64-1.2.1/include    -o CMakeFiles/msgpack2json.dir/contrib/mpack-df17e83f0fa8571b9cd0d8ccf38144fa90e244d1/src/mpack/mpack-node.c.o   -c /notebooks/ss6sdk/msgpack-tools/contrib/mpack-df17e83f0fa8571b9cd0d8ccf38144fa90e244d1/src/mpack/mpack-node.c\n/usr/bin/cmake -E cmake_progress_report /notebooks/ss6sdk/msgpack-tools/CMakeFiles 14\n[ 77%] \u001b[32mBuilding C object CMakeFiles/msgpack2json.dir/contrib/mpack-df17e83f0fa8571b9cd0d8ccf38144fa90e244d1/src/mpack/mpack-platform.c.o\n\u001b[0m/usr/bin/cc   -std=c11 -Wall -Wextra -DVERSION=\\\"0.6\\\" -DLIBB64_VERSION=\\\"1.2.1\\\" -g -O0 -DDEBUG -isystem /notebooks/ss6sdk/msgpack-tools -isystem /notebooks/ss6sdk/msgpack-tools/contrib/mpack-df17e83f0fa8571b9cd0d8ccf38144fa90e244d1/src -isystem /notebooks/ss6sdk/msgpack-tools/contrib/rapidjson-99ba17bd66a85ec64a2f322b68c2b9c3b77a4391/include -isystem /notebooks/ss6sdk/msgpack-tools/contrib/libb64-1.2.1/include    -o CMakeFiles/msgpack2json.dir/contrib/mpack-df17e83f0fa8571b9cd0d8ccf38144fa90e244d1/src/mpack/mpack-platform.c.o   -c /notebooks/ss6sdk/msgpack-tools/contrib/mpack-df17e83f0fa8571b9cd0d8ccf38144fa90e244d1/src/mpack/mpack-platform.c\n/usr/bin/cmake -E cmake_progress_report /notebooks/ss6sdk/msgpack-tools/CMakeFiles 15\n[ 83%] \u001b[32mBuilding C object CMakeFiles/msgpack2json.dir/contrib/mpack-df17e83f0fa8571b9cd0d8ccf38144fa90e244d1/src/mpack/mpack-reader.c.o\n\u001b[0m/usr/bin/cc   -std=c11 -Wall -Wextra -DVERSION=\\\"0.6\\\" -DLIBB64_VERSION=\\\"1.2.1\\\" -g -O0 -DDEBUG -isystem /notebooks/ss6sdk/msgpack-tools -isystem /notebooks/ss6sdk/msgpack-tools/contrib/mpack-df17e83f0fa8571b9cd0d8ccf38144fa90e244d1/src -isystem /notebooks/ss6sdk/msgpack-tools/contrib/rapidjson-99ba17bd66a85ec64a2f322b68c2b9c3b77a4391/include -isystem /notebooks/ss6sdk/msgpack-tools/contrib/libb64-1.2.1/include    -o CMakeFiles/msgpack2json.dir/contrib/mpack-df17e83f0fa8571b9cd0d8ccf38144fa90e244d1/src/mpack/mpack-reader.c.o   -c /notebooks/ss6sdk/msgpack-tools/contrib/mpack-df17e83f0fa8571b9cd0d8ccf38144fa90e244d1/src/mpack/mpack-reader.c\n"
       },
       {
        "name": "stdout",
        "output_type": "stream",
        "text": "/usr/bin/cmake -E cmake_progress_report /notebooks/ss6sdk/msgpack-tools/CMakeFiles 16\n[ 88%] \u001b[32mBuilding C object CMakeFiles/msgpack2json.dir/contrib/mpack-df17e83f0fa8571b9cd0d8ccf38144fa90e244d1/src/mpack/mpack-writer.c.o\n\u001b[0m/usr/bin/cc   -std=c11 -Wall -Wextra -DVERSION=\\\"0.6\\\" -DLIBB64_VERSION=\\\"1.2.1\\\" -g -O0 -DDEBUG -isystem /notebooks/ss6sdk/msgpack-tools -isystem /notebooks/ss6sdk/msgpack-tools/contrib/mpack-df17e83f0fa8571b9cd0d8ccf38144fa90e244d1/src -isystem /notebooks/ss6sdk/msgpack-tools/contrib/rapidjson-99ba17bd66a85ec64a2f322b68c2b9c3b77a4391/include -isystem /notebooks/ss6sdk/msgpack-tools/contrib/libb64-1.2.1/include    -o CMakeFiles/msgpack2json.dir/contrib/mpack-df17e83f0fa8571b9cd0d8ccf38144fa90e244d1/src/mpack/mpack-writer.c.o   -c /notebooks/ss6sdk/msgpack-tools/contrib/mpack-df17e83f0fa8571b9cd0d8ccf38144fa90e244d1/src/mpack/mpack-writer.c\n/usr/bin/cmake -E cmake_progress_report /notebooks/ss6sdk/msgpack-tools/CMakeFiles 17\n[ 94%] \u001b[32mBuilding C object CMakeFiles/msgpack2json.dir/contrib/libb64-1.2.1/src/cdecode.c.o\n\u001b[0m/usr/bin/cc   -std=c11 -Wall -Wextra -DVERSION=\\\"0.6\\\" -DLIBB64_VERSION=\\\"1.2.1\\\" -g -O0 -DDEBUG -isystem /notebooks/ss6sdk/msgpack-tools -isystem /notebooks/ss6sdk/msgpack-tools/contrib/mpack-df17e83f0fa8571b9cd0d8ccf38144fa90e244d1/src -isystem /notebooks/ss6sdk/msgpack-tools/contrib/rapidjson-99ba17bd66a85ec64a2f322b68c2b9c3b77a4391/include -isystem /notebooks/ss6sdk/msgpack-tools/contrib/libb64-1.2.1/include    -o CMakeFiles/msgpack2json.dir/contrib/libb64-1.2.1/src/cdecode.c.o   -c /notebooks/ss6sdk/msgpack-tools/contrib/libb64-1.2.1/src/cdecode.c\n/usr/bin/cmake -E cmake_progress_report /notebooks/ss6sdk/msgpack-tools/CMakeFiles 18\n[100%] \u001b[32mBuilding C object CMakeFiles/msgpack2json.dir/contrib/libb64-1.2.1/src/cencode.c.o\n\u001b[0m/usr/bin/cc   -std=c11 -Wall -Wextra -DVERSION=\\\"0.6\\\" -DLIBB64_VERSION=\\\"1.2.1\\\" -g -O0 -DDEBUG -isystem /notebooks/ss6sdk/msgpack-tools -isystem /notebooks/ss6sdk/msgpack-tools/contrib/mpack-df17e83f0fa8571b9cd0d8ccf38144fa90e244d1/src -isystem /notebooks/ss6sdk/msgpack-tools/contrib/rapidjson-99ba17bd66a85ec64a2f322b68c2b9c3b77a4391/include -isystem /notebooks/ss6sdk/msgpack-tools/contrib/libb64-1.2.1/include    -o CMakeFiles/msgpack2json.dir/contrib/libb64-1.2.1/src/cencode.c.o   -c /notebooks/ss6sdk/msgpack-tools/contrib/libb64-1.2.1/src/cencode.c\n\u001b[31m\u001b[1mLinking CXX executable msgpack2json\n\u001b[0m/usr/bin/cmake -E cmake_link_script CMakeFiles/msgpack2json.dir/link.txt --verbose=1\n/usr/bin/c++   -std=c++11 -Wall -Wextra -DVERSION=\\\"0.6\\\" -DLIBB64_VERSION=\\\"1.2.1\\\" -g -O0 -DDEBUG    CMakeFiles/msgpack2json.dir/src/msgpack2json.cpp.o CMakeFiles/msgpack2json.dir/contrib/mpack-df17e83f0fa8571b9cd0d8ccf38144fa90e244d1/src/mpack/mpack-common.c.o CMakeFiles/msgpack2json.dir/contrib/mpack-df17e83f0fa8571b9cd0d8ccf38144fa90e244d1/src/mpack/mpack-expect.c.o CMakeFiles/msgpack2json.dir/contrib/mpack-df17e83f0fa8571b9cd0d8ccf38144fa90e244d1/src/mpack/mpack-node.c.o CMakeFiles/msgpack2json.dir/contrib/mpack-df17e83f0fa8571b9cd0d8ccf38144fa90e244d1/src/mpack/mpack-platform.c.o CMakeFiles/msgpack2json.dir/contrib/mpack-df17e83f0fa8571b9cd0d8ccf38144fa90e244d1/src/mpack/mpack-reader.c.o CMakeFiles/msgpack2json.dir/contrib/mpack-df17e83f0fa8571b9cd0d8ccf38144fa90e244d1/src/mpack/mpack-writer.c.o CMakeFiles/msgpack2json.dir/contrib/libb64-1.2.1/src/cdecode.c.o CMakeFiles/msgpack2json.dir/contrib/libb64-1.2.1/src/cencode.c.o  -o msgpack2json -rdynamic \nmake[2]: Leaving directory '/notebooks/ss6sdk/msgpack-tools'\n/usr/bin/cmake -E cmake_progress_report /notebooks/ss6sdk/msgpack-tools/CMakeFiles  10 11 12 13 14 15 16 17 18\n[100%] Built target msgpack2json\nmake[1]: Leaving directory '/notebooks/ss6sdk/msgpack-tools'\n/usr/bin/cmake -E cmake_progress_start /notebooks/ss6sdk/msgpack-tools/CMakeFiles 0\n/usr/bin/cmake -H/notebooks/ss6sdk/msgpack-tools -B/notebooks/ss6sdk/msgpack-tools --check-build-system CMakeFiles/Makefile.cmake 0\n/usr/bin/cmake -E cmake_progress_start /notebooks/ss6sdk/msgpack-tools/CMakeFiles /notebooks/ss6sdk/msgpack-tools/CMakeFiles/progress.marks\nmake -f CMakeFiles/Makefile2 all\nmake[1]: Entering directory '/notebooks/ss6sdk/msgpack-tools'\nmake -f CMakeFiles/json2msgpack.dir/build.make CMakeFiles/json2msgpack.dir/depend\nmake[2]: Entering directory '/notebooks/ss6sdk/msgpack-tools'\ncd /notebooks/ss6sdk/msgpack-tools && /usr/bin/cmake -E cmake_depends \"Unix Makefiles\" /notebooks/ss6sdk/msgpack-tools /notebooks/ss6sdk/msgpack-tools /notebooks/ss6sdk/msgpack-tools /notebooks/ss6sdk/msgpack-tools /notebooks/ss6sdk/msgpack-tools/CMakeFiles/json2msgpack.dir/DependInfo.cmake --color=\nmake[2]: Leaving directory '/notebooks/ss6sdk/msgpack-tools'\nmake -f CMakeFiles/json2msgpack.dir/build.make CMakeFiles/json2msgpack.dir/build\nmake[2]: Entering directory '/notebooks/ss6sdk/msgpack-tools'\nmake[2]: Nothing to be done for 'CMakeFiles/json2msgpack.dir/build'.\nmake[2]: Leaving directory '/notebooks/ss6sdk/msgpack-tools'\n/usr/bin/cmake -E cmake_progress_report /notebooks/ss6sdk/msgpack-tools/CMakeFiles  1 2 3 4 5 6 7 8 9\n[ 50%] Built target json2msgpack\nmake -f CMakeFiles/msgpack2json.dir/build.make CMakeFiles/msgpack2json.dir/depend\nmake[2]: Entering directory '/notebooks/ss6sdk/msgpack-tools'\ncd /notebooks/ss6sdk/msgpack-tools && /usr/bin/cmake -E cmake_depends \"Unix Makefiles\" /notebooks/ss6sdk/msgpack-tools /notebooks/ss6sdk/msgpack-tools /notebooks/ss6sdk/msgpack-tools /notebooks/ss6sdk/msgpack-tools /notebooks/ss6sdk/msgpack-tools/CMakeFiles/msgpack2json.dir/DependInfo.cmake --color=\nmake[2]: Leaving directory '/notebooks/ss6sdk/msgpack-tools'\nmake -f CMakeFiles/msgpack2json.dir/build.make CMakeFiles/msgpack2json.dir/build\nmake[2]: Entering directory '/notebooks/ss6sdk/msgpack-tools'\nmake[2]: Nothing to be done for 'CMakeFiles/msgpack2json.dir/build'.\nmake[2]: Leaving directory '/notebooks/ss6sdk/msgpack-tools'\n/usr/bin/cmake -E cmake_progress_report /notebooks/ss6sdk/msgpack-tools/CMakeFiles  10 11 12 13 14 15 16 17 18\n[100%] Built target msgpack2json\nmake[1]: Leaving directory '/notebooks/ss6sdk/msgpack-tools'\n/usr/bin/cmake -E cmake_progress_start /notebooks/ss6sdk/msgpack-tools/CMakeFiles 0\nmake -f CMakeFiles/Makefile2 preinstall\nmake[1]: Entering directory '/notebooks/ss6sdk/msgpack-tools'\nmake[1]: Nothing to be done for 'preinstall'.\nmake[1]: Leaving directory '/notebooks/ss6sdk/msgpack-tools'\n\u001b[36mInstall the project...\n\u001b[0m/usr/bin/cmake -P cmake_install.cmake\n-- Install configuration: \"Debug\"\n-- Installing: /usr/local/bin/msgpack2json\n-- Installing: /usr/local/bin/json2msgpack\njson2msgpack version 0.6 -- https://github.com/ludocode/msgpack2json\nRapidJSON version 1.0.2 -- http://rapidjson.org/\nMPack version 0.9dev -- https://github.com/ludocode/mpack\nlibb64 version 1.2.1 -- http://libb64.sourceforge.net/\n"
       }
      ]
     }
    ]
   },
   "outputs": [],
   "source": [
    "!git clone --depth 1 https://github.com/ludocode/msgpack-tools.git\n",
    "!cd msgpack-tools && ./configure && make && sudo make install\n",
    "!json2msgpack -v"
   ]
  },
  {
   "cell_type": "markdown",
   "metadata": {
    "hidden": true,
    "lc_cell_meme": {
     "current": "fdd1b8e0-b962-11e7-ab32-0242ac110002",
     "history": [
      {
       "current": "fdd1b8e0-b962-11e7-ab32-0242ac110002",
       "next": "2d715dee-b8af-11e7-9d3a-0242ac110002",
       "previous": "fc8f780e-b8aa-11e7-9d3a-0242ac110002"
      },
      {
       "current": "fdd1b8e0-b962-11e7-ab32-0242ac110002",
       "next": "2d715dee-b8af-11e7-9d3a-0242ac110002",
       "previous": "b875c038-c692-11e7-97d0-0242ac110002"
      },
      {
       "current": "fdd1b8e0-b962-11e7-ab32-0242ac110002",
       "next": "2d715dee-b8af-11e7-9d3a-0242ac110002",
       "previous": "0093b122-c693-11e7-97d0-0242ac110002"
      },
      {
       "current": "fdd1b8e0-b962-11e7-ab32-0242ac110002",
       "next": "8f09b65e-c693-11e7-97d0-0242ac110002",
       "previous": "0093b122-c693-11e7-97d0-0242ac110002"
      }
     ],
     "next": "2d715dee-b8af-11e7-9d3a-0242ac110002",
     "previous": "0093b122-c693-11e7-97d0-0242ac110002"
    }
   },
   "source": [
    "文字コードと改行記号を確認し、UTF8BOM+CRLFに変換する。"
   ]
  },
  {
   "cell_type": "code",
   "execution_count": null,
   "metadata": {
    "hidden": true,
    "lc_cell_meme": {
     "current": "2d715dee-b8af-11e7-9d3a-0242ac110002",
     "history": [
      {
       "current": "2d715dee-b8af-11e7-9d3a-0242ac110002",
       "next": null,
       "previous": "d39ffe86-b8ab-11e7-9d3a-0242ac110002"
      },
      {
       "current": "2d715dee-b8af-11e7-9d3a-0242ac110002",
       "next": "2d715dee-b8af-11e7-9d3a-0242ac110002",
       "previous": "d39ffe86-b8ab-11e7-9d3a-0242ac110002"
      },
      {
       "current": "2d715dee-b8af-11e7-9d3a-0242ac110002",
       "next": "2d715dee-b8af-11e7-9d3a-0242ac110002",
       "previous": "fdd1b8e0-b962-11e7-ab32-0242ac110002"
      },
      {
       "current": "2d715dee-b8af-11e7-9d3a-0242ac110002",
       "next": "2d715dee-b8af-11e7-9d3a-0242ac110002",
       "previous": "8f09b65e-c693-11e7-97d0-0242ac110002"
      }
     ],
     "next": "2d715dee-b8af-11e7-9d3a-0242ac110002",
     "previous": "fdd1b8e0-b962-11e7-ab32-0242ac110002"
    },
    "pinned_outputs": [
     {
      "execution_count": 3,
      "outputs": [
       {
        "name": "stdout",
        "output_type": "stream",
        "text": "./Build/CMakeLists.txt  UTF-8 (BOM) (CRLF)\n./Build/Converter/BinaryDataWriter.cpp  UTF-8 (BOM) (CRLF)\n./Build/Converter/BinaryDataWriter.h  UTF-8 (BOM) (CRLF)\n./Build/Converter/FileUtil.cpp  UTF-8 (BOM) (CRLF)\n./Build/Converter/FileUtil.h  UTF-8 (BOM) (CRLF)\n./Build/Converter/Lump.cpp  UTF-8 (BOM) (CRLF)\n./Build/Converter/Lump.h  UTF-8 (BOM) (CRLF)\n./Build/Converter/LumpExporter.cpp  UTF-8 (BOM) (CRLF)\n./Build/Converter/LumpExporter.h  UTF-8 (BOM) (CRLF)\n./Build/Converter/main.cpp  UTF-8 (BOM) (CRLF)\n./Build/Converter/picojson.h  UTF-8 (BOM) (CRLF)\n./Build/Converter/SsPlayerConverter.h  UTF-8 (BOM) (CRLF)\n./Build/example/demo.c  UTF-8 (BOM) (CRLF)\n./Build/example/demo.h  UTF-8 (BOM) (CRLF)\n./Build/example/example_fbo.c  UTF-8 (BOM) (CRLF)\n./Build/example/example_gl2.c  UTF-8 (BOM) (CRLF)\n./Build/example/example_gl3.c  UTF-8 (BOM) (CRLF)\n./Build/example/example_gles2.c  UTF-8 (BOM) (CRLF)\n./Build/example/example_gles3.c  UTF-8 (BOM) (CRLF)\n./Build/example/images.txt  UTF-8 (BOM) (CRLF)\n./Build/example/LICENSE.txt  UTF-8 (BOM) (CRLF)\n./Build/example/perf.c  UTF-8 (BOM) (CRLF)\n./Build/example/perf.h  UTF-8 (BOM) (CRLF)\n./Build/example/stb_image_write.h  UTF-8 (BOM) (CRLF)\n./Build/plistConverter/plistConverter.cpp  UTF-8 (BOM) (CRLF)\n./Build/plistConverter/ReadMe.txt  UTF-8 (BOM) (CRLF)\n./Build/plistConverter/stdafx.cpp  UTF-8 (BOM) (CRLF)\n./Build/plistConverter/stdafx.h  UTF-8 (BOM) (CRLF)\n./Build/plistConverter/targetver.h  UTF-8 (BOM) (CRLF)\n./Build/PythonBinder/bind_Animation.cpp  UTF-8 (BOM) (CRLF)\n./Build/PythonBinder/bind_Animation.h  UTF-8 (BOM) (CRLF)\n./Build/PythonBinder/bind_AnimePack.cpp  UTF-8 (BOM) (CRLF)\n./Build/PythonBinder/bind_AnimePack.h  UTF-8 (BOM) (CRLF)\n./Build/PythonBinder/bind_Cellmap.cpp  UTF-8 (BOM) (CRLF)\n./Build/PythonBinder/bind_Cellmap.h  UTF-8 (BOM) (CRLF)\n./Build/PythonBinder/bind_SsAnimeDecoder.cpp  UTF-8 (BOM) (CRLF)\n./Build/PythonBinder/bind_SsAnimeDecoder.h  UTF-8 (BOM) (CRLF)\n./Build/PythonBinder/bind_SsAttribute.cpp  UTF-8 (BOM) (CRLF)\n./Build/PythonBinder/bind_SsAttribute.h  UTF-8 (BOM) (CRLF)\n./Build/PythonBinder/bind_SsKeyframe.cpp  UTF-8 (BOM) (CRLF)\n./Build/PythonBinder/bind_SsKeyframe.h  UTF-8 (BOM) (CRLF)\n./Build/PythonBinder/bind_SsPart.cpp  UTF-8 (BOM) (CRLF)\n./Build/PythonBinder/bind_SsPart.h  UTF-8 (BOM) (CRLF)\n./Build/PythonBinder/bind_SsPartAnime.cpp  UTF-8 (BOM) (CRLF)\n./Build/PythonBinder/bind_SsPartAnime.h  UTF-8 (BOM) (CRLF)\n./Build/PythonBinder/bind_SSXML.cpp  UTF-8 (BOM) (CRLF)\n./Build/PythonBinder/bind_SSXML.h  UTF-8 (BOM) (CRLF)\n./Build/PythonBinder/package_SpriteStudio.cpp  UTF-8 (BOM) (CRLF)\n./Build/PythonBinder/package_SpriteStudio.h  UTF-8 (BOM) (CRLF)\n./Build/PythonBinder/script_base_conv.cpp  UTF-8 (BOM) (CRLF)\n./Build/Ss6ConverterGUI/Ss6ConverterGUI/main.cpp  UTF-8 (BOM) (CRLF)\n./Build/Ss6ConverterGUI/Ss6ConverterGUI/mainwindow.cpp  UTF-8 (BOM) (CRLF)\n./Build/Ss6ConverterGUI/Ss6ConverterGUI/mainwindow.h  UTF-8 (BOM) (CRLF)\n./Build/Ss6ConverterGUI/Ss6ConverterGUI/readme.txt  UTF-8 (BOM) (CRLF)\n./Build/TestScript/readme.txt  UTF-8 (BOM) (CRLF)\n./Build/TestScript/SpriteStudio_pythonモジュール仕様書.txt  UTF-8 (BOM) (CRLF)\n./Build/UnitTest/gtest/gtest.h  UTF-8 (BOM) (CRLF)\n./Build/UnitTest/gtest-all.cc  UTF-8 (BOM) (CRLF)\n./Build/UnitTest/gtest_main.cc  UTF-8 (BOM) (CRLF)\n./Build/UnitTest/readme.txt  UTF-8 (BOM) (CRLF)\n./Build/UnitTest/unit_ssloader_ssae.cc  UTF-8 (BOM) (CRLF)\n./Build/UnitTest/unit_ssloader_ssce.cc  UTF-8 (BOM) (CRLF)\n./Build/UnitTest/unit_ssloader_sspj.cc  UTF-8 (BOM) (CRLF)\n./Build/Viewer/CMakeLists.txt  UTF-8 (BOM) (CRLF)\n./Build/Viewer/source/main_dx9.cpp  UTF-8 (BOM) (CRLF)\n./Build/Viewer/source/main_gl.cpp  UTF-8 (BOM) (CRLF)\n./Build/Viewer/source/myscene.cpp  UTF-8 (BOM) (CRLF)\n./Build/Viewer/source/myscene.h  UTF-8 (BOM) (CRLF)\n./Build/Viewer/source/script_base_conv.cpp  UTF-8 (BOM) (CRLF)\n./Common/Animator/ISsEffectRender.h  UTF-8 (BOM) (CRLF)\n./Common/Animator/MersenneTwister.h  UTF-8 (BOM) (CRLF)\n./Common/Animator/ssplayer_animedecode.cpp  UTF-8 (BOM) (CRLF)\n./Common/Animator/ssplayer_animedecode.h  UTF-8 (BOM) (CRLF)\n./Common/Animator/ssplayer_cellmap.cpp  UTF-8 (BOM) (CRLF)\n./Common/Animator/ssplayer_cellmap.h  UTF-8 (BOM) (CRLF)\n./Common/Animator/ssplayer_effect.cpp  UTF-8 (BOM) (CRLF)\n./Common/Animator/ssplayer_effect.h  UTF-8 (BOM) (CRLF)\n./Common/Animator/ssplayer_effect2.cpp  UTF-8 (BOM) (CRLF)\n./Common/Animator/ssplayer_effect2.h  UTF-8 (BOM) (CRLF)\n./Common/Animator/ssplayer_effectfunction.cpp  UTF-8 (BOM) (CRLF)\n./Common/Animator/ssplayer_effectfunction.h  UTF-8 (BOM) (CRLF)\n./Common/Animator/ssplayer_macro.h  UTF-8 (BOM) (CRLF)\n./Common/Animator/ssplayer_matrix.cpp  UTF-8 (BOM) (CRLF)\n./Common/Animator/ssplayer_matrix.h  UTF-8 (BOM) (CRLF)\n./Common/Animator/ssplayer_mesh.cpp  UTF-8 (BOM) (CRLF)\n./Common/Animator/ssplayer_mesh.h  UTF-8 (BOM) (CRLF)\n./Common/Animator/ssplayer_PartState.cpp  UTF-8 (BOM) (CRLF)\n./Common/Animator/ssplayer_PartState.h  UTF-8 (BOM) (CRLF)\n./Common/Animator/ssplayer_render.cpp  UTF-8 (BOM) (CRLF)\n./Common/Animator/ssplayer_render.h  UTF-8 (BOM) (CRLF)\n./Common/Animator/ssplayer_types.h  UTF-8 (BOM) (CRLF)\n./Common/Animator/xorshift32.h  UTF-8 (BOM) (CRLF)\n./Common/Drawer/ssplayer_render_dx9.cpp  UTF-8 (BOM) (CRLF)\n./Common/Drawer/ssplayer_render_dx9.h  UTF-8 (BOM) (CRLF)\n./Common/Drawer/ssplayer_render_gl.cpp  UTF-8 (BOM) (CRLF)\n./Common/Drawer/ssplayer_render_gl.h  UTF-8 (BOM) (CRLF)\n./Common/Drawer/ssplayer_shader_gl.cpp  UTF-8 (BOM) (CRLF)\n./Common/Drawer/ssplayer_shader_gl.h  UTF-8 (BOM) (CRLF)\n./Common/Helper/DebugPrint.cpp  UTF-8 (BOM) (CRLF)\n./Common/Helper/DebugPrint.h  UTF-8 (BOM) (CRLF)\n./Common/Helper/DirectX/d3dsimple.cpp  UTF-8 (BOM) (CRLF)\n./Common/Helper/DirectX/d3dsimple.h  UTF-8 (BOM) (CRLF)\n./Common/Helper/DirectX/SSTextureDX9.cpp  UTF-8 (BOM) (CRLF)\n./Common/Helper/DirectX/SSTextureDX9.h  UTF-8 (BOM) (CRLF)\n./Common/Helper/IsshTexture.cpp  UTF-8 (BOM) (CRLF)\n./Common/Helper/IsshTexture.h  UTF-8 (BOM) (CRLF)\n./Common/Helper/MacOS/OSXFileOpen.h  UTF-8 (BOM) (CRLF)\n./Common/Helper/OpenGL/SSTextureGL.cpp  UTF-8 (BOM) (CRLF)\n./Common/Helper/OpenGL/SSTextureGL.h  UTF-8 (BOM) (CRLF)\n./Common/Helper/ssHelper.h  UTF-8 (BOM) (CRLF)\n./Common/Helper/sshObject.cpp  UTF-8 (BOM) (CRLF)\n./Common/Helper/sshObject.h  UTF-8 (BOM) (CRLF)\n./Common/Helper/sshScene.cpp  UTF-8 (BOM) (CRLF)\n./Common/Helper/sshScene.h  UTF-8 (BOM) (CRLF)\n./Common/Helper/sshTask.cpp  UTF-8 (BOM) (CRLF)\n./Common/Helper/sshTask.h  UTF-8 (BOM) (CRLF)\n./Common/Helper/sshTextureBMP.cpp  UTF-8 (BOM) (CRLF)\n./Common/Helper/sshTextureBMP.h  UTF-8 (BOM) (CRLF)\n./Common/Helper/stb_image.c  UTF-8 (BOM) (CRLF)\n./Common/Helper/stb_image.h  UTF-8 (BOM) (CRLF)\n./Common/Helper/Win/WinMain.cpp  UTF-8 (BOM) (CRLF)\n./Common/Helper/XPFileOpenDlg.cpp  UTF-8 (BOM) (CRLF)\n./Common/Helper/XPFileOpenDlg.h  UTF-8 (BOM) (CRLF)\n./Common/Loader/babel/babel.cpp  UTF-8 (BOM) (CRLF)\n./Common/Loader/babel/babel.h  UTF-8 (BOM) (CRLF)\n./Common/Loader/ssarchiver.cpp  UTF-8 (BOM) (CRLF)\n./Common/Loader/ssarchiver.h  UTF-8 (BOM) (CRLF)\n./Common/Loader/ssattribute.cpp  UTF-8 (BOM) (CRLF)\n./Common/Loader/ssattribute.h  UTF-8 (BOM) (CRLF)\n./Common/Loader/SsEffectBehavior.cpp  UTF-8 (BOM) (CRLF)\n./Common/Loader/SsEffectBehavior.h  UTF-8 (BOM) (CRLF)\n./Common/Loader/SsEffectElement.cpp  UTF-8 (BOM) (CRLF)\n./Common/Loader/SsEffectElement.h  UTF-8 (BOM) (CRLF)\n./Common/Loader/ssInterpolation.cpp  UTF-8 (BOM) (CRLF)\n./Common/Loader/ssInterpolation.h  UTF-8 (BOM) (CRLF)\n./Common/Loader/ssloader.h  UTF-8 (BOM) (CRLF)\n./Common/Loader/ssloader_ssae.cpp  UTF-8 (BOM) (CRLF)\n./Common/Loader/ssloader_ssae.h  UTF-8 (BOM) (CRLF)\n./Common/Loader/ssloader_ssce.cpp  UTF-8 (BOM) (CRLF)\n./Common/Loader/ssloader_ssce.h  UTF-8 (BOM) (CRLF)\n./Common/Loader/ssloader_ssee.cpp  UTF-8 (BOM) (CRLF)\n./Common/Loader/ssloader_ssee.h  UTF-8 (BOM) (CRLF)\n./Common/Loader/ssloader_sspj.cpp  UTF-8 (BOM) (CRLF)\n./Common/Loader/ssloader_sspj.h  UTF-8 (BOM) (CRLF)\n./Common/Loader/ssstring_uty.cpp  UTF-8 (BOM) (CRLF)\n./Common/Loader/ssstring_uty.h  UTF-8 (BOM) (CRLF)\n./Common/Loader/sstypes.cpp  UTF-8 (BOM) (CRLF)\n./Common/Loader/sstypes.h  UTF-8 (BOM) (CRLF)\n./Common/Loader/ssvalue.cpp  UTF-8 (BOM) (CRLF)\n./Common/Loader/ssvalue.h  UTF-8 (BOM) (CRLF)\n./Common/Loader/tinyxml2/tinyxml2.cpp  UTF-8 (BOM) (CRLF)\n./Common/Loader/tinyxml2/tinyxml2.h  UTF-8 (BOM) (CRLF)\n./msgpack-tools/CMakeCache.txt  ASCII (LF)\n./msgpack-tools/CMakeFiles/3.0.2/CompilerIdC/CMakeCCompilerId.c  ASCII (LF)\n./msgpack-tools/CMakeFiles/3.0.2/CompilerIdCXX/CMakeCXXCompilerId.cpp  ASCII (LF)\n./msgpack-tools/CMakeFiles/json2msgpack.dir/link.txt  ASCII (LF)\n./msgpack-tools/CMakeFiles/msgpack2json.dir/link.txt  ASCII (LF)\n./msgpack-tools/CMakeFiles/TargetDirectories.txt  ASCII (LF)\n"
       },
       {
        "name": "stdout",
        "output_type": "stream",
        "text": "./msgpack-tools/CMakeLists.txt  ASCII (LF)\n./msgpack-tools/contrib/libb64-1.2.1/base64/base64.cc  ASCII (LF)\n./msgpack-tools/contrib/libb64-1.2.1/examples/c-example1.c  ASCII (LF)\n./msgpack-tools/contrib/libb64-1.2.1/examples/c-example2.c  ASCII (LF)\n./msgpack-tools/contrib/libb64-1.2.1/examples/loremgibson.txt  ASCII (LF)\n./msgpack-tools/contrib/libb64-1.2.1/include/b64/cdecode.h  ASCII (LF)\n./msgpack-tools/contrib/libb64-1.2.1/include/b64/cencode.h  ASCII (LF)\n./msgpack-tools/contrib/libb64-1.2.1/include/b64/decode.h  ASCII (LF)\n./msgpack-tools/contrib/libb64-1.2.1/include/b64/encode.h  ASCII (LF)\n./msgpack-tools/contrib/libb64-1.2.1/src/cdecode.c  ASCII (LF)\n./msgpack-tools/contrib/libb64-1.2.1/src/cencode.c  ASCII (LF)\n./msgpack-tools/contrib/mpack-df17e83f0fa8571b9cd0d8ccf38144fa90e244d1/src/mpack/mpack-common.c  ASCII (LF)\n./msgpack-tools/contrib/mpack-df17e83f0fa8571b9cd0d8ccf38144fa90e244d1/src/mpack/mpack-common.h  ASCII (LF)\n./msgpack-tools/contrib/mpack-df17e83f0fa8571b9cd0d8ccf38144fa90e244d1/src/mpack/mpack-expect.c  ASCII (LF)\n./msgpack-tools/contrib/mpack-df17e83f0fa8571b9cd0d8ccf38144fa90e244d1/src/mpack/mpack-expect.h  ASCII (LF)\n./msgpack-tools/contrib/mpack-df17e83f0fa8571b9cd0d8ccf38144fa90e244d1/src/mpack/mpack-node.c  ASCII (LF)\n./msgpack-tools/contrib/mpack-df17e83f0fa8571b9cd0d8ccf38144fa90e244d1/src/mpack/mpack-node.h  ASCII (LF)\n./msgpack-tools/contrib/mpack-df17e83f0fa8571b9cd0d8ccf38144fa90e244d1/src/mpack/mpack-platform.c  ASCII (LF)\n./msgpack-tools/contrib/mpack-df17e83f0fa8571b9cd0d8ccf38144fa90e244d1/src/mpack/mpack-platform.h  ASCII (LF)\n./msgpack-tools/contrib/mpack-df17e83f0fa8571b9cd0d8ccf38144fa90e244d1/src/mpack/mpack-reader.c  ASCII (LF)\n./msgpack-tools/contrib/mpack-df17e83f0fa8571b9cd0d8ccf38144fa90e244d1/src/mpack/mpack-reader.h  ASCII (LF)\n./msgpack-tools/contrib/mpack-df17e83f0fa8571b9cd0d8ccf38144fa90e244d1/src/mpack/mpack-writer.c  ASCII (LF)\n./msgpack-tools/contrib/mpack-df17e83f0fa8571b9cd0d8ccf38144fa90e244d1/src/mpack/mpack-writer.h  ASCII (LF)\n./msgpack-tools/contrib/mpack-df17e83f0fa8571b9cd0d8ccf38144fa90e244d1/src/mpack/mpack.h  ASCII (LF)\n./msgpack-tools/contrib/mpack-df17e83f0fa8571b9cd0d8ccf38144fa90e244d1/test/mpack-config.h  ASCII (LF)\n./msgpack-tools/contrib/mpack-df17e83f0fa8571b9cd0d8ccf38144fa90e244d1/test/test-buffer.c  ASCII (LF)\n./msgpack-tools/contrib/mpack-df17e83f0fa8571b9cd0d8ccf38144fa90e244d1/test/test-buffer.h  ASCII (LF)\n./msgpack-tools/contrib/mpack-df17e83f0fa8571b9cd0d8ccf38144fa90e244d1/test/test-common.c  ASCII (LF)\n./msgpack-tools/contrib/mpack-df17e83f0fa8571b9cd0d8ccf38144fa90e244d1/test/test-common.h  ASCII (LF)\n./msgpack-tools/contrib/mpack-df17e83f0fa8571b9cd0d8ccf38144fa90e244d1/test/test-expect.c  ASCII (LF)\n./msgpack-tools/contrib/mpack-df17e83f0fa8571b9cd0d8ccf38144fa90e244d1/test/test-expect.h  ASCII (LF)\n./msgpack-tools/contrib/mpack-df17e83f0fa8571b9cd0d8ccf38144fa90e244d1/test/test-file.c  ASCII (LF)\n./msgpack-tools/contrib/mpack-df17e83f0fa8571b9cd0d8ccf38144fa90e244d1/test/test-file.h  ASCII (LF)\n./msgpack-tools/contrib/mpack-df17e83f0fa8571b9cd0d8ccf38144fa90e244d1/test/test-node.c  ASCII (LF)\n./msgpack-tools/contrib/mpack-df17e83f0fa8571b9cd0d8ccf38144fa90e244d1/test/test-node.h  ASCII (LF)\n./msgpack-tools/contrib/mpack-df17e83f0fa8571b9cd0d8ccf38144fa90e244d1/test/test-reader.c  ASCII (LF)\n./msgpack-tools/contrib/mpack-df17e83f0fa8571b9cd0d8ccf38144fa90e244d1/test/test-reader.h  ASCII (LF)\n./msgpack-tools/contrib/mpack-df17e83f0fa8571b9cd0d8ccf38144fa90e244d1/test/test-system.c  ASCII (LF)\n./msgpack-tools/contrib/mpack-df17e83f0fa8571b9cd0d8ccf38144fa90e244d1/test/test-system.h  ASCII (LF)\n./msgpack-tools/contrib/mpack-df17e83f0fa8571b9cd0d8ccf38144fa90e244d1/test/test-write.c  ASCII (LF)\n./msgpack-tools/contrib/mpack-df17e83f0fa8571b9cd0d8ccf38144fa90e244d1/test/test-write.h  ASCII (LF)\n./msgpack-tools/contrib/mpack-df17e83f0fa8571b9cd0d8ccf38144fa90e244d1/test/test.c  ASCII (LF)\n./msgpack-tools/contrib/mpack-df17e83f0fa8571b9cd0d8ccf38144fa90e244d1/test/test.h  ASCII (LF)\n./msgpack-tools/contrib/rapidjson-99ba17bd66a85ec64a2f322b68c2b9c3b77a4391/bin/data/readme.txt  ASCII (LF)\n./msgpack-tools/contrib/rapidjson-99ba17bd66a85ec64a2f322b68c2b9c3b77a4391/bin/jsonchecker/readme.txt  ASCII (LF)\n./msgpack-tools/contrib/rapidjson-99ba17bd66a85ec64a2f322b68c2b9c3b77a4391/bin/types/readme.txt  ASCII (LF)\n./msgpack-tools/contrib/rapidjson-99ba17bd66a85ec64a2f322b68c2b9c3b77a4391/CMakeLists.txt  ASCII (LF)\n./msgpack-tools/contrib/rapidjson-99ba17bd66a85ec64a2f322b68c2b9c3b77a4391/doc/CMakeLists.txt  ASCII (LF)\n./msgpack-tools/contrib/rapidjson-99ba17bd66a85ec64a2f322b68c2b9c3b77a4391/example/capitalize/capitalize.cpp  ASCII (LF)\n./msgpack-tools/contrib/rapidjson-99ba17bd66a85ec64a2f322b68c2b9c3b77a4391/example/CMakeLists.txt  ASCII (LF)\n./msgpack-tools/contrib/rapidjson-99ba17bd66a85ec64a2f322b68c2b9c3b77a4391/example/condense/condense.cpp  ASCII (LF)\n./msgpack-tools/contrib/rapidjson-99ba17bd66a85ec64a2f322b68c2b9c3b77a4391/example/filterkey/filterkey.cpp  ASCII (LF)\n./msgpack-tools/contrib/rapidjson-99ba17bd66a85ec64a2f322b68c2b9c3b77a4391/example/filterkeydom/filterkeydom.cpp  ASCII (LF)\n./msgpack-tools/contrib/rapidjson-99ba17bd66a85ec64a2f322b68c2b9c3b77a4391/example/jsonx/jsonx.cpp  ASCII (LF)\n./msgpack-tools/contrib/rapidjson-99ba17bd66a85ec64a2f322b68c2b9c3b77a4391/example/messagereader/messagereader.cpp  ASCII (LF)\n./msgpack-tools/contrib/rapidjson-99ba17bd66a85ec64a2f322b68c2b9c3b77a4391/example/parsebyparts/parsebyparts.cpp  ASCII (LF)\n./msgpack-tools/contrib/rapidjson-99ba17bd66a85ec64a2f322b68c2b9c3b77a4391/example/pretty/pretty.cpp  ASCII (LF)\n./msgpack-tools/contrib/rapidjson-99ba17bd66a85ec64a2f322b68c2b9c3b77a4391/example/prettyauto/prettyauto.cpp  ASCII (LF)\n./msgpack-tools/contrib/rapidjson-99ba17bd66a85ec64a2f322b68c2b9c3b77a4391/example/schemavalidator/schemavalidator.cpp  ASCII (LF)\n./msgpack-tools/contrib/rapidjson-99ba17bd66a85ec64a2f322b68c2b9c3b77a4391/example/serialize/serialize.cpp  ASCII (LF)\n./msgpack-tools/contrib/rapidjson-99ba17bd66a85ec64a2f322b68c2b9c3b77a4391/example/simpledom/simpledom.cpp  ASCII (LF)\n./msgpack-tools/contrib/rapidjson-99ba17bd66a85ec64a2f322b68c2b9c3b77a4391/example/simplereader/simplereader.cpp  ASCII (LF)\n./msgpack-tools/contrib/rapidjson-99ba17bd66a85ec64a2f322b68c2b9c3b77a4391/example/simplewriter/simplewriter.cpp  ASCII (LF)\n./msgpack-tools/contrib/rapidjson-99ba17bd66a85ec64a2f322b68c2b9c3b77a4391/example/tutorial/tutorial.cpp  ASCII (LF)\n./msgpack-tools/contrib/rapidjson-99ba17bd66a85ec64a2f322b68c2b9c3b77a4391/include/rapidjson/allocators.h  ASCII (LF)\n./msgpack-tools/contrib/rapidjson-99ba17bd66a85ec64a2f322b68c2b9c3b77a4391/include/rapidjson/document.h  ASCII (LF)\n./msgpack-tools/contrib/rapidjson-99ba17bd66a85ec64a2f322b68c2b9c3b77a4391/include/rapidjson/encodedstream.h  ASCII (LF)\n./msgpack-tools/contrib/rapidjson-99ba17bd66a85ec64a2f322b68c2b9c3b77a4391/include/rapidjson/encodings.h  ASCII (LF)\n./msgpack-tools/contrib/rapidjson-99ba17bd66a85ec64a2f322b68c2b9c3b77a4391/include/rapidjson/error/en.h  ASCII (LF)\n./msgpack-tools/contrib/rapidjson-99ba17bd66a85ec64a2f322b68c2b9c3b77a4391/include/rapidjson/error/error.h  ASCII (LF)\n./msgpack-tools/contrib/rapidjson-99ba17bd66a85ec64a2f322b68c2b9c3b77a4391/include/rapidjson/filereadstream.h  ASCII (LF)\n./msgpack-tools/contrib/rapidjson-99ba17bd66a85ec64a2f322b68c2b9c3b77a4391/include/rapidjson/filewritestream.h  ASCII (LF)\n./msgpack-tools/contrib/rapidjson-99ba17bd66a85ec64a2f322b68c2b9c3b77a4391/include/rapidjson/fwd.h  ASCII (LF)\n./msgpack-tools/contrib/rapidjson-99ba17bd66a85ec64a2f322b68c2b9c3b77a4391/include/rapidjson/internal/biginteger.h  ASCII (LF)\n./msgpack-tools/contrib/rapidjson-99ba17bd66a85ec64a2f322b68c2b9c3b77a4391/include/rapidjson/internal/diyfp.h  ASCII (LF)\n./msgpack-tools/contrib/rapidjson-99ba17bd66a85ec64a2f322b68c2b9c3b77a4391/include/rapidjson/internal/dtoa.h  ASCII (LF)\n./msgpack-tools/contrib/rapidjson-99ba17bd66a85ec64a2f322b68c2b9c3b77a4391/include/rapidjson/internal/ieee754.h  ASCII (LF)\n./msgpack-tools/contrib/rapidjson-99ba17bd66a85ec64a2f322b68c2b9c3b77a4391/include/rapidjson/internal/itoa.h  ASCII (LF)\n./msgpack-tools/contrib/rapidjson-99ba17bd66a85ec64a2f322b68c2b9c3b77a4391/include/rapidjson/internal/meta.h  ASCII (LF)\n./msgpack-tools/contrib/rapidjson-99ba17bd66a85ec64a2f322b68c2b9c3b77a4391/include/rapidjson/internal/pow10.h  ASCII (LF)\n./msgpack-tools/contrib/rapidjson-99ba17bd66a85ec64a2f322b68c2b9c3b77a4391/include/rapidjson/internal/regex.h  ASCII (LF)\n./msgpack-tools/contrib/rapidjson-99ba17bd66a85ec64a2f322b68c2b9c3b77a4391/include/rapidjson/internal/stack.h  ASCII (LF)\n./msgpack-tools/contrib/rapidjson-99ba17bd66a85ec64a2f322b68c2b9c3b77a4391/include/rapidjson/internal/strfunc.h  ASCII (LF)\n./msgpack-tools/contrib/rapidjson-99ba17bd66a85ec64a2f322b68c2b9c3b77a4391/include/rapidjson/internal/strtod.h  ASCII (LF)\n./msgpack-tools/contrib/rapidjson-99ba17bd66a85ec64a2f322b68c2b9c3b77a4391/include/rapidjson/internal/swap.h  ASCII (LF)\n./msgpack-tools/contrib/rapidjson-99ba17bd66a85ec64a2f322b68c2b9c3b77a4391/include/rapidjson/istreamwrapper.h  ASCII (LF)\n./msgpack-tools/contrib/rapidjson-99ba17bd66a85ec64a2f322b68c2b9c3b77a4391/include/rapidjson/memorybuffer.h  ASCII (LF)\n./msgpack-tools/contrib/rapidjson-99ba17bd66a85ec64a2f322b68c2b9c3b77a4391/include/rapidjson/memorystream.h  ASCII (LF)\n./msgpack-tools/contrib/rapidjson-99ba17bd66a85ec64a2f322b68c2b9c3b77a4391/include/rapidjson/msinttypes/inttypes.h  ASCII (LF)\n"
       },
       {
        "name": "stdout",
        "output_type": "stream",
        "text": "./msgpack-tools/contrib/rapidjson-99ba17bd66a85ec64a2f322b68c2b9c3b77a4391/include/rapidjson/msinttypes/stdint.h  ASCII (LF)\n./msgpack-tools/contrib/rapidjson-99ba17bd66a85ec64a2f322b68c2b9c3b77a4391/include/rapidjson/ostreamwrapper.h  ASCII (LF)\n./msgpack-tools/contrib/rapidjson-99ba17bd66a85ec64a2f322b68c2b9c3b77a4391/include/rapidjson/pointer.h  ASCII (LF)\n./msgpack-tools/contrib/rapidjson-99ba17bd66a85ec64a2f322b68c2b9c3b77a4391/include/rapidjson/prettywriter.h  ASCII (LF)\n./msgpack-tools/contrib/rapidjson-99ba17bd66a85ec64a2f322b68c2b9c3b77a4391/include/rapidjson/rapidjson.h  ASCII (LF)\n./msgpack-tools/contrib/rapidjson-99ba17bd66a85ec64a2f322b68c2b9c3b77a4391/include/rapidjson/reader.h  ASCII (LF)\n./msgpack-tools/contrib/rapidjson-99ba17bd66a85ec64a2f322b68c2b9c3b77a4391/include/rapidjson/schema.h  ASCII (LF)\n./msgpack-tools/contrib/rapidjson-99ba17bd66a85ec64a2f322b68c2b9c3b77a4391/include/rapidjson/stream.h  ASCII (LF)\n./msgpack-tools/contrib/rapidjson-99ba17bd66a85ec64a2f322b68c2b9c3b77a4391/include/rapidjson/stringbuffer.h  ASCII (LF)\n./msgpack-tools/contrib/rapidjson-99ba17bd66a85ec64a2f322b68c2b9c3b77a4391/include/rapidjson/writer.h  ASCII (LF)\n./msgpack-tools/contrib/rapidjson-99ba17bd66a85ec64a2f322b68c2b9c3b77a4391/license.txt  ASCII (LF)\n./msgpack-tools/contrib/rapidjson-99ba17bd66a85ec64a2f322b68c2b9c3b77a4391/test/CMakeLists.txt  ASCII (LF)\n./msgpack-tools/contrib/rapidjson-99ba17bd66a85ec64a2f322b68c2b9c3b77a4391/test/perftest/CMakeLists.txt  ASCII (LF)\n./msgpack-tools/contrib/rapidjson-99ba17bd66a85ec64a2f322b68c2b9c3b77a4391/test/perftest/misctest.cpp  ASCII (LF)\n./msgpack-tools/contrib/rapidjson-99ba17bd66a85ec64a2f322b68c2b9c3b77a4391/test/perftest/perftest.cpp  ASCII (LF)\n./msgpack-tools/contrib/rapidjson-99ba17bd66a85ec64a2f322b68c2b9c3b77a4391/test/perftest/perftest.h  ASCII (LF)\n./msgpack-tools/contrib/rapidjson-99ba17bd66a85ec64a2f322b68c2b9c3b77a4391/test/perftest/platformtest.cpp  ASCII (LF)\n./msgpack-tools/contrib/rapidjson-99ba17bd66a85ec64a2f322b68c2b9c3b77a4391/test/perftest/rapidjsontest.cpp  ASCII (LF)\n./msgpack-tools/contrib/rapidjson-99ba17bd66a85ec64a2f322b68c2b9c3b77a4391/test/perftest/schematest.cpp  ASCII (LF)\n./msgpack-tools/contrib/rapidjson-99ba17bd66a85ec64a2f322b68c2b9c3b77a4391/test/unittest/allocatorstest.cpp  ASCII (LF)\n./msgpack-tools/contrib/rapidjson-99ba17bd66a85ec64a2f322b68c2b9c3b77a4391/test/unittest/bigintegertest.cpp  ASCII (LF)\n./msgpack-tools/contrib/rapidjson-99ba17bd66a85ec64a2f322b68c2b9c3b77a4391/test/unittest/CMakeLists.txt  ASCII (LF)\n./msgpack-tools/contrib/rapidjson-99ba17bd66a85ec64a2f322b68c2b9c3b77a4391/test/unittest/documenttest.cpp  ASCII (LF)\n./msgpack-tools/contrib/rapidjson-99ba17bd66a85ec64a2f322b68c2b9c3b77a4391/test/unittest/dtoatest.cpp  ASCII (LF)\n./msgpack-tools/contrib/rapidjson-99ba17bd66a85ec64a2f322b68c2b9c3b77a4391/test/unittest/encodedstreamtest.cpp  ASCII (LF)\n./msgpack-tools/contrib/rapidjson-99ba17bd66a85ec64a2f322b68c2b9c3b77a4391/test/unittest/encodingstest.cpp  ASCII (LF)\n./msgpack-tools/contrib/rapidjson-99ba17bd66a85ec64a2f322b68c2b9c3b77a4391/test/unittest/filestreamtest.cpp  ASCII (LF)\n./msgpack-tools/contrib/rapidjson-99ba17bd66a85ec64a2f322b68c2b9c3b77a4391/test/unittest/fwdtest.cpp  ASCII (LF)\n./msgpack-tools/contrib/rapidjson-99ba17bd66a85ec64a2f322b68c2b9c3b77a4391/test/unittest/istreamwrappertest.cpp  ASCII (LF)\n./msgpack-tools/contrib/rapidjson-99ba17bd66a85ec64a2f322b68c2b9c3b77a4391/test/unittest/itoatest.cpp  ASCII (LF)\n./msgpack-tools/contrib/rapidjson-99ba17bd66a85ec64a2f322b68c2b9c3b77a4391/test/unittest/jsoncheckertest.cpp  ASCII (LF)\n./msgpack-tools/contrib/rapidjson-99ba17bd66a85ec64a2f322b68c2b9c3b77a4391/test/unittest/namespacetest.cpp  ASCII (LF)\n./msgpack-tools/contrib/rapidjson-99ba17bd66a85ec64a2f322b68c2b9c3b77a4391/test/unittest/ostreamwrappertest.cpp  ASCII (LF)\n./msgpack-tools/contrib/rapidjson-99ba17bd66a85ec64a2f322b68c2b9c3b77a4391/test/unittest/pointertest.cpp  ASCII (LF)\n./msgpack-tools/contrib/rapidjson-99ba17bd66a85ec64a2f322b68c2b9c3b77a4391/test/unittest/prettywritertest.cpp  ASCII (LF)\n./msgpack-tools/contrib/rapidjson-99ba17bd66a85ec64a2f322b68c2b9c3b77a4391/test/unittest/readertest.cpp  EUC-JP (LF)\n./msgpack-tools/contrib/rapidjson-99ba17bd66a85ec64a2f322b68c2b9c3b77a4391/test/unittest/regextest.cpp  ASCII (LF)\n./msgpack-tools/contrib/rapidjson-99ba17bd66a85ec64a2f322b68c2b9c3b77a4391/test/unittest/schematest.cpp  ASCII (LF)\n./msgpack-tools/contrib/rapidjson-99ba17bd66a85ec64a2f322b68c2b9c3b77a4391/test/unittest/simdtest.cpp  ASCII (LF)\n./msgpack-tools/contrib/rapidjson-99ba17bd66a85ec64a2f322b68c2b9c3b77a4391/test/unittest/strfunctest.cpp  ASCII (LF)\n./msgpack-tools/contrib/rapidjson-99ba17bd66a85ec64a2f322b68c2b9c3b77a4391/test/unittest/stringbuffertest.cpp  ASCII (LF)\n./msgpack-tools/contrib/rapidjson-99ba17bd66a85ec64a2f322b68c2b9c3b77a4391/test/unittest/strtodtest.cpp  ASCII (LF)\n./msgpack-tools/contrib/rapidjson-99ba17bd66a85ec64a2f322b68c2b9c3b77a4391/test/unittest/unittest.cpp  ASCII (LF)\n./msgpack-tools/contrib/rapidjson-99ba17bd66a85ec64a2f322b68c2b9c3b77a4391/test/unittest/unittest.h  ASCII (LF)\n./msgpack-tools/contrib/rapidjson-99ba17bd66a85ec64a2f322b68c2b9c3b77a4391/test/unittest/valuetest.cpp  ASCII (LF)\n./msgpack-tools/contrib/rapidjson-99ba17bd66a85ec64a2f322b68c2b9c3b77a4391/test/unittest/writertest.cpp  ASCII (LF)\n./msgpack-tools/install_manifest.txt  ASCII (LF)\n./msgpack-tools/src/common.h  ASCII (LF)\n./msgpack-tools/src/json2msgpack.cpp  ASCII (LF)\n./msgpack-tools/src/msgpack2json.cpp  ASCII (LF)\n"
       }
      ]
     }
    ]
   },
   "outputs": [],
   "source": [
    "!find . -type f \\( -name \\*.h -or -name \\*.c -or -name \\*.cpp -or -name \\*.cc -or -name \\*.txt \\) \\\n",
    "| xargs -I{} sh -c \"echo -n {} ' ' && nkf --guess {}\""
   ]
  },
  {
   "cell_type": "code",
   "execution_count": null,
   "metadata": {
    "hidden": true,
    "lc_cell_meme": {
     "current": "2d715dee-b8af-11e7-9d3a-0242ac110002",
     "history": [
      {
       "current": "2d715dee-b8af-11e7-9d3a-0242ac110002",
       "next": null,
       "previous": "d39ffe86-b8ab-11e7-9d3a-0242ac110002"
      },
      {
       "current": "2d715dee-b8af-11e7-9d3a-0242ac110002",
       "next": null,
       "previous": "d39ffe86-b8ab-11e7-9d3a-0242ac110002"
      },
      {
       "current": "2d715dee-b8af-11e7-9d3a-0242ac110002",
       "next": null,
       "previous": "2d715dee-b8af-11e7-9d3a-0242ac110002"
      }
     ],
     "next": "2d715dee-b8af-11e7-9d3a-0242ac110002",
     "previous": "2d715dee-b8af-11e7-9d3a-0242ac110002"
    }
   },
   "outputs": [],
   "source": [
    "!find . -type f \\( -name \\*.h -or -name \\*.c -or -name \\*.cpp -or -name \\*.cc -or -name \\*.txt \\) \\\n",
    "| xargs -I{} sh -c \"nkf -w8Lw --overwrite {}\""
   ]
  },
  {
   "cell_type": "code",
   "execution_count": null,
   "metadata": {
    "hidden": true,
    "lc_cell_meme": {
     "current": "2d715dee-b8af-11e7-9d3a-0242ac110002",
     "history": [
      {
       "current": "2d715dee-b8af-11e7-9d3a-0242ac110002",
       "next": null,
       "previous": "d39ffe86-b8ab-11e7-9d3a-0242ac110002"
      },
      {
       "current": "2d715dee-b8af-11e7-9d3a-0242ac110002",
       "next": null,
       "previous": "d39ffe86-b8ab-11e7-9d3a-0242ac110002"
      },
      {
       "current": "2d715dee-b8af-11e7-9d3a-0242ac110002",
       "next": null,
       "previous": "2d715dee-b8af-11e7-9d3a-0242ac110002"
      },
      {
       "current": "2d715dee-b8af-11e7-9d3a-0242ac110002",
       "next": "068b635c-b961-11e7-ab32-0242ac110002",
       "previous": "2d715dee-b8af-11e7-9d3a-0242ac110002"
      },
      {
       "current": "2d715dee-b8af-11e7-9d3a-0242ac110002",
       "next": "20cabf9a-b963-11e7-ab32-0242ac110002",
       "previous": "2d715dee-b8af-11e7-9d3a-0242ac110002"
      }
     ],
     "next": "12c78a28-c696-11e7-97d0-0242ac110002",
     "previous": "2d715dee-b8af-11e7-9d3a-0242ac110002"
    },
    "pinned_outputs": [
     {
      "execution_count": 5,
      "outputs": [
       {
        "name": "stdout",
        "output_type": "stream",
        "text": "./Build/CMakeLists.txt  UTF-8 (BOM) (CRLF)\n./Build/Converter/BinaryDataWriter.cpp  UTF-8 (BOM) (CRLF)\n./Build/Converter/BinaryDataWriter.h  UTF-8 (BOM) (CRLF)\n./Build/Converter/FileUtil.cpp  UTF-8 (BOM) (CRLF)\n./Build/Converter/FileUtil.h  UTF-8 (BOM) (CRLF)\n./Build/Converter/Lump.cpp  UTF-8 (BOM) (CRLF)\n./Build/Converter/Lump.h  UTF-8 (BOM) (CRLF)\n./Build/Converter/LumpExporter.cpp  UTF-8 (BOM) (CRLF)\n./Build/Converter/LumpExporter.h  UTF-8 (BOM) (CRLF)\n./Build/Converter/main.cpp  UTF-8 (BOM) (CRLF)\n./Build/Converter/picojson.h  UTF-8 (BOM) (CRLF)\n./Build/Converter/SsPlayerConverter.h  UTF-8 (BOM) (CRLF)\n./Build/example/demo.c  UTF-8 (BOM) (CRLF)\n./Build/example/demo.h  UTF-8 (BOM) (CRLF)\n./Build/example/example_fbo.c  UTF-8 (BOM) (CRLF)\n./Build/example/example_gl2.c  UTF-8 (BOM) (CRLF)\n./Build/example/example_gl3.c  UTF-8 (BOM) (CRLF)\n./Build/example/example_gles2.c  UTF-8 (BOM) (CRLF)\n./Build/example/example_gles3.c  UTF-8 (BOM) (CRLF)\n./Build/example/images.txt  UTF-8 (BOM) (CRLF)\n./Build/example/LICENSE.txt  UTF-8 (BOM) (CRLF)\n./Build/example/perf.c  UTF-8 (BOM) (CRLF)\n./Build/example/perf.h  UTF-8 (BOM) (CRLF)\n./Build/example/stb_image_write.h  UTF-8 (BOM) (CRLF)\n./Build/plistConverter/plistConverter.cpp  UTF-8 (BOM) (CRLF)\n./Build/plistConverter/ReadMe.txt  UTF-8 (BOM) (CRLF)\n./Build/plistConverter/stdafx.cpp  UTF-8 (BOM) (CRLF)\n./Build/plistConverter/stdafx.h  UTF-8 (BOM) (CRLF)\n./Build/plistConverter/targetver.h  UTF-8 (BOM) (CRLF)\n./Build/PythonBinder/bind_Animation.cpp  UTF-8 (BOM) (CRLF)\n./Build/PythonBinder/bind_Animation.h  UTF-8 (BOM) (CRLF)\n./Build/PythonBinder/bind_AnimePack.cpp  UTF-8 (BOM) (CRLF)\n./Build/PythonBinder/bind_AnimePack.h  UTF-8 (BOM) (CRLF)\n./Build/PythonBinder/bind_Cellmap.cpp  UTF-8 (BOM) (CRLF)\n./Build/PythonBinder/bind_Cellmap.h  UTF-8 (BOM) (CRLF)\n./Build/PythonBinder/bind_SsAnimeDecoder.cpp  UTF-8 (BOM) (CRLF)\n./Build/PythonBinder/bind_SsAnimeDecoder.h  UTF-8 (BOM) (CRLF)\n./Build/PythonBinder/bind_SsAttribute.cpp  UTF-8 (BOM) (CRLF)\n./Build/PythonBinder/bind_SsAttribute.h  UTF-8 (BOM) (CRLF)\n./Build/PythonBinder/bind_SsKeyframe.cpp  UTF-8 (BOM) (CRLF)\n./Build/PythonBinder/bind_SsKeyframe.h  UTF-8 (BOM) (CRLF)\n./Build/PythonBinder/bind_SsPart.cpp  UTF-8 (BOM) (CRLF)\n./Build/PythonBinder/bind_SsPart.h  UTF-8 (BOM) (CRLF)\n./Build/PythonBinder/bind_SsPartAnime.cpp  UTF-8 (BOM) (CRLF)\n./Build/PythonBinder/bind_SsPartAnime.h  UTF-8 (BOM) (CRLF)\n./Build/PythonBinder/bind_SSXML.cpp  UTF-8 (BOM) (CRLF)\n./Build/PythonBinder/bind_SSXML.h  UTF-8 (BOM) (CRLF)\n./Build/PythonBinder/package_SpriteStudio.cpp  UTF-8 (BOM) (CRLF)\n./Build/PythonBinder/package_SpriteStudio.h  UTF-8 (BOM) (CRLF)\n./Build/PythonBinder/script_base_conv.cpp  UTF-8 (BOM) (CRLF)\n./Build/Ss6ConverterGUI/Ss6ConverterGUI/main.cpp  UTF-8 (BOM) (CRLF)\n./Build/Ss6ConverterGUI/Ss6ConverterGUI/mainwindow.cpp  UTF-8 (BOM) (CRLF)\n./Build/Ss6ConverterGUI/Ss6ConverterGUI/mainwindow.h  UTF-8 (BOM) (CRLF)\n./Build/Ss6ConverterGUI/Ss6ConverterGUI/readme.txt  UTF-8 (BOM) (CRLF)\n./Build/TestScript/readme.txt  UTF-8 (BOM) (CRLF)\n./Build/TestScript/SpriteStudio_pythonモジュール仕様書.txt  UTF-8 (BOM) (CRLF)\n./Build/UnitTest/gtest/gtest.h  UTF-8 (BOM) (CRLF)\n./Build/UnitTest/gtest-all.cc  UTF-8 (BOM) (CRLF)\n./Build/UnitTest/gtest_main.cc  UTF-8 (BOM) (CRLF)\n./Build/UnitTest/readme.txt  UTF-8 (BOM) (CRLF)\n./Build/UnitTest/unit_ssloader_ssae.cc  UTF-8 (BOM) (CRLF)\n./Build/UnitTest/unit_ssloader_ssce.cc  UTF-8 (BOM) (CRLF)\n./Build/UnitTest/unit_ssloader_sspj.cc  UTF-8 (BOM) (CRLF)\n./Build/Viewer/CMakeLists.txt  UTF-8 (BOM) (CRLF)\n./Build/Viewer/source/main_dx9.cpp  UTF-8 (BOM) (CRLF)\n./Build/Viewer/source/main_gl.cpp  UTF-8 (BOM) (CRLF)\n./Build/Viewer/source/myscene.cpp  UTF-8 (BOM) (CRLF)\n./Build/Viewer/source/myscene.h  UTF-8 (BOM) (CRLF)\n./Build/Viewer/source/script_base_conv.cpp  UTF-8 (BOM) (CRLF)\n./Common/Animator/ISsEffectRender.h  UTF-8 (BOM) (CRLF)\n./Common/Animator/MersenneTwister.h  UTF-8 (BOM) (CRLF)\n./Common/Animator/ssplayer_animedecode.cpp  UTF-8 (BOM) (CRLF)\n./Common/Animator/ssplayer_animedecode.h  UTF-8 (BOM) (CRLF)\n./Common/Animator/ssplayer_cellmap.cpp  UTF-8 (BOM) (CRLF)\n./Common/Animator/ssplayer_cellmap.h  UTF-8 (BOM) (CRLF)\n./Common/Animator/ssplayer_effect.cpp  UTF-8 (BOM) (CRLF)\n./Common/Animator/ssplayer_effect.h  UTF-8 (BOM) (CRLF)\n./Common/Animator/ssplayer_effect2.cpp  UTF-8 (BOM) (CRLF)\n./Common/Animator/ssplayer_effect2.h  UTF-8 (BOM) (CRLF)\n./Common/Animator/ssplayer_effectfunction.cpp  UTF-8 (BOM) (CRLF)\n./Common/Animator/ssplayer_effectfunction.h  UTF-8 (BOM) (CRLF)\n./Common/Animator/ssplayer_macro.h  UTF-8 (BOM) (CRLF)\n./Common/Animator/ssplayer_matrix.cpp  UTF-8 (BOM) (CRLF)\n./Common/Animator/ssplayer_matrix.h  UTF-8 (BOM) (CRLF)\n./Common/Animator/ssplayer_mesh.cpp  UTF-8 (BOM) (CRLF)\n./Common/Animator/ssplayer_mesh.h  UTF-8 (BOM) (CRLF)\n./Common/Animator/ssplayer_PartState.cpp  UTF-8 (BOM) (CRLF)\n./Common/Animator/ssplayer_PartState.h  UTF-8 (BOM) (CRLF)\n./Common/Animator/ssplayer_render.cpp  UTF-8 (BOM) (CRLF)\n./Common/Animator/ssplayer_render.h  UTF-8 (BOM) (CRLF)\n./Common/Animator/ssplayer_types.h  UTF-8 (BOM) (CRLF)\n./Common/Animator/xorshift32.h  UTF-8 (BOM) (CRLF)\n./Common/Drawer/ssplayer_render_dx9.cpp  UTF-8 (BOM) (CRLF)\n./Common/Drawer/ssplayer_render_dx9.h  UTF-8 (BOM) (CRLF)\n./Common/Drawer/ssplayer_render_gl.cpp  UTF-8 (BOM) (CRLF)\n./Common/Drawer/ssplayer_render_gl.h  UTF-8 (BOM) (CRLF)\n./Common/Drawer/ssplayer_shader_gl.cpp  UTF-8 (BOM) (CRLF)\n./Common/Drawer/ssplayer_shader_gl.h  UTF-8 (BOM) (CRLF)\n./Common/Helper/DebugPrint.cpp  UTF-8 (BOM) (CRLF)\n./Common/Helper/DebugPrint.h  UTF-8 (BOM) (CRLF)\n./Common/Helper/DirectX/d3dsimple.cpp  UTF-8 (BOM) (CRLF)\n./Common/Helper/DirectX/d3dsimple.h  UTF-8 (BOM) (CRLF)\n./Common/Helper/DirectX/SSTextureDX9.cpp  UTF-8 (BOM) (CRLF)\n./Common/Helper/DirectX/SSTextureDX9.h  UTF-8 (BOM) (CRLF)\n./Common/Helper/IsshTexture.cpp  UTF-8 (BOM) (CRLF)\n./Common/Helper/IsshTexture.h  UTF-8 (BOM) (CRLF)\n./Common/Helper/MacOS/OSXFileOpen.h  UTF-8 (BOM) (CRLF)\n./Common/Helper/OpenGL/SSTextureGL.cpp  UTF-8 (BOM) (CRLF)\n./Common/Helper/OpenGL/SSTextureGL.h  UTF-8 (BOM) (CRLF)\n./Common/Helper/ssHelper.h  UTF-8 (BOM) (CRLF)\n./Common/Helper/sshObject.cpp  UTF-8 (BOM) (CRLF)\n./Common/Helper/sshObject.h  UTF-8 (BOM) (CRLF)\n./Common/Helper/sshScene.cpp  UTF-8 (BOM) (CRLF)\n./Common/Helper/sshScene.h  UTF-8 (BOM) (CRLF)\n./Common/Helper/sshTask.cpp  UTF-8 (BOM) (CRLF)\n./Common/Helper/sshTask.h  UTF-8 (BOM) (CRLF)\n./Common/Helper/sshTextureBMP.cpp  UTF-8 (BOM) (CRLF)\n./Common/Helper/sshTextureBMP.h  UTF-8 (BOM) (CRLF)\n./Common/Helper/stb_image.c  UTF-8 (BOM) (CRLF)\n./Common/Helper/stb_image.h  UTF-8 (BOM) (CRLF)\n./Common/Helper/Win/WinMain.cpp  UTF-8 (BOM) (CRLF)\n./Common/Helper/XPFileOpenDlg.cpp  UTF-8 (BOM) (CRLF)\n./Common/Helper/XPFileOpenDlg.h  UTF-8 (BOM) (CRLF)\n./Common/Loader/babel/babel.cpp  UTF-8 (BOM) (CRLF)\n./Common/Loader/babel/babel.h  UTF-8 (BOM) (CRLF)\n./Common/Loader/ssarchiver.cpp  UTF-8 (BOM) (CRLF)\n./Common/Loader/ssarchiver.h  UTF-8 (BOM) (CRLF)\n./Common/Loader/ssattribute.cpp  UTF-8 (BOM) (CRLF)\n./Common/Loader/ssattribute.h  UTF-8 (BOM) (CRLF)\n./Common/Loader/SsEffectBehavior.cpp  UTF-8 (BOM) (CRLF)\n./Common/Loader/SsEffectBehavior.h  UTF-8 (BOM) (CRLF)\n./Common/Loader/SsEffectElement.cpp  UTF-8 (BOM) (CRLF)\n./Common/Loader/SsEffectElement.h  UTF-8 (BOM) (CRLF)\n./Common/Loader/ssInterpolation.cpp  UTF-8 (BOM) (CRLF)\n./Common/Loader/ssInterpolation.h  UTF-8 (BOM) (CRLF)\n./Common/Loader/ssloader.h  UTF-8 (BOM) (CRLF)\n./Common/Loader/ssloader_ssae.cpp  UTF-8 (BOM) (CRLF)\n./Common/Loader/ssloader_ssae.h  UTF-8 (BOM) (CRLF)\n./Common/Loader/ssloader_ssce.cpp  UTF-8 (BOM) (CRLF)\n./Common/Loader/ssloader_ssce.h  UTF-8 (BOM) (CRLF)\n./Common/Loader/ssloader_ssee.cpp  UTF-8 (BOM) (CRLF)\n./Common/Loader/ssloader_ssee.h  UTF-8 (BOM) (CRLF)\n./Common/Loader/ssloader_sspj.cpp  UTF-8 (BOM) (CRLF)\n./Common/Loader/ssloader_sspj.h  UTF-8 (BOM) (CRLF)\n./Common/Loader/ssstring_uty.cpp  UTF-8 (BOM) (CRLF)\n./Common/Loader/ssstring_uty.h  UTF-8 (BOM) (CRLF)\n./Common/Loader/sstypes.cpp  UTF-8 (BOM) (CRLF)\n./Common/Loader/sstypes.h  UTF-8 (BOM) (CRLF)\n./Common/Loader/ssvalue.cpp  UTF-8 (BOM) (CRLF)\n./Common/Loader/ssvalue.h  UTF-8 (BOM) (CRLF)\n./Common/Loader/tinyxml2/tinyxml2.cpp  UTF-8 (BOM) (CRLF)\n"
       },
       {
        "name": "stdout",
        "output_type": "stream",
        "text": "./Common/Loader/tinyxml2/tinyxml2.h  UTF-8 (BOM) (CRLF)\n./msgpack-tools/CMakeCache.txt  UTF-8 (BOM) (CRLF)\n./msgpack-tools/CMakeFiles/3.0.2/CompilerIdC/CMakeCCompilerId.c  UTF-8 (BOM) (CRLF)\n./msgpack-tools/CMakeFiles/3.0.2/CompilerIdCXX/CMakeCXXCompilerId.cpp  UTF-8 (BOM) (CRLF)\n./msgpack-tools/CMakeFiles/json2msgpack.dir/link.txt  UTF-8 (BOM) (CRLF)\n./msgpack-tools/CMakeFiles/msgpack2json.dir/link.txt  UTF-8 (BOM) (CRLF)\n./msgpack-tools/CMakeFiles/TargetDirectories.txt  UTF-8 (BOM) (CRLF)\n./msgpack-tools/CMakeLists.txt  UTF-8 (BOM) (CRLF)\n./msgpack-tools/contrib/libb64-1.2.1/base64/base64.cc  UTF-8 (BOM) (CRLF)\n./msgpack-tools/contrib/libb64-1.2.1/examples/c-example1.c  UTF-8 (BOM) (CRLF)\n./msgpack-tools/contrib/libb64-1.2.1/examples/c-example2.c  UTF-8 (BOM) (CRLF)\n./msgpack-tools/contrib/libb64-1.2.1/examples/loremgibson.txt  UTF-8 (BOM) (CRLF)\n./msgpack-tools/contrib/libb64-1.2.1/include/b64/cdecode.h  UTF-8 (BOM) (CRLF)\n./msgpack-tools/contrib/libb64-1.2.1/include/b64/cencode.h  UTF-8 (BOM) (CRLF)\n./msgpack-tools/contrib/libb64-1.2.1/include/b64/decode.h  UTF-8 (BOM) (CRLF)\n./msgpack-tools/contrib/libb64-1.2.1/include/b64/encode.h  UTF-8 (BOM) (CRLF)\n./msgpack-tools/contrib/libb64-1.2.1/src/cdecode.c  UTF-8 (BOM) (CRLF)\n./msgpack-tools/contrib/libb64-1.2.1/src/cencode.c  UTF-8 (BOM) (CRLF)\n./msgpack-tools/contrib/mpack-df17e83f0fa8571b9cd0d8ccf38144fa90e244d1/src/mpack/mpack-common.c  UTF-8 (BOM) (CRLF)\n./msgpack-tools/contrib/mpack-df17e83f0fa8571b9cd0d8ccf38144fa90e244d1/src/mpack/mpack-common.h  UTF-8 (BOM) (CRLF)\n./msgpack-tools/contrib/mpack-df17e83f0fa8571b9cd0d8ccf38144fa90e244d1/src/mpack/mpack-expect.c  UTF-8 (BOM) (CRLF)\n./msgpack-tools/contrib/mpack-df17e83f0fa8571b9cd0d8ccf38144fa90e244d1/src/mpack/mpack-expect.h  UTF-8 (BOM) (CRLF)\n./msgpack-tools/contrib/mpack-df17e83f0fa8571b9cd0d8ccf38144fa90e244d1/src/mpack/mpack-node.c  UTF-8 (BOM) (CRLF)\n./msgpack-tools/contrib/mpack-df17e83f0fa8571b9cd0d8ccf38144fa90e244d1/src/mpack/mpack-node.h  UTF-8 (BOM) (CRLF)\n./msgpack-tools/contrib/mpack-df17e83f0fa8571b9cd0d8ccf38144fa90e244d1/src/mpack/mpack-platform.c  UTF-8 (BOM) (CRLF)\n./msgpack-tools/contrib/mpack-df17e83f0fa8571b9cd0d8ccf38144fa90e244d1/src/mpack/mpack-platform.h  UTF-8 (BOM) (CRLF)\n./msgpack-tools/contrib/mpack-df17e83f0fa8571b9cd0d8ccf38144fa90e244d1/src/mpack/mpack-reader.c  UTF-8 (BOM) (CRLF)\n./msgpack-tools/contrib/mpack-df17e83f0fa8571b9cd0d8ccf38144fa90e244d1/src/mpack/mpack-reader.h  UTF-8 (BOM) (CRLF)\n./msgpack-tools/contrib/mpack-df17e83f0fa8571b9cd0d8ccf38144fa90e244d1/src/mpack/mpack-writer.c  UTF-8 (BOM) (CRLF)\n./msgpack-tools/contrib/mpack-df17e83f0fa8571b9cd0d8ccf38144fa90e244d1/src/mpack/mpack-writer.h  UTF-8 (BOM) (CRLF)\n./msgpack-tools/contrib/mpack-df17e83f0fa8571b9cd0d8ccf38144fa90e244d1/src/mpack/mpack.h  UTF-8 (BOM) (CRLF)\n./msgpack-tools/contrib/mpack-df17e83f0fa8571b9cd0d8ccf38144fa90e244d1/test/mpack-config.h  UTF-8 (BOM) (CRLF)\n./msgpack-tools/contrib/mpack-df17e83f0fa8571b9cd0d8ccf38144fa90e244d1/test/test-buffer.c  UTF-8 (BOM) (CRLF)\n./msgpack-tools/contrib/mpack-df17e83f0fa8571b9cd0d8ccf38144fa90e244d1/test/test-buffer.h  UTF-8 (BOM) (CRLF)\n./msgpack-tools/contrib/mpack-df17e83f0fa8571b9cd0d8ccf38144fa90e244d1/test/test-common.c  UTF-8 (BOM) (CRLF)\n./msgpack-tools/contrib/mpack-df17e83f0fa8571b9cd0d8ccf38144fa90e244d1/test/test-common.h  UTF-8 (BOM) (CRLF)\n./msgpack-tools/contrib/mpack-df17e83f0fa8571b9cd0d8ccf38144fa90e244d1/test/test-expect.c  UTF-8 (BOM) (CRLF)\n./msgpack-tools/contrib/mpack-df17e83f0fa8571b9cd0d8ccf38144fa90e244d1/test/test-expect.h  UTF-8 (BOM) (CRLF)\n./msgpack-tools/contrib/mpack-df17e83f0fa8571b9cd0d8ccf38144fa90e244d1/test/test-file.c  UTF-8 (BOM) (CRLF)\n./msgpack-tools/contrib/mpack-df17e83f0fa8571b9cd0d8ccf38144fa90e244d1/test/test-file.h  UTF-8 (BOM) (CRLF)\n./msgpack-tools/contrib/mpack-df17e83f0fa8571b9cd0d8ccf38144fa90e244d1/test/test-node.c  UTF-8 (BOM) (CRLF)\n./msgpack-tools/contrib/mpack-df17e83f0fa8571b9cd0d8ccf38144fa90e244d1/test/test-node.h  UTF-8 (BOM) (CRLF)\n./msgpack-tools/contrib/mpack-df17e83f0fa8571b9cd0d8ccf38144fa90e244d1/test/test-reader.c  UTF-8 (BOM) (CRLF)\n./msgpack-tools/contrib/mpack-df17e83f0fa8571b9cd0d8ccf38144fa90e244d1/test/test-reader.h  UTF-8 (BOM) (CRLF)\n./msgpack-tools/contrib/mpack-df17e83f0fa8571b9cd0d8ccf38144fa90e244d1/test/test-system.c  UTF-8 (BOM) (CRLF)\n./msgpack-tools/contrib/mpack-df17e83f0fa8571b9cd0d8ccf38144fa90e244d1/test/test-system.h  UTF-8 (BOM) (CRLF)\n./msgpack-tools/contrib/mpack-df17e83f0fa8571b9cd0d8ccf38144fa90e244d1/test/test-write.c  UTF-8 (BOM) (CRLF)\n./msgpack-tools/contrib/mpack-df17e83f0fa8571b9cd0d8ccf38144fa90e244d1/test/test-write.h  UTF-8 (BOM) (CRLF)\n./msgpack-tools/contrib/mpack-df17e83f0fa8571b9cd0d8ccf38144fa90e244d1/test/test.c  UTF-8 (BOM) (CRLF)\n./msgpack-tools/contrib/mpack-df17e83f0fa8571b9cd0d8ccf38144fa90e244d1/test/test.h  UTF-8 (BOM) (CRLF)\n./msgpack-tools/contrib/rapidjson-99ba17bd66a85ec64a2f322b68c2b9c3b77a4391/bin/data/readme.txt  UTF-8 (BOM) (CRLF)\n./msgpack-tools/contrib/rapidjson-99ba17bd66a85ec64a2f322b68c2b9c3b77a4391/bin/jsonchecker/readme.txt  UTF-8 (BOM) (CRLF)\n./msgpack-tools/contrib/rapidjson-99ba17bd66a85ec64a2f322b68c2b9c3b77a4391/bin/types/readme.txt  UTF-8 (BOM) (CRLF)\n./msgpack-tools/contrib/rapidjson-99ba17bd66a85ec64a2f322b68c2b9c3b77a4391/CMakeLists.txt  UTF-8 (BOM) (CRLF)\n./msgpack-tools/contrib/rapidjson-99ba17bd66a85ec64a2f322b68c2b9c3b77a4391/doc/CMakeLists.txt  UTF-8 (BOM) (CRLF)\n./msgpack-tools/contrib/rapidjson-99ba17bd66a85ec64a2f322b68c2b9c3b77a4391/example/capitalize/capitalize.cpp  UTF-8 (BOM) (CRLF)\n./msgpack-tools/contrib/rapidjson-99ba17bd66a85ec64a2f322b68c2b9c3b77a4391/example/CMakeLists.txt  UTF-8 (BOM) (CRLF)\n./msgpack-tools/contrib/rapidjson-99ba17bd66a85ec64a2f322b68c2b9c3b77a4391/example/condense/condense.cpp  UTF-8 (BOM) (CRLF)\n./msgpack-tools/contrib/rapidjson-99ba17bd66a85ec64a2f322b68c2b9c3b77a4391/example/filterkey/filterkey.cpp  UTF-8 (BOM) (CRLF)\n./msgpack-tools/contrib/rapidjson-99ba17bd66a85ec64a2f322b68c2b9c3b77a4391/example/filterkeydom/filterkeydom.cpp  UTF-8 (BOM) (CRLF)\n./msgpack-tools/contrib/rapidjson-99ba17bd66a85ec64a2f322b68c2b9c3b77a4391/example/jsonx/jsonx.cpp  UTF-8 (BOM) (CRLF)\n./msgpack-tools/contrib/rapidjson-99ba17bd66a85ec64a2f322b68c2b9c3b77a4391/example/messagereader/messagereader.cpp  UTF-8 (BOM) (CRLF)\n./msgpack-tools/contrib/rapidjson-99ba17bd66a85ec64a2f322b68c2b9c3b77a4391/example/parsebyparts/parsebyparts.cpp  UTF-8 (BOM) (CRLF)\n./msgpack-tools/contrib/rapidjson-99ba17bd66a85ec64a2f322b68c2b9c3b77a4391/example/pretty/pretty.cpp  UTF-8 (BOM) (CRLF)\n./msgpack-tools/contrib/rapidjson-99ba17bd66a85ec64a2f322b68c2b9c3b77a4391/example/prettyauto/prettyauto.cpp  UTF-8 (BOM) (CRLF)\n./msgpack-tools/contrib/rapidjson-99ba17bd66a85ec64a2f322b68c2b9c3b77a4391/example/schemavalidator/schemavalidator.cpp  UTF-8 (BOM) (CRLF)\n./msgpack-tools/contrib/rapidjson-99ba17bd66a85ec64a2f322b68c2b9c3b77a4391/example/serialize/serialize.cpp  UTF-8 (BOM) (CRLF)\n./msgpack-tools/contrib/rapidjson-99ba17bd66a85ec64a2f322b68c2b9c3b77a4391/example/simpledom/simpledom.cpp  UTF-8 (BOM) (CRLF)\n./msgpack-tools/contrib/rapidjson-99ba17bd66a85ec64a2f322b68c2b9c3b77a4391/example/simplereader/simplereader.cpp  UTF-8 (BOM) (CRLF)\n./msgpack-tools/contrib/rapidjson-99ba17bd66a85ec64a2f322b68c2b9c3b77a4391/example/simplewriter/simplewriter.cpp  UTF-8 (BOM) (CRLF)\n./msgpack-tools/contrib/rapidjson-99ba17bd66a85ec64a2f322b68c2b9c3b77a4391/example/tutorial/tutorial.cpp  UTF-8 (BOM) (CRLF)\n./msgpack-tools/contrib/rapidjson-99ba17bd66a85ec64a2f322b68c2b9c3b77a4391/include/rapidjson/allocators.h  UTF-8 (BOM) (CRLF)\n./msgpack-tools/contrib/rapidjson-99ba17bd66a85ec64a2f322b68c2b9c3b77a4391/include/rapidjson/document.h  UTF-8 (BOM) (CRLF)\n./msgpack-tools/contrib/rapidjson-99ba17bd66a85ec64a2f322b68c2b9c3b77a4391/include/rapidjson/encodedstream.h  UTF-8 (BOM) (CRLF)\n./msgpack-tools/contrib/rapidjson-99ba17bd66a85ec64a2f322b68c2b9c3b77a4391/include/rapidjson/encodings.h  UTF-8 (BOM) (CRLF)\n./msgpack-tools/contrib/rapidjson-99ba17bd66a85ec64a2f322b68c2b9c3b77a4391/include/rapidjson/error/en.h  UTF-8 (BOM) (CRLF)\n./msgpack-tools/contrib/rapidjson-99ba17bd66a85ec64a2f322b68c2b9c3b77a4391/include/rapidjson/error/error.h  UTF-8 (BOM) (CRLF)\n./msgpack-tools/contrib/rapidjson-99ba17bd66a85ec64a2f322b68c2b9c3b77a4391/include/rapidjson/filereadstream.h  UTF-8 (BOM) (CRLF)\n./msgpack-tools/contrib/rapidjson-99ba17bd66a85ec64a2f322b68c2b9c3b77a4391/include/rapidjson/filewritestream.h  UTF-8 (BOM) (CRLF)\n./msgpack-tools/contrib/rapidjson-99ba17bd66a85ec64a2f322b68c2b9c3b77a4391/include/rapidjson/fwd.h  UTF-8 (BOM) (CRLF)\n./msgpack-tools/contrib/rapidjson-99ba17bd66a85ec64a2f322b68c2b9c3b77a4391/include/rapidjson/internal/biginteger.h  UTF-8 (BOM) (CRLF)\n./msgpack-tools/contrib/rapidjson-99ba17bd66a85ec64a2f322b68c2b9c3b77a4391/include/rapidjson/internal/diyfp.h  UTF-8 (BOM) (CRLF)\n./msgpack-tools/contrib/rapidjson-99ba17bd66a85ec64a2f322b68c2b9c3b77a4391/include/rapidjson/internal/dtoa.h  UTF-8 (BOM) (CRLF)\n./msgpack-tools/contrib/rapidjson-99ba17bd66a85ec64a2f322b68c2b9c3b77a4391/include/rapidjson/internal/ieee754.h  UTF-8 (BOM) (CRLF)\n./msgpack-tools/contrib/rapidjson-99ba17bd66a85ec64a2f322b68c2b9c3b77a4391/include/rapidjson/internal/itoa.h  UTF-8 (BOM) (CRLF)\n./msgpack-tools/contrib/rapidjson-99ba17bd66a85ec64a2f322b68c2b9c3b77a4391/include/rapidjson/internal/meta.h  UTF-8 (BOM) (CRLF)\n./msgpack-tools/contrib/rapidjson-99ba17bd66a85ec64a2f322b68c2b9c3b77a4391/include/rapidjson/internal/pow10.h  UTF-8 (BOM) (CRLF)\n./msgpack-tools/contrib/rapidjson-99ba17bd66a85ec64a2f322b68c2b9c3b77a4391/include/rapidjson/internal/regex.h  UTF-8 (BOM) (CRLF)\n./msgpack-tools/contrib/rapidjson-99ba17bd66a85ec64a2f322b68c2b9c3b77a4391/include/rapidjson/internal/stack.h  UTF-8 (BOM) (CRLF)\n./msgpack-tools/contrib/rapidjson-99ba17bd66a85ec64a2f322b68c2b9c3b77a4391/include/rapidjson/internal/strfunc.h  UTF-8 (BOM) (CRLF)\n"
       },
       {
        "name": "stdout",
        "output_type": "stream",
        "text": "./msgpack-tools/contrib/rapidjson-99ba17bd66a85ec64a2f322b68c2b9c3b77a4391/include/rapidjson/internal/strtod.h  UTF-8 (BOM) (CRLF)\n./msgpack-tools/contrib/rapidjson-99ba17bd66a85ec64a2f322b68c2b9c3b77a4391/include/rapidjson/internal/swap.h  UTF-8 (BOM) (CRLF)\n./msgpack-tools/contrib/rapidjson-99ba17bd66a85ec64a2f322b68c2b9c3b77a4391/include/rapidjson/istreamwrapper.h  UTF-8 (BOM) (CRLF)\n./msgpack-tools/contrib/rapidjson-99ba17bd66a85ec64a2f322b68c2b9c3b77a4391/include/rapidjson/memorybuffer.h  UTF-8 (BOM) (CRLF)\n./msgpack-tools/contrib/rapidjson-99ba17bd66a85ec64a2f322b68c2b9c3b77a4391/include/rapidjson/memorystream.h  UTF-8 (BOM) (CRLF)\n./msgpack-tools/contrib/rapidjson-99ba17bd66a85ec64a2f322b68c2b9c3b77a4391/include/rapidjson/msinttypes/inttypes.h  UTF-8 (BOM) (CRLF)\n./msgpack-tools/contrib/rapidjson-99ba17bd66a85ec64a2f322b68c2b9c3b77a4391/include/rapidjson/msinttypes/stdint.h  UTF-8 (BOM) (CRLF)\n./msgpack-tools/contrib/rapidjson-99ba17bd66a85ec64a2f322b68c2b9c3b77a4391/include/rapidjson/ostreamwrapper.h  UTF-8 (BOM) (CRLF)\n./msgpack-tools/contrib/rapidjson-99ba17bd66a85ec64a2f322b68c2b9c3b77a4391/include/rapidjson/pointer.h  UTF-8 (BOM) (CRLF)\n./msgpack-tools/contrib/rapidjson-99ba17bd66a85ec64a2f322b68c2b9c3b77a4391/include/rapidjson/prettywriter.h  UTF-8 (BOM) (CRLF)\n./msgpack-tools/contrib/rapidjson-99ba17bd66a85ec64a2f322b68c2b9c3b77a4391/include/rapidjson/rapidjson.h  UTF-8 (BOM) (CRLF)\n./msgpack-tools/contrib/rapidjson-99ba17bd66a85ec64a2f322b68c2b9c3b77a4391/include/rapidjson/reader.h  UTF-8 (BOM) (CRLF)\n./msgpack-tools/contrib/rapidjson-99ba17bd66a85ec64a2f322b68c2b9c3b77a4391/include/rapidjson/schema.h  UTF-8 (BOM) (CRLF)\n./msgpack-tools/contrib/rapidjson-99ba17bd66a85ec64a2f322b68c2b9c3b77a4391/include/rapidjson/stream.h  UTF-8 (BOM) (CRLF)\n./msgpack-tools/contrib/rapidjson-99ba17bd66a85ec64a2f322b68c2b9c3b77a4391/include/rapidjson/stringbuffer.h  UTF-8 (BOM) (CRLF)\n./msgpack-tools/contrib/rapidjson-99ba17bd66a85ec64a2f322b68c2b9c3b77a4391/include/rapidjson/writer.h  UTF-8 (BOM) (CRLF)\n./msgpack-tools/contrib/rapidjson-99ba17bd66a85ec64a2f322b68c2b9c3b77a4391/license.txt  UTF-8 (BOM) (CRLF)\n./msgpack-tools/contrib/rapidjson-99ba17bd66a85ec64a2f322b68c2b9c3b77a4391/test/CMakeLists.txt  UTF-8 (BOM) (CRLF)\n./msgpack-tools/contrib/rapidjson-99ba17bd66a85ec64a2f322b68c2b9c3b77a4391/test/perftest/CMakeLists.txt  UTF-8 (BOM) (CRLF)\n./msgpack-tools/contrib/rapidjson-99ba17bd66a85ec64a2f322b68c2b9c3b77a4391/test/perftest/misctest.cpp  UTF-8 (BOM) (CRLF)\n./msgpack-tools/contrib/rapidjson-99ba17bd66a85ec64a2f322b68c2b9c3b77a4391/test/perftest/perftest.cpp  UTF-8 (BOM) (CRLF)\n./msgpack-tools/contrib/rapidjson-99ba17bd66a85ec64a2f322b68c2b9c3b77a4391/test/perftest/perftest.h  UTF-8 (BOM) (CRLF)\n./msgpack-tools/contrib/rapidjson-99ba17bd66a85ec64a2f322b68c2b9c3b77a4391/test/perftest/platformtest.cpp  UTF-8 (BOM) (CRLF)\n./msgpack-tools/contrib/rapidjson-99ba17bd66a85ec64a2f322b68c2b9c3b77a4391/test/perftest/rapidjsontest.cpp  UTF-8 (BOM) (CRLF)\n./msgpack-tools/contrib/rapidjson-99ba17bd66a85ec64a2f322b68c2b9c3b77a4391/test/perftest/schematest.cpp  UTF-8 (BOM) (CRLF)\n./msgpack-tools/contrib/rapidjson-99ba17bd66a85ec64a2f322b68c2b9c3b77a4391/test/unittest/allocatorstest.cpp  UTF-8 (BOM) (CRLF)\n./msgpack-tools/contrib/rapidjson-99ba17bd66a85ec64a2f322b68c2b9c3b77a4391/test/unittest/bigintegertest.cpp  UTF-8 (BOM) (CRLF)\n./msgpack-tools/contrib/rapidjson-99ba17bd66a85ec64a2f322b68c2b9c3b77a4391/test/unittest/CMakeLists.txt  UTF-8 (BOM) (CRLF)\n./msgpack-tools/contrib/rapidjson-99ba17bd66a85ec64a2f322b68c2b9c3b77a4391/test/unittest/documenttest.cpp  UTF-8 (BOM) (CRLF)\n./msgpack-tools/contrib/rapidjson-99ba17bd66a85ec64a2f322b68c2b9c3b77a4391/test/unittest/dtoatest.cpp  UTF-8 (BOM) (CRLF)\n./msgpack-tools/contrib/rapidjson-99ba17bd66a85ec64a2f322b68c2b9c3b77a4391/test/unittest/encodedstreamtest.cpp  UTF-8 (BOM) (CRLF)\n./msgpack-tools/contrib/rapidjson-99ba17bd66a85ec64a2f322b68c2b9c3b77a4391/test/unittest/encodingstest.cpp  UTF-8 (BOM) (CRLF)\n./msgpack-tools/contrib/rapidjson-99ba17bd66a85ec64a2f322b68c2b9c3b77a4391/test/unittest/filestreamtest.cpp  UTF-8 (BOM) (CRLF)\n./msgpack-tools/contrib/rapidjson-99ba17bd66a85ec64a2f322b68c2b9c3b77a4391/test/unittest/fwdtest.cpp  UTF-8 (BOM) (CRLF)\n./msgpack-tools/contrib/rapidjson-99ba17bd66a85ec64a2f322b68c2b9c3b77a4391/test/unittest/istreamwrappertest.cpp  UTF-8 (BOM) (CRLF)\n./msgpack-tools/contrib/rapidjson-99ba17bd66a85ec64a2f322b68c2b9c3b77a4391/test/unittest/itoatest.cpp  UTF-8 (BOM) (CRLF)\n./msgpack-tools/contrib/rapidjson-99ba17bd66a85ec64a2f322b68c2b9c3b77a4391/test/unittest/jsoncheckertest.cpp  UTF-8 (BOM) (CRLF)\n./msgpack-tools/contrib/rapidjson-99ba17bd66a85ec64a2f322b68c2b9c3b77a4391/test/unittest/namespacetest.cpp  UTF-8 (BOM) (CRLF)\n./msgpack-tools/contrib/rapidjson-99ba17bd66a85ec64a2f322b68c2b9c3b77a4391/test/unittest/ostreamwrappertest.cpp  UTF-8 (BOM) (CRLF)\n./msgpack-tools/contrib/rapidjson-99ba17bd66a85ec64a2f322b68c2b9c3b77a4391/test/unittest/pointertest.cpp  UTF-8 (BOM) (CRLF)\n./msgpack-tools/contrib/rapidjson-99ba17bd66a85ec64a2f322b68c2b9c3b77a4391/test/unittest/prettywritertest.cpp  UTF-8 (BOM) (CRLF)\n./msgpack-tools/contrib/rapidjson-99ba17bd66a85ec64a2f322b68c2b9c3b77a4391/test/unittest/readertest.cpp  UTF-8 (BOM) (CRLF)\n./msgpack-tools/contrib/rapidjson-99ba17bd66a85ec64a2f322b68c2b9c3b77a4391/test/unittest/regextest.cpp  UTF-8 (BOM) (CRLF)\n./msgpack-tools/contrib/rapidjson-99ba17bd66a85ec64a2f322b68c2b9c3b77a4391/test/unittest/schematest.cpp  UTF-8 (BOM) (CRLF)\n./msgpack-tools/contrib/rapidjson-99ba17bd66a85ec64a2f322b68c2b9c3b77a4391/test/unittest/simdtest.cpp  UTF-8 (BOM) (CRLF)\n./msgpack-tools/contrib/rapidjson-99ba17bd66a85ec64a2f322b68c2b9c3b77a4391/test/unittest/strfunctest.cpp  UTF-8 (BOM) (CRLF)\n./msgpack-tools/contrib/rapidjson-99ba17bd66a85ec64a2f322b68c2b9c3b77a4391/test/unittest/stringbuffertest.cpp  UTF-8 (BOM) (CRLF)\n./msgpack-tools/contrib/rapidjson-99ba17bd66a85ec64a2f322b68c2b9c3b77a4391/test/unittest/strtodtest.cpp  UTF-8 (BOM) (CRLF)\n./msgpack-tools/contrib/rapidjson-99ba17bd66a85ec64a2f322b68c2b9c3b77a4391/test/unittest/unittest.cpp  UTF-8 (BOM) (CRLF)\n./msgpack-tools/contrib/rapidjson-99ba17bd66a85ec64a2f322b68c2b9c3b77a4391/test/unittest/unittest.h  UTF-8 (BOM) (CRLF)\n./msgpack-tools/contrib/rapidjson-99ba17bd66a85ec64a2f322b68c2b9c3b77a4391/test/unittest/valuetest.cpp  UTF-8 (BOM) (CRLF)\n./msgpack-tools/contrib/rapidjson-99ba17bd66a85ec64a2f322b68c2b9c3b77a4391/test/unittest/writertest.cpp  UTF-8 (BOM) (CRLF)\n./msgpack-tools/install_manifest.txt  UTF-8 (BOM) (CRLF)\n./msgpack-tools/src/common.h  UTF-8 (BOM) (CRLF)\n./msgpack-tools/src/json2msgpack.cpp  UTF-8 (BOM) (CRLF)\n./msgpack-tools/src/msgpack2json.cpp  UTF-8 (BOM) (CRLF)\n"
       }
      ]
     }
    ]
   },
   "outputs": [],
   "source": [
    "!find . -type f \\( -name \\*.h -or -name \\*.c -or -name \\*.cpp -or -name \\*.cc -or -name \\*.txt \\) \\\n",
    "| xargs -I{} sh -c \"echo -n {} ' ' && nkf --guess {}\""
   ]
  },
  {
   "cell_type": "markdown",
   "metadata": {
    "heading_collapsed": true,
    "lc_cell_meme": {
     "current": "12c78a28-c696-11e7-97d0-0242ac110002",
     "next": "068b635c-b961-11e7-ab32-0242ac110002",
     "previous": "2d715dee-b8af-11e7-9d3a-0242ac110002"
    }
   },
   "source": [
    "# ssbpコンバータのビルド"
   ]
  },
  {
   "cell_type": "code",
   "execution_count": null,
   "metadata": {
    "hidden": true,
    "lc_cell_meme": {
     "current": "068b635c-b961-11e7-ab32-0242ac110002",
     "history": [
      {
       "current": "068b635c-b961-11e7-ab32-0242ac110002",
       "next": null,
       "previous": "2d715dee-b8af-11e7-9d3a-0242ac110002"
      },
      {
       "current": "068b635c-b961-11e7-ab32-0242ac110002",
       "next": "66f32f08-b962-11e7-ab32-0242ac110002",
       "previous": "2d715dee-b8af-11e7-9d3a-0242ac110002"
      },
      {
       "current": "068b635c-b961-11e7-ab32-0242ac110002",
       "next": null,
       "previous": "20cabf9a-b963-11e7-ab32-0242ac110002"
      },
      {
       "current": "068b635c-b961-11e7-ab32-0242ac110002",
       "next": "d6915b58-c693-11e7-97d0-0242ac110002",
       "previous": "20cabf9a-b963-11e7-ab32-0242ac110002"
      }
     ],
     "next": "12c78cc6-c696-11e7-97d0-0242ac110002",
     "previous": "12c78a28-c696-11e7-97d0-0242ac110002"
    },
    "pinned_outputs": [
     {
      "execution_count": 6,
      "outputs": [
       {
        "name": "stdout",
        "output_type": "stream",
        "text": "-- The C compiler identification is GNU 4.9.2\n-- The CXX compiler identification is GNU 4.9.2\n-- Check for working C compiler: /usr/bin/cc\n-- Check for working C compiler: /usr/bin/cc -- works\n-- Detecting C compiler ABI info\n-- Detecting C compiler ABI info - done\n-- Check for working CXX compiler: /usr/bin/c++\n-- Check for working CXX compiler: /usr/bin/c++ -- works\n-- Detecting CXX compiler ABI info\n-- Detecting CXX compiler ABI info - done\n-- Configuring done\n-- Generating done\n-- Build files have been written to: /notebooks/ss6sdk/Build/build\nScanning dependencies of target ssHelper\n[  2%] Building CXX object CMakeFiles/ssHelper.dir/notebooks/ss6sdk/Common/Helper/Win/WinMain.cpp.o\n[  5%] Building CXX object CMakeFiles/ssHelper.dir/notebooks/ss6sdk/Common/Helper/IsshTexture.cpp.o\n[  8%] Building CXX object CMakeFiles/ssHelper.dir/notebooks/ss6sdk/Common/Helper/sshTextureBMP.cpp.o\n[ 11%] Building C object CMakeFiles/ssHelper.dir/notebooks/ss6sdk/Common/Helper/stb_image.c.o\n[ 13%] Building CXX object CMakeFiles/ssHelper.dir/notebooks/ss6sdk/Common/Helper/sshScene.cpp.o\n[ 16%] Building CXX object CMakeFiles/ssHelper.dir/notebooks/ss6sdk/Common/Helper/sshTask.cpp.o\n[ 19%] Building CXX object CMakeFiles/ssHelper.dir/notebooks/ss6sdk/Common/Helper/XPFileOpenDlg.cpp.o\n[ 22%] Building CXX object CMakeFiles/ssHelper.dir/notebooks/ss6sdk/Common/Helper/DebugPrint.cpp.o\nLinking CXX static library libssHelper.a\n[ 22%] Built target ssHelper\nScanning dependencies of target ssAnimater\n[ 25%] Building CXX object CMakeFiles/ssAnimater.dir/notebooks/ss6sdk/Common/Animator/ssplayer_cellmap.cpp.o\n[ 27%] Building CXX object CMakeFiles/ssAnimater.dir/notebooks/ss6sdk/Common/Animator/ssplayer_PartState.cpp.o\n[ 30%] Building CXX object CMakeFiles/ssAnimater.dir/notebooks/ss6sdk/Common/Animator/ssplayer_render.cpp.o\n[ 33%] Building CXX object CMakeFiles/ssAnimater.dir/notebooks/ss6sdk/Common/Animator/ssplayer_matrix.cpp.o\n[ 36%] Building CXX object CMakeFiles/ssAnimater.dir/notebooks/ss6sdk/Common/Animator/ssplayer_effect.cpp.o\n[ 38%] Building CXX object CMakeFiles/ssAnimater.dir/notebooks/ss6sdk/Common/Animator/ssplayer_effectfunction.cpp.o\n[ 41%] Building CXX object CMakeFiles/ssAnimater.dir/notebooks/ss6sdk/Common/Animator/ssplayer_animedecode.cpp.o\n[ 44%] Building CXX object CMakeFiles/ssAnimater.dir/notebooks/ss6sdk/Common/Animator/ssplayer_effect2.cpp.o\n[ 47%] Building CXX object CMakeFiles/ssAnimater.dir/notebooks/ss6sdk/Common/Animator/ssplayer_mesh.cpp.o\nLinking CXX static library libssAnimater.a\n[ 47%] Built target ssAnimater\nScanning dependencies of target ssLoader\n[ 50%] Building CXX object CMakeFiles/ssLoader.dir/notebooks/ss6sdk/Common/Loader/tinyxml2/tinyxml2.cpp.o\n[ 52%] Building CXX object CMakeFiles/ssLoader.dir/notebooks/ss6sdk/Common/Loader/babel/babel.cpp.o\n[ 55%] Building CXX object CMakeFiles/ssLoader.dir/notebooks/ss6sdk/Common/Loader/ssloader_sspj.cpp.o\n[ 58%] Building CXX object CMakeFiles/ssLoader.dir/notebooks/ss6sdk/Common/Loader/ssloader_ssae.cpp.o\n[ 61%] Building CXX object CMakeFiles/ssLoader.dir/notebooks/ss6sdk/Common/Loader/ssloader_ssce.cpp.o\n[ 63%] Building CXX object CMakeFiles/ssLoader.dir/notebooks/ss6sdk/Common/Loader/ssloader_ssee.cpp.o\n[ 66%] Building CXX object CMakeFiles/ssLoader.dir/notebooks/ss6sdk/Common/Loader/SsEffectBehavior.cpp.o\n[ 69%] Building CXX object CMakeFiles/ssLoader.dir/notebooks/ss6sdk/Common/Loader/SsEffectElement.cpp.o\n[ 72%] Building CXX object CMakeFiles/ssLoader.dir/notebooks/ss6sdk/Common/Loader/ssstring_uty.cpp.o\n[ 75%] Building CXX object CMakeFiles/ssLoader.dir/notebooks/ss6sdk/Common/Loader/ssarchiver.cpp.o\n[ 77%] Building CXX object CMakeFiles/ssLoader.dir/notebooks/ss6sdk/Common/Loader/sstypes.cpp.o\n[ 80%] Building CXX object CMakeFiles/ssLoader.dir/notebooks/ss6sdk/Common/Loader/ssvalue.cpp.o\n[ 83%] Building CXX object CMakeFiles/ssLoader.dir/notebooks/ss6sdk/Common/Loader/ssInterpolation.cpp.o\n[ 86%] Building CXX object CMakeFiles/ssLoader.dir/notebooks/ss6sdk/Common/Loader/ssattribute.cpp.o\nLinking CXX static library libssLoader.a\n[ 86%] Built target ssLoader\nScanning dependencies of target Ss6Converter\n[ 88%] Building CXX object CMakeFiles/Ss6Converter.dir/Converter/main.cpp.o\n[ 91%] Building CXX object CMakeFiles/Ss6Converter.dir/Converter/BinaryDataWriter.cpp.o\n[ 94%] Building CXX object CMakeFiles/Ss6Converter.dir/Converter/FileUtil.cpp.o\n[ 97%] Building CXX object CMakeFiles/Ss6Converter.dir/Converter/Lump.cpp.o\n[100%] Building CXX object CMakeFiles/Ss6Converter.dir/Converter/LumpExporter.cpp.o\nLinking CXX executable Ss6Converter\n[100%] Built target Ss6Converter\n\nSs6Converter converter version 1.0.0 (Build: Nov 11 2017 04:58:34)\nusage: Ss6Converter Input files(.sspj) ...\n\noption:\n  -h      Display usage.\n  -v      Verbose mode.\n  -o      set output path.\n  -f      set output format.\n\n"
       },
       {
        "name": "stderr",
        "output_type": "stream",
        "text": "cc1: warning: command line option ‘-std=gnu++1y’ is valid for C++/ObjC++ but not for C\n/notebooks/ss6sdk/Common/Animator/ssplayer_PartState.cpp: In member function ‘void SsPartState::destroy()’:\n/notebooks/ss6sdk/Common/Animator/ssplayer_PartState.cpp:26:10: warning: possible problem detected in invocation of delete operator: [-Wdelete-incomplete]\n   delete refEffect;\r\n          ^\n/notebooks/ss6sdk/Common/Animator/ssplayer_PartState.cpp:26:10: warning: invalid use of incomplete type ‘class SsEffectRenderV2’\nIn file included from /notebooks/ss6sdk/Common/Animator/ssplayer_animedecode.h:10:0,\n                 from /notebooks/ss6sdk/Common/Animator/ssplayer_PartState.cpp:2:\n/notebooks/ss6sdk/Common/Animator/ssplayer_PartState.h:10:7: warning: forward declaration of ‘class SsEffectRenderV2’\n class SsEffectRenderV2;\r\n       ^\n/notebooks/ss6sdk/Common/Animator/ssplayer_PartState.cpp:26:10: note: neither the destructor nor the class-specific operator delete will be called, even if they are declared when the class is defined\n   delete refEffect;\r\n          ^\nIn file included from /notebooks/ss6sdk/Common/Animator/ssplayer_effect.h:5:0,\n                 from /notebooks/ss6sdk/Common/Animator/ssplayer_effect.cpp:7:\n/notebooks/ss6sdk/Common/Animator/MersenneTwister.h: In member function ‘long unsigned int CMersenneTwister::genrand_uint32()’:\n/notebooks/ss6sdk/Common/Animator/MersenneTwister.h:108:53: warning: narrowing conversion of ‘((CMersenneTwister*)this)->CMersenneTwister::m_ulMATRIX_A’ from ‘const int’ to ‘long unsigned int’ inside { } [-Wnarrowing]\n   unsigned long aulMag01[2] = { 0x0UL, m_ulMATRIX_A };\r\n                                                     ^\nIn file included from /notebooks/ss6sdk/Common/Animator/ssplayer_effect.h:5:0,\n                 from /notebooks/ss6sdk/Common/Animator/ssplayer_effectfunction.cpp:6:\n/notebooks/ss6sdk/Common/Animator/MersenneTwister.h: In member function ‘long unsigned int CMersenneTwister::genrand_uint32()’:\n/notebooks/ss6sdk/Common/Animator/MersenneTwister.h:108:53: warning: narrowing conversion of ‘((CMersenneTwister*)this)->CMersenneTwister::m_ulMATRIX_A’ from ‘const int’ to ‘long unsigned int’ inside { } [-Wnarrowing]\n   unsigned long aulMag01[2] = { 0x0UL, m_ulMATRIX_A };\r\n                                                     ^\nIn file included from /notebooks/ss6sdk/Common/Animator/ssplayer_effect.h:5:0,\n                 from /notebooks/ss6sdk/Common/Animator/ssplayer_animedecode.cpp:9:\n/notebooks/ss6sdk/Common/Animator/MersenneTwister.h: In member function ‘long unsigned int CMersenneTwister::genrand_uint32()’:\n/notebooks/ss6sdk/Common/Animator/MersenneTwister.h:108:53: warning: narrowing conversion of ‘((CMersenneTwister*)this)->CMersenneTwister::m_ulMATRIX_A’ from ‘const int’ to ‘long unsigned int’ inside { } [-Wnarrowing]\n   unsigned long aulMag01[2] = { 0x0UL, m_ulMATRIX_A };\r\n                                                     ^\nIn file included from /notebooks/ss6sdk/Common/Animator/ssplayer_effect.h:5:0,\n                 from /notebooks/ss6sdk/Common/Animator/ssplayer_effectfunction.h:4,\n                 from /notebooks/ss6sdk/Common/Animator/ssplayer_effect2.cpp:12:\n/notebooks/ss6sdk/Common/Animator/MersenneTwister.h: In member function ‘long unsigned int CMersenneTwister::genrand_uint32()’:\n/notebooks/ss6sdk/Common/Animator/MersenneTwister.h:108:53: warning: narrowing conversion of ‘((CMersenneTwister*)this)->CMersenneTwister::m_ulMATRIX_A’ from ‘const int’ to ‘long unsigned int’ inside { } [-Wnarrowing]\n   unsigned long aulMag01[2] = { 0x0UL, m_ulMATRIX_A };\r\n                                                     ^\nIn file included from /notebooks/ss6sdk/Build/../Common/Animator/ssplayer_effect.h:5:0,\n                 from /notebooks/ss6sdk/Common/Loader/SsEffectElement.cpp:11:\n/notebooks/ss6sdk/Build/../Common/Animator/MersenneTwister.h: In member function ‘long unsigned int CMersenneTwister::genrand_uint32()’:\n/notebooks/ss6sdk/Build/../Common/Animator/MersenneTwister.h:108:53: warning: narrowing conversion of ‘((CMersenneTwister*)this)->CMersenneTwister::m_ulMATRIX_A’ from ‘const int’ to ‘long unsigned int’ inside { } [-Wnarrowing]\n   unsigned long aulMag01[2] = { 0x0UL, m_ulMATRIX_A };\r\n                                                     ^\n/notebooks/ss6sdk/Common/Loader/ssstring_uty.cpp: In function ‘std::string getFullPath(const string&, const string&)’:\n/notebooks/ss6sdk/Common/Loader/ssstring_uty.cpp:101:5: warning: ‘char* getwd(char*)’ is deprecated (declared at /usr/include/unistd.h:525) [-Wdeprecated-declarations]\n     getwd(curPath);\r\n     ^\n/notebooks/ss6sdk/Common/Loader/ssstring_uty.cpp:101:18: warning: ‘char* getwd(char*)’ is deprecated (declared at /usr/include/unistd.h:525) [-Wdeprecated-declarations]\n     getwd(curPath);\r\n                  ^\nlibssLoader.a(ssstring_uty.cpp.o): In function `getFullPath(std::string const&, std::string const&)':\nssstring_uty.cpp:(.text+0x3b3): warning: the `getwd' function is dangerous and should not be used.\n"
       }
      ]
     }
    ]
   },
   "outputs": [],
   "source": [
    "%%bash\n",
    "cd Build\n",
    "rm -f build\n",
    "mkdir build\n",
    "cd build\n",
    "cmake ..\n",
    "make Ss6Converter\n",
    "./Ss6Converter"
   ]
  },
  {
   "cell_type": "markdown",
   "metadata": {
    "heading_collapsed": true,
    "lc_cell_meme": {
     "current": "12c78cc6-c696-11e7-97d0-0242ac110002",
     "next": "d6915b58-c693-11e7-97d0-0242ac110002",
     "previous": "068b635c-b961-11e7-ab32-0242ac110002"
    }
   },
   "source": [
    "# コンバート"
   ]
  },
  {
   "cell_type": "code",
   "execution_count": null,
   "metadata": {
    "hidden": true,
    "lc_cell_meme": {
     "current": "d6915b58-c693-11e7-97d0-0242ac110002",
     "history": [
      {
       "current": "d6915b58-c693-11e7-97d0-0242ac110002",
       "next": null,
       "previous": "068b635c-b961-11e7-ab32-0242ac110002"
      },
      {
       "current": "d6915b58-c693-11e7-97d0-0242ac110002",
       "next": null,
       "previous": "12c78cc6-c696-11e7-97d0-0242ac110002"
      }
     ],
     "next": null,
     "previous": "12c78cc6-c696-11e7-97d0-0242ac110002"
    },
    "pinned_outputs": [
     {
      "execution_count": 7,
      "outputs": [
       {
        "name": "stdout",
        "output_type": "stream",
        "text": "-- allAttributeV6 --\n-rwxr-xr-x 1 root root  191800 Nov 11 04:58 allAttributeV6.ssbp\n-rwxr-xr-x 1 root root 2006930 Nov 11 04:58 allAttributeV6.ssbp.formated.json\n-rwxr-xr-x 1 root root  381694 Nov 11 04:58 allAttributeV6.ssbp.json\n-rwxr-xr-x 1 root root  261866 Nov 11 04:58 allAttributeV6.ssbp.mp\n-- allPartsV6 --\n-rwxr-xr-x 1 root root  92916 Nov 11 04:58 allPartsV6.ssbp\n-rwxr-xr-x 1 root root 937173 Nov 11 04:58 allPartsV6.ssbp.formated.json\n-rwxr-xr-x 1 root root 203153 Nov 11 04:58 allPartsV6.ssbp.json\n-rwxr-xr-x 1 root root 128249 Nov 11 04:58 allPartsV6.ssbp.mp\n-- effect_allcheck --\n-rwxr-xr-x 1 root root  551768 Nov 11 04:58 effect_allcheck.ssbp\n-rwxr-xr-x 1 root root 5594907 Nov 11 04:58 effect_allcheck.ssbp.formated.json\n-rwxr-xr-x 1 root root  825716 Nov 11 04:58 effect_allcheck.ssbp.json\n-rwxr-xr-x 1 root root  591647 Nov 11 04:58 effect_allcheck.ssbp.mp\n"
       },
       {
        "name": "stderr",
        "output_type": "stream",
        "text": "allAttributeV6.sspj\nSpriteStudio 6 SDK Version 1.0.0\nSs6Converter ssbpFormatVersion=6\nconvert start!\nconvert end\nallAttributeV6.sspj\nSpriteStudio 6 SDK Version 1.0.0\nSs6Converter ssbpFormatVersion=6\nconvert start!\nconvert end\nallPartsV6.sspj\nSpriteStudio 6 SDK Version 1.0.0\nSs6Converter ssbpFormatVersion=6\nconvert start!\nconvert end\nallPartsV6.sspj\nSpriteStudio 6 SDK Version 1.0.0\nSs6Converter ssbpFormatVersion=6\nconvert start!\nconvert end\neffect_allcheck.sspj\nSpriteStudio 6 SDK Version 1.0.0\nSs6Converter ssbpFormatVersion=6\nconvert start!\nconvert end\neffect_allcheck.sspj\nSpriteStudio 6 SDK Version 1.0.0\nSs6Converter ssbpFormatVersion=6\nconvert start!\nconvert end\n"
       }
      ]
     }
    ]
   },
   "outputs": [],
   "source": [
    "%%bash\n",
    "\n",
    "echo \"-- allAttributeV6 --\"\n",
    "cd Build/TestData/allAttributeV6\n",
    "../../build/Ss6Converter allAttributeV6.sspj\n",
    "../../build/Ss6Converter -f json allAttributeV6.sspj\n",
    "python -m json.tool < allAttributeV6.ssbp.json > allAttributeV6.ssbp.formated.json\n",
    "json2msgpack -bli allAttributeV6.ssbp.json -o allAttributeV6.ssbp.mp\n",
    "ls -la *.ssbp*\n",
    "\n",
    "echo \"-- allPartsV6 --\"\n",
    "cd ../allPartsV6\n",
    "../../build/Ss6Converter allPartsV6.sspj\n",
    "../../build/Ss6Converter -f json allPartsV6.sspj\n",
    "python -m json.tool < allPartsV6.ssbp.json > allPartsV6.ssbp.formated.json\n",
    "json2msgpack -bli allPartsV6.ssbp.json -o allPartsV6.ssbp.mp\n",
    "ls -la *.ssbp*\n",
    "\n",
    "echo \"-- effect_allcheck --\"\n",
    "cd ../effect_allcheck\n",
    "../../build/Ss6Converter effect_allcheck.sspj\n",
    "../../build/Ss6Converter -f json effect_allcheck.sspj\n",
    "python -m json.tool < effect_allcheck.ssbp.json > effect_allcheck.ssbp.formated.json\n",
    "json2msgpack -bli effect_allcheck.ssbp.json -o effect_allcheck.ssbp.mp\n",
    "ls -la *.ssbp*\n"
   ]
  }
 ],
 "metadata": {
  "kernelspec": {
   "display_name": "Python 3",
   "language": "python",
   "name": "python3"
  },
  "language_info": {
   "codemirror_mode": {
    "name": "ipython",
    "version": 3
   },
   "file_extension": ".py",
   "mimetype": "text/x-python",
   "name": "python",
   "nbconvert_exporter": "python",
   "pygments_lexer": "ipython3",
   "version": "3.5.2"
  },
  "lc_notebook_meme": {
   "current": "fc8f76a6-b8aa-11e7-9d3a-0242ac110002",
   "lc_server_signature": {
    "current": {
     "notebook_dir": "/notebooks",
     "notebook_path": "/ss6sdk",
     "server_url": "http://localhost:8888/",
     "signature_id": "91b82bca-c69c-11e7-a4b8-0242ac110002"
    },
    "history": [
     {
      "notebook_dir": "/notebooks",
      "notebook_path": "/",
      "server_url": "http://localhost:8888/",
      "signature_id": "a0960856-b8aa-11e7-9d3a-0242ac110002"
     },
     {
      "notebook_dir": "/notebooks",
      "notebook_path": "/",
      "server_url": "http://localhost:8888/",
      "signature_id": "39190d04-b945-11e7-8edb-0242ac110002"
     },
     {
      "notebook_dir": "/notebooks",
      "notebook_path": "/",
      "server_url": "http://localhost:8888/",
      "signature_id": "c8b831d2-b95f-11e7-ab32-0242ac110002"
     },
     {
      "notebook_dir": "/notebooks",
      "notebook_path": "/ss6sdk",
      "server_url": "http://localhost:8888/",
      "signature_id": "2a48f712-c449-11e7-bb2c-0242ac110002"
     },
     {
      "notebook_dir": "/notebooks",
      "notebook_path": "/ss6sdk",
      "server_url": "http://localhost:8888/",
      "signature_id": "5d426b4e-c50c-11e7-bb94-0242ac110002"
     },
     {
      "notebook_dir": "/notebooks",
      "notebook_path": "/ss6sdk",
      "server_url": "http://localhost:8888/",
      "signature_id": "0ff4d732-c692-11e7-97d0-0242ac110002"
     }
    ]
   }
  },
  "toc": {
   "nav_menu": {},
   "number_sections": true,
   "sideBar": true,
   "skip_h1_title": false,
   "toc_cell": false,
   "toc_position": {},
   "toc_section_display": "block",
   "toc_window_display": false
  }
 },
 "nbformat": 4,
 "nbformat_minor": 2
}
